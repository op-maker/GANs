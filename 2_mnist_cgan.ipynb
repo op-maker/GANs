{
  "cells": [
    {
      "cell_type": "markdown",
      "source": [
        "# Generative Models\n",
        "***\n",
        "\n",
        "**MIPT, Autumn 2022, MSc course**\n"
      ],
      "metadata": {
        "collapsed": false,
        "id": "f4k1fxQDcr40"
      }
    },
    {
      "cell_type": "markdown",
      "source": [
        "## Assignment 2\n",
        "\n",
        "***\n",
        "\n",
        "\n",
        "*Authored by Arip Asadulaev & Manh Lab*\n",
        "\n",
        "*Adapted by Rostislav Korst*\n",
        "\n",
        "***\n"
      ],
      "metadata": {
        "collapsed": false,
        "id": "AovtMOK4cr41"
      }
    },
    {
      "cell_type": "markdown",
      "source": [
        "Let's continue our dive into the classical generative models! Today's goal is to implement Conditional GAN for MNIST dataset. Conditional image generation is the task of generating new images conditional on their class. Feel free to rewrite this skeleton or reuse your code from the previous assignment.\n",
        "\n",
        "Good luck!"
      ],
      "metadata": {
        "collapsed": false,
        "id": "6v6J6KGIcr42"
      }
    },
    {
      "cell_type": "markdown",
      "source": [
        "## 1. Conditional GAN\n",
        "*Source: <a href=\"https://arxiv.org/pdf/1411.1784.pdf\" target=\"_blank\">Mirza, Mehdi, and Simon Osindero. \"Conditional generative adversarial nets.\" arXiv preprint arXiv:1411.1784 (2014)</a>.*"
      ],
      "metadata": {
        "collapsed": false,
        "id": "TyY7AOWWcr43"
      }
    },
    {
      "cell_type": "markdown",
      "source": [
        "![cgan.png](data:image/png;base64,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)"
      ],
      "metadata": {
        "id": "yDZGxuSDebTT"
      }
    },
    {
      "cell_type": "markdown",
      "source": [
        "Picture source: https://medium.datadriveninvestor.com/an-introduction-to-conditional-gans-cgans-727d1f5bb011"
      ],
      "metadata": {
        "id": "fUDfy6sLe1wt"
      }
    },
    {
      "cell_type": "markdown",
      "metadata": {
        "id": "eLj6X3bVn3eT"
      },
      "source": [
        "### Imports"
      ]
    },
    {
      "cell_type": "code",
      "execution_count": 2,
      "outputs": [],
      "source": [
        "import os\n",
        "\n",
        "import cv2\n",
        "import matplotlib.pyplot as plt\n",
        "import numpy as np\n",
        "import torch\n",
        "import torch.nn as nn\n",
        "import torch.nn.functional as F\n",
        "import torchvision\n",
        "from IPython.display import Image\n",
        "from torch.utils.data import DataLoader\n",
        "from torchvision.datasets import MNIST\n",
        "from torchvision.transforms import Compose, Normalize, ToTensor\n",
        "from torchvision.utils import save_image\n",
        "from tqdm import tqdm\n",
        "\n",
        "%matplotlib inline\n",
        "plt.style.use(\"ggplot\")"
      ],
      "metadata": {
        "id": "vhY6OCLYcr4_"
      }
    },
    {
      "cell_type": "markdown",
      "source": [
        "### Some parameters"
      ],
      "metadata": {
        "collapsed": false,
        "id": "1uBc--yZcr5C"
      }
    },
    {
      "cell_type": "code",
      "execution_count": 3,
      "metadata": {
        "id": "nLFY9bjosRUf",
        "pycharm": {
          "is_executing": true
        }
      },
      "outputs": [],
      "source": [
        "hidden_size = 256\n",
        "batch_size = 100\n",
        "LR = 0.0002\n",
        "num_epochs = 300\n",
        "latent_size = 64  # input random input vector latent\n",
        "image_size = 784  # 28*28 flatten\n",
        "device = \"cuda\" if torch.cuda.is_available() else \"cpu\"\n",
        "number_class = 10\n",
        "\n",
        "if device == \"cuda\":\n",
        "    !nvidia-smi\n",
        "\n",
        "sample_dir = \"./images\"\n",
        "if not os.path.exists(sample_dir):\n",
        "    os.makedirs(sample_dir)"
      ]
    },
    {
      "cell_type": "markdown",
      "source": [
        "### Load dataset and create dataloader"
      ],
      "metadata": {
        "collapsed": false,
        "id": "oJhkew5Fcr5E"
      }
    },
    {
      "cell_type": "code",
      "execution_count": 4,
      "outputs": [
        {
          "output_type": "stream",
          "name": "stdout",
          "text": [
            "Downloading http://yann.lecun.com/exdb/mnist/train-images-idx3-ubyte.gz\n",
            "Downloading http://yann.lecun.com/exdb/mnist/train-images-idx3-ubyte.gz to data/MNIST/raw/train-images-idx3-ubyte.gz\n"
          ]
        },
        {
          "output_type": "display_data",
          "data": {
            "text/plain": [
              "  0%|          | 0/9912422 [00:00<?, ?it/s]"
            ],
            "application/vnd.jupyter.widget-view+json": {
              "version_major": 2,
              "version_minor": 0,
              "model_id": "027e44f5035b4d718df699c2d922db0e"
            }
          },
          "metadata": {}
        },
        {
          "output_type": "stream",
          "name": "stdout",
          "text": [
            "Extracting data/MNIST/raw/train-images-idx3-ubyte.gz to data/MNIST/raw\n",
            "\n",
            "Downloading http://yann.lecun.com/exdb/mnist/train-labels-idx1-ubyte.gz\n",
            "Downloading http://yann.lecun.com/exdb/mnist/train-labels-idx1-ubyte.gz to data/MNIST/raw/train-labels-idx1-ubyte.gz\n"
          ]
        },
        {
          "output_type": "display_data",
          "data": {
            "text/plain": [
              "  0%|          | 0/28881 [00:00<?, ?it/s]"
            ],
            "application/vnd.jupyter.widget-view+json": {
              "version_major": 2,
              "version_minor": 0,
              "model_id": "a016aabd36e7456dbf2c9657121adf96"
            }
          },
          "metadata": {}
        },
        {
          "output_type": "stream",
          "name": "stdout",
          "text": [
            "Extracting data/MNIST/raw/train-labels-idx1-ubyte.gz to data/MNIST/raw\n",
            "\n",
            "Downloading http://yann.lecun.com/exdb/mnist/t10k-images-idx3-ubyte.gz\n",
            "Downloading http://yann.lecun.com/exdb/mnist/t10k-images-idx3-ubyte.gz to data/MNIST/raw/t10k-images-idx3-ubyte.gz\n"
          ]
        },
        {
          "output_type": "display_data",
          "data": {
            "text/plain": [
              "  0%|          | 0/1648877 [00:00<?, ?it/s]"
            ],
            "application/vnd.jupyter.widget-view+json": {
              "version_major": 2,
              "version_minor": 0,
              "model_id": "629d0af1a9a74a059e0e2f575a98bf35"
            }
          },
          "metadata": {}
        },
        {
          "output_type": "stream",
          "name": "stdout",
          "text": [
            "Extracting data/MNIST/raw/t10k-images-idx3-ubyte.gz to data/MNIST/raw\n",
            "\n",
            "Downloading http://yann.lecun.com/exdb/mnist/t10k-labels-idx1-ubyte.gz\n",
            "Downloading http://yann.lecun.com/exdb/mnist/t10k-labels-idx1-ubyte.gz to data/MNIST/raw/t10k-labels-idx1-ubyte.gz\n"
          ]
        },
        {
          "output_type": "display_data",
          "data": {
            "text/plain": [
              "  0%|          | 0/4542 [00:00<?, ?it/s]"
            ],
            "application/vnd.jupyter.widget-view+json": {
              "version_major": 2,
              "version_minor": 0,
              "model_id": "bc6c79c7413149adaabf72f204e747bb"
            }
          },
          "metadata": {}
        },
        {
          "output_type": "stream",
          "name": "stdout",
          "text": [
            "Extracting data/MNIST/raw/t10k-labels-idx1-ubyte.gz to data/MNIST/raw\n",
            "\n"
          ]
        },
        {
          "output_type": "stream",
          "name": "stderr",
          "text": [
            "/usr/local/lib/python3.8/dist-packages/torch/utils/data/dataloader.py:554: UserWarning: This DataLoader will create 4 worker processes in total. Our suggested max number of worker in current system is 2, which is smaller than what this DataLoader is going to create. Please be aware that excessive worker creation might get DataLoader running slow or even freeze, lower the worker number to avoid potential slowness/freeze if necessary.\n",
            "  warnings.warn(_create_warning_msg(\n"
          ]
        }
      ],
      "source": [
        "# Load MNIST dataset\n",
        "mnist = MNIST(root='data', \n",
        "              train=True, \n",
        "              download=True,\n",
        "              transform=Compose([ToTensor(), Normalize(mean=(0.5,), std=(0.5,))]))\n",
        "\n",
        "dataloader = DataLoader(mnist, batch_size=batch_size, shuffle=True, num_workers=4)"
      ],
      "metadata": {
        "id": "aHOx88hDcr5F",
        "colab": {
          "base_uri": "https://localhost:8080/",
          "height": 477,
          "referenced_widgets": [
            "027e44f5035b4d718df699c2d922db0e",
            "319629acb7f948918abe0d35edc55c1d",
            "f10e7022abb642eabf1274a640cfe4bf",
            "2193078b188e4eb38560ff03e6b291f7",
            "1417bc66358f49eca244590455404863",
            "f00fdea7cf6a44539b73115c3681a402",
            "c823c4403a0a4254820c44648c890ae2",
            "f313378caf5441e6bee166239baecff7",
            "a5b01d456cb042bb8d597e0d971d37f3",
            "49fa410e278a498db66eb3941fd9d9db",
            "298ab204fc1f463484decdfc39d8d993",
            "a016aabd36e7456dbf2c9657121adf96",
            "618485874cb541f98c199afaec3ce044",
            "5a998b1ee3584f0eb30b6c2b2cce21dd",
            "9dcd8cabbc104988871061a60e4c8fc2",
            "88dd268cfdff476d9d067763872dfeb8",
            "9e913c95452044cf8f0a8c8cec14a5e5",
            "1d018c9551d94f008bdafaf4b7b5d5bc",
            "990d47d466c749f3a84e9fa703acce4d",
            "053f835d93c5443e9310c767e9ac8f34",
            "a9aac6ca42604760b241f8e557904a07",
            "28e9fe457c9f4bc59ec8385c627e4eb1",
            "629d0af1a9a74a059e0e2f575a98bf35",
            "cd636d28563b4d52aec2427ce19135bc",
            "c1d59c69346f4deab519ad1702f0ca49",
            "fdc35665281445adb220c36ded4a7a44",
            "2dd880b2079f46e98e111d81b57eab09",
            "01ff0966a2d144788fc2a0969e05bd4e",
            "528fd657629241c996b7965756008295",
            "09c560b3a5554baab48bfa297543b4a4",
            "c813d0bef65746d9a8b93efa090c9480",
            "b3759672de224acb8758e8dc9f7483e4",
            "7ed18451a5ec4bbfa5896c75191e21c1",
            "bc6c79c7413149adaabf72f204e747bb",
            "7d92e78f4a3345ddae08e310affce1c2",
            "72231cb69d43455c8fcc5fe159cda462",
            "53c7f3232494423190edc7f6470191b0",
            "e885b079bc58448587a02e8e06ce4f2c",
            "e16d984b363045a5836c1423b0ab2fbd",
            "66d490c7c71446f2ba5225f039470e0d",
            "08fdca4a12a7489eaafd047b914bdeb2",
            "8115dc53775a46df9829b4a0f27af5d9",
            "523b896e85e04140ab8260af4bc27a46",
            "5b924c79a6824633884ec51d5c424f90"
          ]
        },
        "outputId": "5f522e7d-ffdc-48a7-d83d-0d15ca371efb"
      }
    },
    {
      "cell_type": "code",
      "source": [
        "# plot pixels distribution\n",
        "img, label = mnist[0]\n",
        "print('Label: ', label)\n",
        "# Your code here\n",
        "plt.hist(img[:, 5:15, 5:15].flatten(), bins=15)"
      ],
      "metadata": {
        "id": "k70eD8o-gxYn",
        "outputId": "2beba7ae-342a-42f0-f247-6df576a19bfb",
        "colab": {
          "base_uri": "https://localhost:8080/",
          "height": 404
        }
      },
      "execution_count": 5,
      "outputs": [
        {
          "output_type": "stream",
          "name": "stdout",
          "text": [
            "Label:  5\n"
          ]
        },
        {
          "output_type": "execute_result",
          "data": {
            "text/plain": [
              "(array([55.,  4.,  3.,  0.,  3.,  2.,  1.,  0.,  1.,  3.,  1.,  3.,  2.,\n",
              "         1., 21.]),\n",
              " array([-1.        , -0.86771244, -0.7354248 , -0.60313725, -0.47084966,\n",
              "        -0.3385621 , -0.20627451, -0.07398693,  0.05830066,  0.19058824,\n",
              "         0.32287583,  0.4551634 ,  0.587451  ,  0.71973854,  0.85202616,\n",
              "         0.9843137 ], dtype=float32),\n",
              " <a list of 15 Patch objects>)"
            ]
          },
          "metadata": {},
          "execution_count": 5
        },
        {
          "output_type": "display_data",
          "data": {
            "text/plain": [
              "<Figure size 432x288 with 1 Axes>"
            ],
            "image/png": "[encoded data removed]"
          },
          "metadata": {}
        }
      ]
    },
    {
      "cell_type": "code",
      "execution_count": 6,
      "metadata": {
        "id": "AJ99uFMbs0Tv"
      },
      "outputs": [],
      "source": [
        "# denormalization image from range (-1)-1 to range 0-1 to display it\n",
        "def denorm(x):\n",
        "    # Your code here\n",
        "    image = (x + 1.) / 2\n",
        "    return image"
      ]
    },
    {
      "cell_type": "code",
      "execution_count": 7,
      "metadata": {
        "colab": {
          "base_uri": "https://localhost:8080/",
          "height": 300
        },
        "id": "u6Jk2l71s60n",
        "outputId": "74724ab0-5489-4a1e-e7c0-0f0f2b3cfa48"
      },
      "outputs": [
        {
          "output_type": "stream",
          "name": "stdout",
          "text": [
            "Label:  5\n",
            "Label: 5\n"
          ]
        },
        {
          "output_type": "display_data",
          "data": {
            "text/plain": [
              "<Figure size 432x288 with 1 Axes>"
            ],
            "image/png": "[encoded data removed]"
          },
          "metadata": {}
        }
      ],
      "source": [
        "# Let's plot something\n",
        "img, label = mnist[0]\n",
        "print(\"Label: \", label)\n",
        "\n",
        "img_norm = denorm(img)\n",
        "plt.imshow(img_norm[0], cmap=\"gray\")\n",
        "print(\"Label:\", label)"
      ]
    },
    {
      "cell_type": "markdown",
      "source": [
        "### Define the models"
      ],
      "metadata": {
        "collapsed": false,
        "id": "FKPZLBWncr5I"
      }
    },
    {
      "cell_type": "markdown",
      "source": [
        "Define the Discriminator network, the Generator network with additional input for condition"
      ],
      "metadata": {
        "collapsed": false,
        "id": "bq0lh4uvcr5I"
      }
    },
    {
      "cell_type": "code",
      "execution_count": 8,
      "metadata": {
        "id": "5mqLi2BcuqHh"
      },
      "outputs": [],
      "source": [
        "number_class = 10\n",
        "embedding_dim = 10\n",
        "\n",
        "class Generator(nn.Module):\n",
        "    def __init__(\n",
        "        self,\n",
        "        latent_size,\n",
        "        image_size,\n",
        "        hidden_size,\n",
        "        number_class,\n",
        "        embedding_dim\n",
        "    ): # pass number_class and use nn.Embedding here\n",
        "        # linear1 - relu - linear2 - relu - linear3 - tanh\n",
        "        super(Generator, self).__init__()\n",
        "        \n",
        "        self.class_embedding = nn.Embedding(\n",
        "            num_embeddings=number_class,\n",
        "            embedding_dim=embedding_dim\n",
        "        )\n",
        "        self.linear_1 = nn.Linear(latent_size + embedding_dim, hidden_size)\n",
        "        self.linear_2 = nn.Linear(hidden_size, hidden_size)\n",
        "        self.linear_3 = nn.Linear(hidden_size, image_size)\n",
        "        \n",
        "        self.relu = nn.ReLU()\n",
        "        self.tanh = nn.Tanh()\n",
        "\n",
        "    def forward(self, x, label):\n",
        "        \n",
        "        label_emb = self.class_embedding(label).squeeze()\n",
        "        x = torch.cat([x, label_emb], dim=1)\n",
        "        \n",
        "        x = self.relu(self.linear_1(x))\n",
        "        x = self.relu(self.linear_2(x))\n",
        "        x = self.tanh(self.linear_3(x))\n",
        "        \n",
        "        return x\n",
        "\n",
        "\n",
        "class Discriminator(nn.Module):\n",
        "    def __init__(\n",
        "        self,\n",
        "        image_size,\n",
        "        hidden_size,\n",
        "        number_class,\n",
        "        embedding_dim\n",
        "        ): # pass number_class and use nn.Embedding here\n",
        "        # linear1 - leaky_relu - linear2 - leaky_relu - linear3 - sigmoid\n",
        "        super(Discriminator, self).__init__()\n",
        "        self.class_embedding = nn.Embedding(\n",
        "            num_embeddings=number_class,\n",
        "            embedding_dim=embedding_dim\n",
        "        )\n",
        "        \n",
        "        self.linear_1 = nn.Linear(image_size + embedding_dim, hidden_size)\n",
        "        self.linear_2 = nn.Linear(hidden_size, hidden_size)\n",
        "        self.linear_3 = nn.Linear(hidden_size, 1)\n",
        "        \n",
        "        self.relu = nn.ReLU()\n",
        "        self.sigmoid = nn.Sigmoid()\n",
        "        \n",
        "\n",
        "    def forward(self, x, label):\n",
        "        # concat label embedding with input image\n",
        "        \n",
        "        label_emb = self.class_embedding(label).squeeze()\n",
        "        \n",
        "        x = torch.cat([x, label_emb], dim=1)\n",
        "\n",
        "        x = self.relu(self.linear_1(x))\n",
        "        x = self.relu(self.linear_2(x))\n",
        "        x = self.sigmoid(self.linear_3(x))\n",
        "\n",
        "        return x"
      ]
    },
    {
      "cell_type": "markdown",
      "source": [
        "Answer the question: why the last layer of generator is $Tanh$ and the last discriminator layer is $Sigmoid$?"
      ],
      "metadata": {
        "id": "YEWe1jQtjO_a"
      }
    },
    {
      "cell_type": "code",
      "execution_count": 9,
      "metadata": {
        "id": "3UmIcluuuspN"
      },
      "outputs": [],
      "source": [
        "# create new Generator model\n",
        "\n",
        "G = Generator(\n",
        "    latent_size=latent_size,\n",
        "    image_size=image_size,\n",
        "    hidden_size=hidden_size,\n",
        "    number_class=number_class,\n",
        "    embedding_dim=embedding_dim,\n",
        ")\n",
        "\n",
        "# create new Discriminator model\n",
        "\n",
        "D = Discriminator(\n",
        "    image_size=image_size,\n",
        "    hidden_size=hidden_size,\n",
        "    number_class=number_class,\n",
        "    embedding_dim=embedding_dim\n",
        ")"
      ]
    },
    {
      "cell_type": "code",
      "execution_count": 10,
      "metadata": {
        "id": "NIbCDXeWU4me"
      },
      "outputs": [],
      "source": [
        "# define the criterion is nn.BCELoss()\n",
        "criterion = nn.BCELoss()\n",
        "\n",
        "## Define the optimizer for generator and discrimator\n",
        "d_optimizer = torch.optim.AdamW(D.parameters(), lr=LR)\n",
        "g_optimizer = torch.optim.AdamW(G.parameters(), lr=LR)"
      ]
    },
    {
      "cell_type": "markdown",
      "metadata": {
        "id": "iSuQWvwfGIz1"
      },
      "source": [
        "### Discriminator Training"
      ]
    },
    {
      "cell_type": "code",
      "execution_count": 11,
      "metadata": {
        "id": "QpDUg561u76k"
      },
      "outputs": [],
      "source": [
        "def reset_grad():\n",
        "    ## reset gradient for optimizer of generator and discrimator\n",
        "    d_optimizer.zero_grad()\n",
        "    g_optimizer.zero_grad()\n",
        "\n",
        "\n",
        "def train_discriminator(\n",
        "    D_model,\n",
        "    G_model,\n",
        "    images,\n",
        "    label):\n",
        "    # Loss for real images\n",
        "    real_labels = torch.ones(batch_size, 1).to(device)\n",
        "    outputs = D_model(images, label)\n",
        "    real_score = outputs.squeeze().unsqueeze(1)\n",
        "    \n",
        "    d_loss_real = criterion(real_score, real_labels)\n",
        "\n",
        "    # Loss for fake images\n",
        "    z = torch.randn(batch_size, latent_size).to(device)\n",
        "    fake_labels = torch.zeros(batch_size, 1).to(device)\n",
        "    \n",
        "    fake_images = G_model(z, label)\n",
        "    outputs = D_model(fake_images, label)\n",
        "    fake_score = outputs.squeeze().unsqueeze(1)\n",
        "    d_loss_fake = criterion(fake_score, fake_labels)\n",
        "    \n",
        "    # Combine losses\n",
        "    d_loss = d_loss_real + d_loss_fake\n",
        "\n",
        "    # Reset gradients\n",
        "    reset_grad()\n",
        "\n",
        "    # Compute gradients\n",
        "    d_loss.backward()\n",
        "    \n",
        "    # Adjust the parameters using backprop\n",
        "    d_optimizer.step()\n",
        "\n",
        "    return d_loss, real_score, fake_score"
      ]
    },
    {
      "cell_type": "markdown",
      "metadata": {
        "id": "Xozik5p6GPY-"
      },
      "source": [
        "### Generator Training"
      ]
    },
    {
      "cell_type": "code",
      "execution_count": 12,
      "metadata": {
        "id": "W2ObcPjTvBgw"
      },
      "outputs": [],
      "source": [
        "def train_generator(G_model, D_model):\n",
        "    # Sample random vector\n",
        "    z = torch.randn(batch_size, latent_size).to(device)\n",
        "    gens_label = torch.randint(0, 10, (batch_size, 1)).to(device)\n",
        "    labels = torch.ones(batch_size, 1).to(device)\n",
        "\n",
        "    # Generate fake images and calculate loss\n",
        "    fake_images = G_model(z, gens_label)\n",
        "    outputs = D_model(fake_images, gens_label)\n",
        "    fake_score = outputs.squeeze().unsqueeze(1)\n",
        "    g_loss = criterion(fake_score, labels)\n",
        "    \n",
        "\n",
        "    # Backprop and optimize\n",
        "    reset_grad()\n",
        "    \n",
        "    g_loss.backward()\n",
        "    g_optimizer.step()\n",
        "\n",
        "    return g_loss, fake_images"
      ]
    },
    {
      "cell_type": "markdown",
      "metadata": {
        "id": "B6PjuMssQkkL"
      },
      "source": [
        "### Start the training proccess"
      ]
    },
    {
      "cell_type": "code",
      "execution_count": 13,
      "metadata": {
        "id": "YJPoUoJzG8RC"
      },
      "outputs": [],
      "source": [
        "def save_fake_images(G_model, index):\n",
        "    # Sample random vector\n",
        "    sample_vectors = torch.Tensor(np.random.normal(0, 1, (batch_size, latent_size))).to(\n",
        "        device\n",
        "    )\n",
        "    gens_label = torch.tensor([[i] * 10 for i in range(10)]).view(-1, 1).to(device)\n",
        "    # Generate images with Generator\n",
        "    fake_images = G_model(sample_vectors, gens_label)\n",
        "    fake_images = fake_images.reshape(fake_images.size(0), 1, 28, 28)\n",
        "    fake_fname = 'fake_images-{0:0=4d}.png'.format(index)\n",
        "    print('Saving', fake_fname)\n",
        "    save_image(denorm(fake_images), os.path.join(sample_dir, fake_fname), nrow=10)"
      ]
    },
    {
      "cell_type": "code",
      "execution_count": 14,
      "metadata": {
        "id": "9jMuzvUtvD26",
        "pycharm": {
          "is_executing": true
        },
        "colab": {
          "base_uri": "https://localhost:8080/",
          "height": 1000
        },
        "outputId": "65e874ae-9716-4787-8766-4115e4dd45f5"
      },
      "outputs": [
        {
          "metadata": {
            "tags": null
          },
          "name": "stderr",
          "output_type": "stream",
          "text": [
            "\r  0%|          | 0/300 [00:00<?, ?it/s]"
          ]
        },
        {
          "metadata": {
            "tags": null
          },
          "name": "stdout",
          "output_type": "stream",
          "text": [
            "Epoch [0/300], Step [200/600], d_loss: 0.0756, g_loss: 3.6007, D(x): 0.98, D(G(z)): 0.05\n",
            "Epoch [0/300], Step [400/600], d_loss: 0.1499, g_loss: 4.7886, D(x): 0.97, D(G(z)): 0.10\n"
          ]
        },
        {
          "metadata": {
            "tags": null
          },
          "name": "stderr",
          "output_type": "stream",
          "text": [
            "\r  0%|          | 1/300 [00:25<2:05:41, 25.22s/it]"
          ]
        },
        {
          "metadata": {
            "tags": null
          },
          "name": "stdout",
          "output_type": "stream",
          "text": [
            "Epoch [0/300], Step [600/600], d_loss: 0.0359, g_loss: 4.6153, D(x): 1.00, D(G(z)): 0.03\n",
            "Saving fake_images-0001.png\n",
            "Epoch [1/300], Step [200/600], d_loss: 0.2004, g_loss: 4.2770, D(x): 0.93, D(G(z)): 0.06\n",
            "Epoch [1/300], Step [400/600], d_loss: 1.8130, g_loss: 1.9560, D(x): 0.47, D(G(z)): 0.16\n"
          ]
        },
        {
          "metadata": {
            "tags": null
          },
          "name": "stderr",
          "output_type": "stream",
          "text": [
            "\r  1%|          | 2/300 [00:49<2:01:49, 24.53s/it]"
          ]
        },
        {
          "metadata": {
            "tags": null
          },
          "name": "stdout",
          "output_type": "stream",
          "text": [
            "Epoch [1/300], Step [600/600], d_loss: 0.3511, g_loss: 3.1037, D(x): 0.87, D(G(z)): 0.13\n",
            "Saving fake_images-0002.png\n",
            "Epoch [2/300], Step [200/600], d_loss: 0.1716, g_loss: 3.4779, D(x): 0.97, D(G(z)): 0.13\n",
            "Epoch [2/300], Step [400/600], d_loss: 0.5860, g_loss: 2.4391, D(x): 0.87, D(G(z)): 0.31\n"
          ]
        },
        {
          "metadata": {
            "tags": null
          },
          "name": "stderr",
          "output_type": "stream",
          "text": [
            "\r  1%|          | 3/300 [01:15<2:04:46, 25.21s/it]"
          ]
        },
        {
          "metadata": {
            "tags": null
          },
          "name": "stdout",
          "output_type": "stream",
          "text": [
            "Epoch [2/300], Step [600/600], d_loss: 0.9723, g_loss: 2.1239, D(x): 0.73, D(G(z)): 0.32\n",
            "Saving fake_images-0003.png\n",
            "Epoch [3/300], Step [200/600], d_loss: 0.8617, g_loss: 1.5987, D(x): 0.78, D(G(z)): 0.36\n",
            "Epoch [3/300], Step [400/600], d_loss: 0.2049, g_loss: 3.9444, D(x): 0.94, D(G(z)): 0.09\n"
          ]
        },
        {
          "metadata": {
            "tags": null
          },
          "name": "stderr",
          "output_type": "stream",
          "text": [
            "\r  1%|▏         | 4/300 [01:40<2:04:07, 25.16s/it]"
          ]
        },
        {
          "metadata": {
            "tags": null
          },
          "name": "stdout",
          "output_type": "stream",
          "text": [
            "Epoch [3/300], Step [600/600], d_loss: 0.6503, g_loss: 2.2857, D(x): 0.83, D(G(z)): 0.29\n",
            "Saving fake_images-0004.png\n",
            "Epoch [4/300], Step [200/600], d_loss: 0.9221, g_loss: 2.9936, D(x): 0.75, D(G(z)): 0.27\n",
            "Epoch [4/300], Step [400/600], d_loss: 0.4541, g_loss: 2.1513, D(x): 0.83, D(G(z)): 0.19\n"
          ]
        },
        {
          "metadata": {
            "tags": null
          },
          "name": "stderr",
          "output_type": "stream",
          "text": [
            "\r  2%|▏         | 5/300 [02:05<2:04:27, 25.31s/it]"
          ]
        },
        {
          "metadata": {
            "tags": null
          },
          "name": "stdout",
          "output_type": "stream",
          "text": [
            "Epoch [4/300], Step [600/600], d_loss: 1.8527, g_loss: 0.8282, D(x): 0.44, D(G(z)): 0.40\n",
            "Saving fake_images-0005.png\n",
            "Epoch [5/300], Step [200/600], d_loss: 1.0995, g_loss: 1.5309, D(x): 0.69, D(G(z)): 0.43\n",
            "Epoch [5/300], Step [400/600], d_loss: 3.3994, g_loss: 1.0341, D(x): 0.36, D(G(z)): 0.65\n"
          ]
        },
        {
          "metadata": {
            "tags": null
          },
          "name": "stderr",
          "output_type": "stream",
          "text": [
            "\r  2%|▏         | 6/300 [02:30<2:03:01, 25.11s/it]"
          ]
        },
        {
          "metadata": {
            "tags": null
          },
          "name": "stdout",
          "output_type": "stream",
          "text": [
            "Epoch [5/300], Step [600/600], d_loss: 1.3622, g_loss: 1.0802, D(x): 0.54, D(G(z)): 0.26\n",
            "Saving fake_images-0006.png\n",
            "Epoch [6/300], Step [200/600], d_loss: 0.4825, g_loss: 2.4274, D(x): 0.81, D(G(z)): 0.14\n",
            "Epoch [6/300], Step [400/600], d_loss: 0.7204, g_loss: 2.0601, D(x): 0.73, D(G(z)): 0.21\n"
          ]
        },
        {
          "metadata": {
            "tags": null
          },
          "name": "stderr",
          "output_type": "stream",
          "text": [
            "\r  2%|▏         | 7/300 [02:55<2:02:05, 25.00s/it]"
          ]
        },
        {
          "metadata": {
            "tags": null
          },
          "name": "stdout",
          "output_type": "stream",
          "text": [
            "Epoch [6/300], Step [600/600], d_loss: 1.6808, g_loss: 1.0881, D(x): 0.62, D(G(z)): 0.55\n",
            "Saving fake_images-0007.png\n",
            "Epoch [7/300], Step [200/600], d_loss: 0.6221, g_loss: 1.9930, D(x): 0.76, D(G(z)): 0.23\n",
            "Epoch [7/300], Step [400/600], d_loss: 1.7479, g_loss: 1.1644, D(x): 0.52, D(G(z)): 0.50\n"
          ]
        },
        {
          "metadata": {
            "tags": null
          },
          "name": "stderr",
          "output_type": "stream",
          "text": [
            "\r  3%|▎         | 8/300 [03:24<2:07:42, 26.24s/it]"
          ]
        },
        {
          "metadata": {
            "tags": null
          },
          "name": "stdout",
          "output_type": "stream",
          "text": [
            "Epoch [7/300], Step [600/600], d_loss: 1.4177, g_loss: 0.9494, D(x): 0.55, D(G(z)): 0.48\n",
            "Saving fake_images-0008.png\n",
            "Epoch [8/300], Step [200/600], d_loss: 1.3917, g_loss: 1.3986, D(x): 0.45, D(G(z)): 0.23\n",
            "Epoch [8/300], Step [400/600], d_loss: 1.7622, g_loss: 1.0581, D(x): 0.55, D(G(z)): 0.56\n"
          ]
        },
        {
          "metadata": {
            "tags": null
          },
          "name": "stderr",
          "output_type": "stream",
          "text": [
            "\r  3%|▎         | 9/300 [03:49<2:04:59, 25.77s/it]"
          ]
        },
        {
          "metadata": {
            "tags": null
          },
          "name": "stdout",
          "output_type": "stream",
          "text": [
            "Epoch [8/300], Step [600/600], d_loss: 0.5414, g_loss: 1.7767, D(x): 0.80, D(G(z)): 0.23\n",
            "Saving fake_images-0009.png\n",
            "Epoch [9/300], Step [200/600], d_loss: 1.0161, g_loss: 1.3761, D(x): 0.62, D(G(z)): 0.28\n",
            "Epoch [9/300], Step [400/600], d_loss: 0.4100, g_loss: 2.4962, D(x): 0.86, D(G(z)): 0.16\n"
          ]
        },
        {
          "metadata": {
            "tags": null
          },
          "name": "stderr",
          "output_type": "stream",
          "text": [
            "\r  3%|▎         | 10/300 [04:13<2:02:27, 25.34s/it]"
          ]
        },
        {
          "metadata": {
            "tags": null
          },
          "name": "stdout",
          "output_type": "stream",
          "text": [
            "Epoch [9/300], Step [600/600], d_loss: 0.7586, g_loss: 1.8517, D(x): 0.74, D(G(z)): 0.25\n",
            "Saving fake_images-0010.png\n",
            "Epoch [10/300], Step [200/600], d_loss: 0.4844, g_loss: 2.7964, D(x): 0.84, D(G(z)): 0.19\n",
            "Epoch [10/300], Step [400/600], d_loss: 1.6166, g_loss: 1.9101, D(x): 0.56, D(G(z)): 0.30\n"
          ]
        },
        {
          "metadata": {
            "tags": null
          },
          "name": "stderr",
          "output_type": "stream",
          "text": [
            "\r  4%|▎         | 11/300 [04:37<2:00:35, 25.04s/it]"
          ]
        },
        {
          "metadata": {
            "tags": null
          },
          "name": "stdout",
          "output_type": "stream",
          "text": [
            "Epoch [10/300], Step [600/600], d_loss: 0.8005, g_loss: 1.8482, D(x): 0.71, D(G(z)): 0.23\n",
            "Saving fake_images-0011.png\n",
            "Epoch [11/300], Step [200/600], d_loss: 0.4177, g_loss: 2.4040, D(x): 0.80, D(G(z)): 0.14\n",
            "Epoch [11/300], Step [400/600], d_loss: 1.4470, g_loss: 1.0262, D(x): 0.56, D(G(z)): 0.41\n"
          ]
        },
        {
          "metadata": {
            "tags": null
          },
          "name": "stderr",
          "output_type": "stream",
          "text": [
            "\r  4%|▍         | 12/300 [05:04<2:03:08, 25.65s/it]"
          ]
        },
        {
          "metadata": {
            "tags": null
          },
          "name": "stdout",
          "output_type": "stream",
          "text": [
            "Epoch [11/300], Step [600/600], d_loss: 2.1975, g_loss: 0.9922, D(x): 0.40, D(G(z)): 0.51\n",
            "Saving fake_images-0012.png\n",
            "Epoch [12/300], Step [200/600], d_loss: 1.5433, g_loss: 0.7939, D(x): 0.55, D(G(z)): 0.53\n",
            "Epoch [12/300], Step [400/600], d_loss: 1.5795, g_loss: 0.7331, D(x): 0.50, D(G(z)): 0.50\n"
          ]
        },
        {
          "metadata": {
            "tags": null
          },
          "name": "stderr",
          "output_type": "stream",
          "text": [
            "\r  4%|▍         | 13/300 [05:29<2:01:17, 25.36s/it]"
          ]
        },
        {
          "metadata": {
            "tags": null
          },
          "name": "stdout",
          "output_type": "stream",
          "text": [
            "Epoch [12/300], Step [600/600], d_loss: 1.8610, g_loss: 0.9451, D(x): 0.39, D(G(z)): 0.43\n",
            "Saving fake_images-0013.png\n",
            "Epoch [13/300], Step [200/600], d_loss: 0.8115, g_loss: 1.3663, D(x): 0.74, D(G(z)): 0.34\n",
            "Epoch [13/300], Step [400/600], d_loss: 1.3048, g_loss: 0.8663, D(x): 0.63, D(G(z)): 0.47\n"
          ]
        },
        {
          "metadata": {
            "tags": null
          },
          "name": "stderr",
          "output_type": "stream",
          "text": [
            "\r  5%|▍         | 14/300 [05:54<1:59:57, 25.17s/it]"
          ]
        },
        {
          "metadata": {
            "tags": null
          },
          "name": "stdout",
          "output_type": "stream",
          "text": [
            "Epoch [13/300], Step [600/600], d_loss: 1.6862, g_loss: 1.0041, D(x): 0.41, D(G(z)): 0.44\n",
            "Saving fake_images-0014.png\n",
            "Epoch [14/300], Step [200/600], d_loss: 1.0845, g_loss: 1.0289, D(x): 0.57, D(G(z)): 0.36\n",
            "Epoch [14/300], Step [400/600], d_loss: 1.3331, g_loss: 0.7238, D(x): 0.54, D(G(z)): 0.45\n"
          ]
        },
        {
          "metadata": {
            "tags": null
          },
          "name": "stderr",
          "output_type": "stream",
          "text": [
            "\r  5%|▌         | 15/300 [06:18<1:58:49, 25.01s/it]"
          ]
        },
        {
          "metadata": {
            "tags": null
          },
          "name": "stdout",
          "output_type": "stream",
          "text": [
            "Epoch [14/300], Step [600/600], d_loss: 1.0946, g_loss: 1.1296, D(x): 0.64, D(G(z)): 0.37\n",
            "Saving fake_images-0015.png\n",
            "Epoch [15/300], Step [200/600], d_loss: 0.5824, g_loss: 1.7036, D(x): 0.80, D(G(z)): 0.26\n",
            "Epoch [15/300], Step [400/600], d_loss: 0.4510, g_loss: 1.7395, D(x): 0.84, D(G(z)): 0.21\n"
          ]
        },
        {
          "metadata": {
            "tags": null
          },
          "name": "stderr",
          "output_type": "stream",
          "text": [
            "\r  5%|▌         | 16/300 [06:43<1:57:50, 24.90s/it]"
          ]
        },
        {
          "metadata": {
            "tags": null
          },
          "name": "stdout",
          "output_type": "stream",
          "text": [
            "Epoch [15/300], Step [600/600], d_loss: 0.6908, g_loss: 1.6838, D(x): 0.81, D(G(z)): 0.33\n",
            "Saving fake_images-0016.png\n",
            "Epoch [16/300], Step [200/600], d_loss: 0.8176, g_loss: 1.8151, D(x): 0.78, D(G(z)): 0.36\n",
            "Epoch [16/300], Step [400/600], d_loss: 0.6050, g_loss: 1.7852, D(x): 0.78, D(G(z)): 0.24\n"
          ]
        },
        {
          "metadata": {
            "tags": null
          },
          "name": "stderr",
          "output_type": "stream",
          "text": [
            "\r  6%|▌         | 17/300 [07:07<1:56:47, 24.76s/it]"
          ]
        },
        {
          "metadata": {
            "tags": null
          },
          "name": "stdout",
          "output_type": "stream",
          "text": [
            "Epoch [16/300], Step [600/600], d_loss: 0.6542, g_loss: 1.9958, D(x): 0.79, D(G(z)): 0.27\n",
            "Saving fake_images-0017.png\n",
            "Epoch [17/300], Step [200/600], d_loss: 0.6389, g_loss: 1.5916, D(x): 0.78, D(G(z)): 0.27\n",
            "Epoch [17/300], Step [400/600], d_loss: 0.4685, g_loss: 2.2518, D(x): 0.79, D(G(z)): 0.15\n"
          ]
        },
        {
          "metadata": {
            "tags": null
          },
          "name": "stderr",
          "output_type": "stream",
          "text": [
            "\r  6%|▌         | 18/300 [07:32<1:56:27, 24.78s/it]"
          ]
        },
        {
          "metadata": {
            "tags": null
          },
          "name": "stdout",
          "output_type": "stream",
          "text": [
            "Epoch [17/300], Step [600/600], d_loss: 0.9186, g_loss: 1.4746, D(x): 0.71, D(G(z)): 0.30\n",
            "Saving fake_images-0018.png\n",
            "Epoch [18/300], Step [200/600], d_loss: 0.5632, g_loss: 3.0352, D(x): 0.79, D(G(z)): 0.11\n",
            "Epoch [18/300], Step [400/600], d_loss: 0.2831, g_loss: 2.5147, D(x): 0.92, D(G(z)): 0.15\n"
          ]
        },
        {
          "metadata": {
            "tags": null
          },
          "name": "stderr",
          "output_type": "stream",
          "text": [
            "\r  6%|▋         | 19/300 [07:57<1:56:09, 24.80s/it]"
          ]
        },
        {
          "metadata": {
            "tags": null
          },
          "name": "stdout",
          "output_type": "stream",
          "text": [
            "Epoch [18/300], Step [600/600], d_loss: 0.5395, g_loss: 2.6919, D(x): 0.83, D(G(z)): 0.22\n",
            "Saving fake_images-0019.png\n",
            "Epoch [19/300], Step [200/600], d_loss: 0.3162, g_loss: 2.3024, D(x): 0.88, D(G(z)): 0.13\n",
            "Epoch [19/300], Step [400/600], d_loss: 0.4773, g_loss: 3.3731, D(x): 0.79, D(G(z)): 0.08\n"
          ]
        },
        {
          "metadata": {
            "tags": null
          },
          "name": "stderr",
          "output_type": "stream",
          "text": [
            "\r  7%|▋         | 20/300 [08:22<1:55:57, 24.85s/it]"
          ]
        },
        {
          "metadata": {
            "tags": null
          },
          "name": "stdout",
          "output_type": "stream",
          "text": [
            "Epoch [19/300], Step [600/600], d_loss: 0.6819, g_loss: 3.1092, D(x): 0.73, D(G(z)): 0.12\n",
            "Saving fake_images-0020.png\n",
            "Epoch [20/300], Step [200/600], d_loss: 0.5164, g_loss: 2.9077, D(x): 0.82, D(G(z)): 0.18\n",
            "Epoch [20/300], Step [400/600], d_loss: 0.8075, g_loss: 2.3826, D(x): 0.80, D(G(z)): 0.32\n"
          ]
        },
        {
          "metadata": {
            "tags": null
          },
          "name": "stderr",
          "output_type": "stream",
          "text": [
            "\r  7%|▋         | 21/300 [08:49<1:57:53, 25.35s/it]"
          ]
        },
        {
          "metadata": {
            "tags": null
          },
          "name": "stdout",
          "output_type": "stream",
          "text": [
            "Epoch [20/300], Step [600/600], d_loss: 0.5292, g_loss: 2.7399, D(x): 0.80, D(G(z)): 0.14\n",
            "Saving fake_images-0021.png\n",
            "Epoch [21/300], Step [200/600], d_loss: 0.5856, g_loss: 2.0278, D(x): 0.80, D(G(z)): 0.20\n",
            "Epoch [21/300], Step [400/600], d_loss: 1.1130, g_loss: 1.1226, D(x): 0.71, D(G(z)): 0.45\n"
          ]
        },
        {
          "metadata": {
            "tags": null
          },
          "name": "stderr",
          "output_type": "stream",
          "text": [
            "\r  7%|▋         | 22/300 [09:13<1:56:44, 25.20s/it]"
          ]
        },
        {
          "metadata": {
            "tags": null
          },
          "name": "stdout",
          "output_type": "stream",
          "text": [
            "Epoch [21/300], Step [600/600], d_loss: 0.8789, g_loss: 1.5298, D(x): 0.69, D(G(z)): 0.28\n",
            "Saving fake_images-0022.png\n",
            "Epoch [22/300], Step [200/600], d_loss: 0.6617, g_loss: 2.4009, D(x): 0.78, D(G(z)): 0.20\n",
            "Epoch [22/300], Step [400/600], d_loss: 0.4028, g_loss: 2.3380, D(x): 0.91, D(G(z)): 0.22\n"
          ]
        },
        {
          "metadata": {
            "tags": null
          },
          "name": "stderr",
          "output_type": "stream",
          "text": [
            "\r  8%|▊         | 23/300 [09:39<1:56:51, 25.31s/it]"
          ]
        },
        {
          "metadata": {
            "tags": null
          },
          "name": "stdout",
          "output_type": "stream",
          "text": [
            "Epoch [22/300], Step [600/600], d_loss: 0.6992, g_loss: 1.9894, D(x): 0.81, D(G(z)): 0.28\n",
            "Saving fake_images-0023.png\n",
            "Epoch [23/300], Step [200/600], d_loss: 0.8081, g_loss: 1.9953, D(x): 0.80, D(G(z)): 0.33\n",
            "Epoch [23/300], Step [400/600], d_loss: 0.2990, g_loss: 2.7503, D(x): 0.88, D(G(z)): 0.11\n"
          ]
        },
        {
          "metadata": {
            "tags": null
          },
          "name": "stderr",
          "output_type": "stream",
          "text": [
            "\r  8%|▊         | 24/300 [10:05<1:56:55, 25.42s/it]"
          ]
        },
        {
          "metadata": {
            "tags": null
          },
          "name": "stdout",
          "output_type": "stream",
          "text": [
            "Epoch [23/300], Step [600/600], d_loss: 0.7103, g_loss: 1.7425, D(x): 0.83, D(G(z)): 0.31\n",
            "Saving fake_images-0024.png\n",
            "Epoch [24/300], Step [200/600], d_loss: 0.9430, g_loss: 2.6839, D(x): 0.69, D(G(z)): 0.17\n",
            "Epoch [24/300], Step [400/600], d_loss: 0.3790, g_loss: 3.0659, D(x): 0.90, D(G(z)): 0.18\n"
          ]
        },
        {
          "metadata": {
            "tags": null
          },
          "name": "stderr",
          "output_type": "stream",
          "text": [
            "\r  8%|▊         | 25/300 [10:31<1:57:13, 25.58s/it]"
          ]
        },
        {
          "metadata": {
            "tags": null
          },
          "name": "stdout",
          "output_type": "stream",
          "text": [
            "Epoch [24/300], Step [600/600], d_loss: 0.6134, g_loss: 2.5718, D(x): 0.77, D(G(z)): 0.17\n",
            "Saving fake_images-0025.png\n",
            "Epoch [25/300], Step [200/600], d_loss: 0.6578, g_loss: 2.3330, D(x): 0.79, D(G(z)): 0.21\n",
            "Epoch [25/300], Step [400/600], d_loss: 0.4291, g_loss: 2.2639, D(x): 0.83, D(G(z)): 0.16\n"
          ]
        },
        {
          "metadata": {
            "tags": null
          },
          "name": "stderr",
          "output_type": "stream",
          "text": [
            "\r  9%|▊         | 26/300 [10:56<1:56:26, 25.50s/it]"
          ]
        },
        {
          "metadata": {
            "tags": null
          },
          "name": "stdout",
          "output_type": "stream",
          "text": [
            "Epoch [25/300], Step [600/600], d_loss: 0.5641, g_loss: 3.0131, D(x): 0.85, D(G(z)): 0.23\n",
            "Saving fake_images-0026.png\n",
            "Epoch [26/300], Step [200/600], d_loss: 0.7687, g_loss: 1.6471, D(x): 0.81, D(G(z)): 0.30\n",
            "Epoch [26/300], Step [400/600], d_loss: 0.8964, g_loss: 2.2575, D(x): 0.78, D(G(z)): 0.24\n"
          ]
        },
        {
          "metadata": {
            "tags": null
          },
          "name": "stderr",
          "output_type": "stream",
          "text": [
            "\r  9%|▉         | 27/300 [11:21<1:55:01, 25.28s/it]"
          ]
        },
        {
          "metadata": {
            "tags": null
          },
          "name": "stdout",
          "output_type": "stream",
          "text": [
            "Epoch [26/300], Step [600/600], d_loss: 0.9428, g_loss: 1.7148, D(x): 0.66, D(G(z)): 0.20\n",
            "Saving fake_images-0027.png\n",
            "Epoch [27/300], Step [200/600], d_loss: 0.4448, g_loss: 2.9133, D(x): 0.87, D(G(z)): 0.18\n",
            "Epoch [27/300], Step [400/600], d_loss: 0.5323, g_loss: 2.7483, D(x): 0.77, D(G(z)): 0.11\n"
          ]
        },
        {
          "metadata": {
            "tags": null
          },
          "name": "stderr",
          "output_type": "stream",
          "text": [
            "\r  9%|▉         | 28/300 [11:46<1:54:06, 25.17s/it]"
          ]
        },
        {
          "metadata": {
            "tags": null
          },
          "name": "stdout",
          "output_type": "stream",
          "text": [
            "Epoch [27/300], Step [600/600], d_loss: 0.5705, g_loss: 2.2884, D(x): 0.79, D(G(z)): 0.17\n",
            "Saving fake_images-0028.png\n",
            "Epoch [28/300], Step [200/600], d_loss: 0.4924, g_loss: 2.3973, D(x): 0.86, D(G(z)): 0.18\n",
            "Epoch [28/300], Step [400/600], d_loss: 0.7405, g_loss: 2.0090, D(x): 0.79, D(G(z)): 0.27\n"
          ]
        },
        {
          "metadata": {
            "tags": null
          },
          "name": "stderr",
          "output_type": "stream",
          "text": [
            "\r 10%|▉         | 29/300 [12:12<1:54:43, 25.40s/it]"
          ]
        },
        {
          "metadata": {
            "tags": null
          },
          "name": "stdout",
          "output_type": "stream",
          "text": [
            "Epoch [28/300], Step [600/600], d_loss: 0.8725, g_loss: 2.3294, D(x): 0.76, D(G(z)): 0.29\n",
            "Saving fake_images-0029.png\n",
            "Epoch [29/300], Step [200/600], d_loss: 0.4697, g_loss: 2.5734, D(x): 0.84, D(G(z)): 0.12\n",
            "Epoch [29/300], Step [400/600], d_loss: 1.0045, g_loss: 2.5580, D(x): 0.72, D(G(z)): 0.21\n"
          ]
        },
        {
          "metadata": {
            "tags": null
          },
          "name": "stderr",
          "output_type": "stream",
          "text": [
            "\r 10%|█         | 30/300 [12:36<1:53:32, 25.23s/it]"
          ]
        },
        {
          "metadata": {
            "tags": null
          },
          "name": "stdout",
          "output_type": "stream",
          "text": [
            "Epoch [29/300], Step [600/600], d_loss: 0.6877, g_loss: 1.9824, D(x): 0.77, D(G(z)): 0.25\n",
            "Saving fake_images-0030.png\n",
            "Epoch [30/300], Step [200/600], d_loss: 0.5556, g_loss: 2.9594, D(x): 0.79, D(G(z)): 0.17\n",
            "Epoch [30/300], Step [400/600], d_loss: 0.6245, g_loss: 2.1240, D(x): 0.84, D(G(z)): 0.26\n"
          ]
        },
        {
          "metadata": {
            "tags": null
          },
          "name": "stderr",
          "output_type": "stream",
          "text": [
            "\r 10%|█         | 31/300 [13:02<1:53:13, 25.26s/it]"
          ]
        },
        {
          "metadata": {
            "tags": null
          },
          "name": "stdout",
          "output_type": "stream",
          "text": [
            "Epoch [30/300], Step [600/600], d_loss: 0.8692, g_loss: 2.7279, D(x): 0.85, D(G(z)): 0.36\n",
            "Saving fake_images-0031.png\n",
            "Epoch [31/300], Step [200/600], d_loss: 0.4988, g_loss: 1.9609, D(x): 0.82, D(G(z)): 0.18\n",
            "Epoch [31/300], Step [400/600], d_loss: 0.5883, g_loss: 2.3962, D(x): 0.84, D(G(z)): 0.24\n"
          ]
        },
        {
          "metadata": {
            "tags": null
          },
          "name": "stderr",
          "output_type": "stream",
          "text": [
            "\r 11%|█         | 32/300 [13:26<1:51:49, 25.03s/it]"
          ]
        },
        {
          "metadata": {
            "tags": null
          },
          "name": "stdout",
          "output_type": "stream",
          "text": [
            "Epoch [31/300], Step [600/600], d_loss: 0.9469, g_loss: 2.4157, D(x): 0.70, D(G(z)): 0.11\n",
            "Saving fake_images-0032.png\n",
            "Epoch [32/300], Step [200/600], d_loss: 0.5901, g_loss: 2.8435, D(x): 0.80, D(G(z)): 0.16\n",
            "Epoch [32/300], Step [400/600], d_loss: 0.6807, g_loss: 2.4113, D(x): 0.83, D(G(z)): 0.20\n"
          ]
        },
        {
          "metadata": {
            "tags": null
          },
          "name": "stderr",
          "output_type": "stream",
          "text": [
            "\r 11%|█         | 33/300 [13:51<1:51:17, 25.01s/it]"
          ]
        },
        {
          "metadata": {
            "tags": null
          },
          "name": "stdout",
          "output_type": "stream",
          "text": [
            "Epoch [32/300], Step [600/600], d_loss: 0.4328, g_loss: 3.0006, D(x): 0.84, D(G(z)): 0.13\n",
            "Saving fake_images-0033.png\n",
            "Epoch [33/300], Step [200/600], d_loss: 0.4696, g_loss: 2.9181, D(x): 0.85, D(G(z)): 0.18\n",
            "Epoch [33/300], Step [400/600], d_loss: 0.6192, g_loss: 2.8738, D(x): 0.78, D(G(z)): 0.17\n"
          ]
        },
        {
          "metadata": {
            "tags": null
          },
          "name": "stderr",
          "output_type": "stream",
          "text": [
            "\r 11%|█▏        | 34/300 [14:17<1:51:20, 25.12s/it]"
          ]
        },
        {
          "metadata": {
            "tags": null
          },
          "name": "stdout",
          "output_type": "stream",
          "text": [
            "Epoch [33/300], Step [600/600], d_loss: 0.7822, g_loss: 1.8669, D(x): 0.77, D(G(z)): 0.27\n",
            "Saving fake_images-0034.png\n",
            "Epoch [34/300], Step [200/600], d_loss: 0.5849, g_loss: 2.3198, D(x): 0.88, D(G(z)): 0.27\n",
            "Epoch [34/300], Step [400/600], d_loss: 0.6039, g_loss: 2.5272, D(x): 0.76, D(G(z)): 0.14\n"
          ]
        },
        {
          "metadata": {
            "tags": null
          },
          "name": "stderr",
          "output_type": "stream",
          "text": [
            "\r 12%|█▏        | 35/300 [14:42<1:51:14, 25.19s/it]"
          ]
        },
        {
          "metadata": {
            "tags": null
          },
          "name": "stdout",
          "output_type": "stream",
          "text": [
            "Epoch [34/300], Step [600/600], d_loss: 0.5496, g_loss: 2.6907, D(x): 0.83, D(G(z)): 0.20\n",
            "Saving fake_images-0035.png\n",
            "Epoch [35/300], Step [200/600], d_loss: 0.6003, g_loss: 2.6770, D(x): 0.77, D(G(z)): 0.11\n",
            "Epoch [35/300], Step [400/600], d_loss: 0.5011, g_loss: 2.9064, D(x): 0.84, D(G(z)): 0.16\n"
          ]
        },
        {
          "metadata": {
            "tags": null
          },
          "name": "stderr",
          "output_type": "stream",
          "text": [
            "\r 12%|█▏        | 36/300 [15:07<1:51:08, 25.26s/it]"
          ]
        },
        {
          "metadata": {
            "tags": null
          },
          "name": "stdout",
          "output_type": "stream",
          "text": [
            "Epoch [35/300], Step [600/600], d_loss: 0.4145, g_loss: 2.6224, D(x): 0.86, D(G(z)): 0.15\n",
            "Saving fake_images-0036.png\n",
            "Epoch [36/300], Step [200/600], d_loss: 0.5607, g_loss: 1.7365, D(x): 0.79, D(G(z)): 0.19\n",
            "Epoch [36/300], Step [400/600], d_loss: 0.7308, g_loss: 2.1474, D(x): 0.75, D(G(z)): 0.19\n"
          ]
        },
        {
          "metadata": {
            "tags": null
          },
          "name": "stderr",
          "output_type": "stream",
          "text": [
            "\r 12%|█▏        | 37/300 [15:33<1:51:16, 25.39s/it]"
          ]
        },
        {
          "metadata": {
            "tags": null
          },
          "name": "stdout",
          "output_type": "stream",
          "text": [
            "Epoch [36/300], Step [600/600], d_loss: 0.4464, g_loss: 2.8293, D(x): 0.81, D(G(z)): 0.13\n",
            "Saving fake_images-0037.png\n",
            "Epoch [37/300], Step [200/600], d_loss: 0.6805, g_loss: 2.4844, D(x): 0.75, D(G(z)): 0.17\n",
            "Epoch [37/300], Step [400/600], d_loss: 0.8673, g_loss: 2.2992, D(x): 0.70, D(G(z)): 0.19\n"
          ]
        },
        {
          "metadata": {
            "tags": null
          },
          "name": "stderr",
          "output_type": "stream",
          "text": [
            "\r 13%|█▎        | 38/300 [16:02<1:55:42, 26.50s/it]"
          ]
        },
        {
          "metadata": {
            "tags": null
          },
          "name": "stdout",
          "output_type": "stream",
          "text": [
            "Epoch [37/300], Step [600/600], d_loss: 0.7707, g_loss: 2.3068, D(x): 0.83, D(G(z)): 0.31\n",
            "Saving fake_images-0038.png\n",
            "Epoch [38/300], Step [200/600], d_loss: 0.4682, g_loss: 2.5387, D(x): 0.85, D(G(z)): 0.19\n",
            "Epoch [38/300], Step [400/600], d_loss: 0.6166, g_loss: 2.1221, D(x): 0.80, D(G(z)): 0.19\n"
          ]
        },
        {
          "metadata": {
            "tags": null
          },
          "name": "stderr",
          "output_type": "stream",
          "text": [
            "\r 13%|█▎        | 39/300 [16:28<1:54:37, 26.35s/it]"
          ]
        },
        {
          "metadata": {
            "tags": null
          },
          "name": "stdout",
          "output_type": "stream",
          "text": [
            "Epoch [38/300], Step [600/600], d_loss: 0.5733, g_loss: 2.9269, D(x): 0.80, D(G(z)): 0.14\n",
            "Saving fake_images-0039.png\n",
            "Epoch [39/300], Step [200/600], d_loss: 0.7752, g_loss: 2.2700, D(x): 0.73, D(G(z)): 0.19\n",
            "Epoch [39/300], Step [400/600], d_loss: 0.8298, g_loss: 2.2900, D(x): 0.72, D(G(z)): 0.22\n"
          ]
        },
        {
          "metadata": {
            "tags": null
          },
          "name": "stderr",
          "output_type": "stream",
          "text": [
            "\r 13%|█▎        | 40/300 [16:54<1:53:27, 26.18s/it]"
          ]
        },
        {
          "metadata": {
            "tags": null
          },
          "name": "stdout",
          "output_type": "stream",
          "text": [
            "Epoch [39/300], Step [600/600], d_loss: 0.6838, g_loss: 2.6630, D(x): 0.75, D(G(z)): 0.13\n",
            "Saving fake_images-0040.png\n",
            "Epoch [40/300], Step [200/600], d_loss: 0.5768, g_loss: 2.7069, D(x): 0.84, D(G(z)): 0.24\n",
            "Epoch [40/300], Step [400/600], d_loss: 0.7810, g_loss: 1.7835, D(x): 0.78, D(G(z)): 0.26\n"
          ]
        },
        {
          "metadata": {
            "tags": null
          },
          "name": "stderr",
          "output_type": "stream",
          "text": [
            "\r 14%|█▎        | 41/300 [17:20<1:52:20, 26.03s/it]"
          ]
        },
        {
          "metadata": {
            "tags": null
          },
          "name": "stdout",
          "output_type": "stream",
          "text": [
            "Epoch [40/300], Step [600/600], d_loss: 0.7376, g_loss: 2.4860, D(x): 0.76, D(G(z)): 0.22\n",
            "Saving fake_images-0041.png\n",
            "Epoch [41/300], Step [200/600], d_loss: 0.8080, g_loss: 2.2374, D(x): 0.80, D(G(z)): 0.30\n",
            "Epoch [41/300], Step [400/600], d_loss: 0.6118, g_loss: 2.4370, D(x): 0.84, D(G(z)): 0.25\n"
          ]
        },
        {
          "metadata": {
            "tags": null
          },
          "name": "stderr",
          "output_type": "stream",
          "text": [
            "\r 14%|█▍        | 42/300 [17:45<1:51:37, 25.96s/it]"
          ]
        },
        {
          "metadata": {
            "tags": null
          },
          "name": "stdout",
          "output_type": "stream",
          "text": [
            "Epoch [41/300], Step [600/600], d_loss: 0.6453, g_loss: 2.5364, D(x): 0.77, D(G(z)): 0.20\n",
            "Saving fake_images-0042.png\n",
            "Epoch [42/300], Step [200/600], d_loss: 0.5445, g_loss: 2.3785, D(x): 0.86, D(G(z)): 0.24\n",
            "Epoch [42/300], Step [400/600], d_loss: 0.7522, g_loss: 1.8250, D(x): 0.75, D(G(z)): 0.21\n"
          ]
        },
        {
          "metadata": {
            "tags": null
          },
          "name": "stderr",
          "output_type": "stream",
          "text": [
            "\r 14%|█▍        | 43/300 [18:11<1:50:31, 25.80s/it]"
          ]
        },
        {
          "metadata": {
            "tags": null
          },
          "name": "stdout",
          "output_type": "stream",
          "text": [
            "Epoch [42/300], Step [600/600], d_loss: 0.8356, g_loss: 1.9554, D(x): 0.70, D(G(z)): 0.18\n",
            "Saving fake_images-0043.png\n",
            "Epoch [43/300], Step [200/600], d_loss: 0.6006, g_loss: 2.5219, D(x): 0.78, D(G(z)): 0.15\n",
            "Epoch [43/300], Step [400/600], d_loss: 0.4893, g_loss: 2.1985, D(x): 0.87, D(G(z)): 0.23\n"
          ]
        },
        {
          "metadata": {
            "tags": null
          },
          "name": "stderr",
          "output_type": "stream",
          "text": [
            "\r 15%|█▍        | 44/300 [18:36<1:49:18, 25.62s/it]"
          ]
        },
        {
          "metadata": {
            "tags": null
          },
          "name": "stdout",
          "output_type": "stream",
          "text": [
            "Epoch [43/300], Step [600/600], d_loss: 0.6103, g_loss: 1.5180, D(x): 0.79, D(G(z)): 0.21\n",
            "Saving fake_images-0044.png\n",
            "Epoch [44/300], Step [200/600], d_loss: 0.6325, g_loss: 2.0190, D(x): 0.80, D(G(z)): 0.25\n",
            "Epoch [44/300], Step [400/600], d_loss: 0.4910, g_loss: 2.7454, D(x): 0.83, D(G(z)): 0.16\n"
          ]
        },
        {
          "metadata": {
            "tags": null
          },
          "name": "stderr",
          "output_type": "stream",
          "text": [
            "\r 15%|█▌        | 45/300 [19:03<1:50:22, 25.97s/it]"
          ]
        },
        {
          "metadata": {
            "tags": null
          },
          "name": "stdout",
          "output_type": "stream",
          "text": [
            "Epoch [44/300], Step [600/600], d_loss: 0.7395, g_loss: 2.6016, D(x): 0.68, D(G(z)): 0.10\n",
            "Saving fake_images-0045.png\n",
            "Epoch [45/300], Step [200/600], d_loss: 0.7930, g_loss: 2.5002, D(x): 0.82, D(G(z)): 0.31\n",
            "Epoch [45/300], Step [400/600], d_loss: 0.6426, g_loss: 1.9511, D(x): 0.81, D(G(z)): 0.25\n"
          ]
        },
        {
          "metadata": {
            "tags": null
          },
          "name": "stderr",
          "output_type": "stream",
          "text": [
            "\r 15%|█▌        | 46/300 [19:29<1:49:33, 25.88s/it]"
          ]
        },
        {
          "metadata": {
            "tags": null
          },
          "name": "stdout",
          "output_type": "stream",
          "text": [
            "Epoch [45/300], Step [600/600], d_loss: 0.4883, g_loss: 2.9435, D(x): 0.84, D(G(z)): 0.17\n",
            "Saving fake_images-0046.png\n",
            "Epoch [46/300], Step [200/600], d_loss: 0.8048, g_loss: 1.7318, D(x): 0.74, D(G(z)): 0.24\n",
            "Epoch [46/300], Step [400/600], d_loss: 0.7339, g_loss: 1.7626, D(x): 0.76, D(G(z)): 0.26\n"
          ]
        },
        {
          "metadata": {
            "tags": null
          },
          "name": "stderr",
          "output_type": "stream",
          "text": [
            "\r 16%|█▌        | 47/300 [19:54<1:48:56, 25.84s/it]"
          ]
        },
        {
          "metadata": {
            "tags": null
          },
          "name": "stdout",
          "output_type": "stream",
          "text": [
            "Epoch [46/300], Step [600/600], d_loss: 0.9083, g_loss: 2.1636, D(x): 0.72, D(G(z)): 0.30\n",
            "Saving fake_images-0047.png\n",
            "Epoch [47/300], Step [200/600], d_loss: 0.5856, g_loss: 2.7014, D(x): 0.79, D(G(z)): 0.16\n",
            "Epoch [47/300], Step [400/600], d_loss: 0.5440, g_loss: 2.1225, D(x): 0.87, D(G(z)): 0.22\n"
          ]
        },
        {
          "metadata": {
            "tags": null
          },
          "name": "stderr",
          "output_type": "stream",
          "text": [
            "\r 16%|█▌        | 48/300 [20:20<1:47:50, 25.68s/it]"
          ]
        },
        {
          "metadata": {
            "tags": null
          },
          "name": "stdout",
          "output_type": "stream",
          "text": [
            "Epoch [47/300], Step [600/600], d_loss: 0.6258, g_loss: 2.3464, D(x): 0.77, D(G(z)): 0.18\n",
            "Saving fake_images-0048.png\n",
            "Epoch [48/300], Step [200/600], d_loss: 0.5359, g_loss: 2.6567, D(x): 0.86, D(G(z)): 0.21\n",
            "Epoch [48/300], Step [400/600], d_loss: 0.5460, g_loss: 2.6582, D(x): 0.84, D(G(z)): 0.20\n"
          ]
        },
        {
          "metadata": {
            "tags": null
          },
          "name": "stderr",
          "output_type": "stream",
          "text": [
            "\r 16%|█▋        | 49/300 [20:45<1:46:56, 25.56s/it]"
          ]
        },
        {
          "metadata": {
            "tags": null
          },
          "name": "stdout",
          "output_type": "stream",
          "text": [
            "Epoch [48/300], Step [600/600], d_loss: 0.6260, g_loss: 2.4205, D(x): 0.77, D(G(z)): 0.20\n",
            "Saving fake_images-0049.png\n",
            "Epoch [49/300], Step [200/600], d_loss: 0.6026, g_loss: 2.0381, D(x): 0.84, D(G(z)): 0.24\n",
            "Epoch [49/300], Step [400/600], d_loss: 0.8297, g_loss: 2.0495, D(x): 0.73, D(G(z)): 0.24\n"
          ]
        },
        {
          "metadata": {
            "tags": null
          },
          "name": "stderr",
          "output_type": "stream",
          "text": [
            "\r 17%|█▋        | 50/300 [21:10<1:45:34, 25.34s/it]"
          ]
        },
        {
          "metadata": {
            "tags": null
          },
          "name": "stdout",
          "output_type": "stream",
          "text": [
            "Epoch [49/300], Step [600/600], d_loss: 0.5582, g_loss: 2.7206, D(x): 0.80, D(G(z)): 0.17\n",
            "Saving fake_images-0050.png\n",
            "Epoch [50/300], Step [200/600], d_loss: 0.6726, g_loss: 2.1646, D(x): 0.76, D(G(z)): 0.17\n",
            "Epoch [50/300], Step [400/600], d_loss: 0.9028, g_loss: 2.2647, D(x): 0.71, D(G(z)): 0.26\n"
          ]
        },
        {
          "metadata": {
            "tags": null
          },
          "name": "stderr",
          "output_type": "stream",
          "text": [
            "\r 17%|█▋        | 51/300 [21:35<1:44:40, 25.22s/it]"
          ]
        },
        {
          "metadata": {
            "tags": null
          },
          "name": "stdout",
          "output_type": "stream",
          "text": [
            "Epoch [50/300], Step [600/600], d_loss: 0.8222, g_loss: 2.0979, D(x): 0.76, D(G(z)): 0.27\n",
            "Saving fake_images-0051.png\n",
            "Epoch [51/300], Step [200/600], d_loss: 0.6626, g_loss: 2.2815, D(x): 0.82, D(G(z)): 0.27\n",
            "Epoch [51/300], Step [400/600], d_loss: 0.7682, g_loss: 2.4301, D(x): 0.75, D(G(z)): 0.20\n"
          ]
        },
        {
          "metadata": {
            "tags": null
          },
          "name": "stderr",
          "output_type": "stream",
          "text": [
            "\r 17%|█▋        | 52/300 [22:00<1:44:07, 25.19s/it]"
          ]
        },
        {
          "metadata": {
            "tags": null
          },
          "name": "stdout",
          "output_type": "stream",
          "text": [
            "Epoch [51/300], Step [600/600], d_loss: 0.5962, g_loss: 2.1776, D(x): 0.83, D(G(z)): 0.24\n",
            "Saving fake_images-0052.png\n",
            "Epoch [52/300], Step [200/600], d_loss: 0.7495, g_loss: 2.3582, D(x): 0.76, D(G(z)): 0.23\n",
            "Epoch [52/300], Step [400/600], d_loss: 0.6636, g_loss: 1.9531, D(x): 0.74, D(G(z)): 0.15\n"
          ]
        },
        {
          "metadata": {
            "tags": null
          },
          "name": "stderr",
          "output_type": "stream",
          "text": [
            "\r 18%|█▊        | 53/300 [22:25<1:43:21, 25.11s/it]"
          ]
        },
        {
          "metadata": {
            "tags": null
          },
          "name": "stdout",
          "output_type": "stream",
          "text": [
            "Epoch [52/300], Step [600/600], d_loss: 0.6677, g_loss: 2.7413, D(x): 0.75, D(G(z)): 0.16\n",
            "Saving fake_images-0053.png\n",
            "Epoch [53/300], Step [200/600], d_loss: 0.7733, g_loss: 2.5674, D(x): 0.73, D(G(z)): 0.20\n",
            "Epoch [53/300], Step [400/600], d_loss: 0.8849, g_loss: 2.1094, D(x): 0.74, D(G(z)): 0.28\n"
          ]
        },
        {
          "metadata": {
            "tags": null
          },
          "name": "stderr",
          "output_type": "stream",
          "text": [
            "\r 18%|█▊        | 54/300 [22:51<1:44:11, 25.41s/it]"
          ]
        },
        {
          "metadata": {
            "tags": null
          },
          "name": "stdout",
          "output_type": "stream",
          "text": [
            "Epoch [53/300], Step [600/600], d_loss: 0.6672, g_loss: 1.8131, D(x): 0.79, D(G(z)): 0.25\n",
            "Saving fake_images-0054.png\n",
            "Epoch [54/300], Step [200/600], d_loss: 0.8029, g_loss: 2.6050, D(x): 0.68, D(G(z)): 0.15\n",
            "Epoch [54/300], Step [400/600], d_loss: 0.6724, g_loss: 2.1681, D(x): 0.83, D(G(z)): 0.29\n"
          ]
        },
        {
          "metadata": {
            "tags": null
          },
          "name": "stderr",
          "output_type": "stream",
          "text": [
            "\r 18%|█▊        | 55/300 [23:16<1:42:56, 25.21s/it]"
          ]
        },
        {
          "metadata": {
            "tags": null
          },
          "name": "stdout",
          "output_type": "stream",
          "text": [
            "Epoch [54/300], Step [600/600], d_loss: 0.7604, g_loss: 2.6195, D(x): 0.73, D(G(z)): 0.23\n",
            "Saving fake_images-0055.png\n",
            "Epoch [55/300], Step [200/600], d_loss: 0.6933, g_loss: 2.0430, D(x): 0.74, D(G(z)): 0.20\n",
            "Epoch [55/300], Step [400/600], d_loss: 0.8502, g_loss: 1.8847, D(x): 0.75, D(G(z)): 0.28\n"
          ]
        },
        {
          "metadata": {
            "tags": null
          },
          "name": "stderr",
          "output_type": "stream",
          "text": [
            "\r 19%|█▊        | 56/300 [23:40<1:42:07, 25.11s/it]"
          ]
        },
        {
          "metadata": {
            "tags": null
          },
          "name": "stdout",
          "output_type": "stream",
          "text": [
            "Epoch [55/300], Step [600/600], d_loss: 0.8533, g_loss: 1.8757, D(x): 0.76, D(G(z)): 0.29\n",
            "Saving fake_images-0056.png\n",
            "Epoch [56/300], Step [200/600], d_loss: 0.7992, g_loss: 2.0802, D(x): 0.70, D(G(z)): 0.24\n",
            "Epoch [56/300], Step [400/600], d_loss: 0.6269, g_loss: 2.1404, D(x): 0.82, D(G(z)): 0.22\n"
          ]
        },
        {
          "metadata": {
            "tags": null
          },
          "name": "stderr",
          "output_type": "stream",
          "text": [
            "\r 19%|█▉        | 57/300 [24:05<1:41:26, 25.05s/it]"
          ]
        },
        {
          "metadata": {
            "tags": null
          },
          "name": "stdout",
          "output_type": "stream",
          "text": [
            "Epoch [56/300], Step [600/600], d_loss: 0.9963, g_loss: 2.1407, D(x): 0.75, D(G(z)): 0.32\n",
            "Saving fake_images-0057.png\n",
            "Epoch [57/300], Step [200/600], d_loss: 0.6748, g_loss: 2.0382, D(x): 0.79, D(G(z)): 0.26\n",
            "Epoch [57/300], Step [400/600], d_loss: 0.7004, g_loss: 1.9000, D(x): 0.80, D(G(z)): 0.27\n"
          ]
        },
        {
          "metadata": {
            "tags": null
          },
          "name": "stderr",
          "output_type": "stream",
          "text": [
            "\r 19%|█▉        | 58/300 [24:30<1:40:35, 24.94s/it]"
          ]
        },
        {
          "metadata": {
            "tags": null
          },
          "name": "stdout",
          "output_type": "stream",
          "text": [
            "Epoch [57/300], Step [600/600], d_loss: 0.6842, g_loss: 1.7119, D(x): 0.77, D(G(z)): 0.24\n",
            "Saving fake_images-0058.png\n",
            "Epoch [58/300], Step [200/600], d_loss: 0.6086, g_loss: 2.2824, D(x): 0.79, D(G(z)): 0.20\n",
            "Epoch [58/300], Step [400/600], d_loss: 1.1885, g_loss: 1.6303, D(x): 0.62, D(G(z)): 0.31\n"
          ]
        },
        {
          "metadata": {
            "tags": null
          },
          "name": "stderr",
          "output_type": "stream",
          "text": [
            "\r 20%|█▉        | 59/300 [24:55<1:39:55, 24.88s/it]"
          ]
        },
        {
          "metadata": {
            "tags": null
          },
          "name": "stdout",
          "output_type": "stream",
          "text": [
            "Epoch [58/300], Step [600/600], d_loss: 0.7590, g_loss: 1.9780, D(x): 0.72, D(G(z)): 0.25\n",
            "Saving fake_images-0059.png\n",
            "Epoch [59/300], Step [200/600], d_loss: 0.7629, g_loss: 1.7074, D(x): 0.78, D(G(z)): 0.27\n",
            "Epoch [59/300], Step [400/600], d_loss: 0.7073, g_loss: 1.8744, D(x): 0.82, D(G(z)): 0.31\n"
          ]
        },
        {
          "metadata": {
            "tags": null
          },
          "name": "stderr",
          "output_type": "stream",
          "text": [
            "\r 20%|██        | 60/300 [25:19<1:39:09, 24.79s/it]"
          ]
        },
        {
          "metadata": {
            "tags": null
          },
          "name": "stdout",
          "output_type": "stream",
          "text": [
            "Epoch [59/300], Step [600/600], d_loss: 1.0256, g_loss: 1.3230, D(x): 0.68, D(G(z)): 0.34\n",
            "Saving fake_images-0060.png\n",
            "Epoch [60/300], Step [200/600], d_loss: 0.8799, g_loss: 1.4878, D(x): 0.70, D(G(z)): 0.28\n",
            "Epoch [60/300], Step [400/600], d_loss: 0.7370, g_loss: 2.2000, D(x): 0.77, D(G(z)): 0.26\n"
          ]
        },
        {
          "metadata": {
            "tags": null
          },
          "name": "stderr",
          "output_type": "stream",
          "text": [
            "\r 20%|██        | 61/300 [25:44<1:38:37, 24.76s/it]"
          ]
        },
        {
          "metadata": {
            "tags": null
          },
          "name": "stdout",
          "output_type": "stream",
          "text": [
            "Epoch [60/300], Step [600/600], d_loss: 0.8276, g_loss: 1.8707, D(x): 0.72, D(G(z)): 0.26\n",
            "Saving fake_images-0061.png\n",
            "Epoch [61/300], Step [200/600], d_loss: 0.8852, g_loss: 1.5132, D(x): 0.73, D(G(z)): 0.31\n",
            "Epoch [61/300], Step [400/600], d_loss: 1.0764, g_loss: 1.5162, D(x): 0.67, D(G(z)): 0.32\n"
          ]
        },
        {
          "metadata": {
            "tags": null
          },
          "name": "stderr",
          "output_type": "stream",
          "text": [
            "\r 21%|██        | 62/300 [26:10<1:39:46, 25.15s/it]"
          ]
        },
        {
          "metadata": {
            "tags": null
          },
          "name": "stdout",
          "output_type": "stream",
          "text": [
            "Epoch [61/300], Step [600/600], d_loss: 1.0703, g_loss: 1.6920, D(x): 0.75, D(G(z)): 0.39\n",
            "Saving fake_images-0062.png\n",
            "Epoch [62/300], Step [200/600], d_loss: 0.9489, g_loss: 1.4990, D(x): 0.75, D(G(z)): 0.35\n",
            "Epoch [62/300], Step [400/600], d_loss: 0.8087, g_loss: 1.7786, D(x): 0.73, D(G(z)): 0.28\n"
          ]
        },
        {
          "metadata": {
            "tags": null
          },
          "name": "stderr",
          "output_type": "stream",
          "text": [
            "\r 21%|██        | 63/300 [26:35<1:38:47, 25.01s/it]"
          ]
        },
        {
          "metadata": {
            "tags": null
          },
          "name": "stdout",
          "output_type": "stream",
          "text": [
            "Epoch [62/300], Step [600/600], d_loss: 1.0459, g_loss: 1.5750, D(x): 0.61, D(G(z)): 0.29\n",
            "Saving fake_images-0063.png\n",
            "Epoch [63/300], Step [200/600], d_loss: 0.8611, g_loss: 1.9222, D(x): 0.71, D(G(z)): 0.29\n",
            "Epoch [63/300], Step [400/600], d_loss: 0.9050, g_loss: 1.4491, D(x): 0.76, D(G(z)): 0.35\n"
          ]
        },
        {
          "metadata": {
            "tags": null
          },
          "name": "stderr",
          "output_type": "stream",
          "text": [
            "\r 21%|██▏       | 64/300 [26:59<1:37:51, 24.88s/it]"
          ]
        },
        {
          "metadata": {
            "tags": null
          },
          "name": "stdout",
          "output_type": "stream",
          "text": [
            "Epoch [63/300], Step [600/600], d_loss: 1.0049, g_loss: 1.9259, D(x): 0.67, D(G(z)): 0.27\n",
            "Saving fake_images-0064.png\n",
            "Epoch [64/300], Step [200/600], d_loss: 0.7490, g_loss: 1.9247, D(x): 0.77, D(G(z)): 0.29\n",
            "Epoch [64/300], Step [400/600], d_loss: 0.8591, g_loss: 1.5320, D(x): 0.79, D(G(z)): 0.36\n"
          ]
        },
        {
          "metadata": {
            "tags": null
          },
          "name": "stderr",
          "output_type": "stream",
          "text": [
            "\r 22%|██▏       | 65/300 [27:24<1:37:07, 24.80s/it]"
          ]
        },
        {
          "metadata": {
            "tags": null
          },
          "name": "stdout",
          "output_type": "stream",
          "text": [
            "Epoch [64/300], Step [600/600], d_loss: 0.9969, g_loss: 1.7473, D(x): 0.72, D(G(z)): 0.34\n",
            "Saving fake_images-0065.png\n",
            "Epoch [65/300], Step [200/600], d_loss: 1.0503, g_loss: 1.6925, D(x): 0.67, D(G(z)): 0.33\n",
            "Epoch [65/300], Step [400/600], d_loss: 0.9691, g_loss: 1.7754, D(x): 0.76, D(G(z)): 0.37\n"
          ]
        },
        {
          "metadata": {
            "tags": null
          },
          "name": "stderr",
          "output_type": "stream",
          "text": [
            "\r 22%|██▏       | 66/300 [27:48<1:36:26, 24.73s/it]"
          ]
        },
        {
          "metadata": {
            "tags": null
          },
          "name": "stdout",
          "output_type": "stream",
          "text": [
            "Epoch [65/300], Step [600/600], d_loss: 1.0434, g_loss: 1.6696, D(x): 0.68, D(G(z)): 0.33\n",
            "Saving fake_images-0066.png\n",
            "Epoch [66/300], Step [200/600], d_loss: 0.8143, g_loss: 1.6904, D(x): 0.75, D(G(z)): 0.31\n",
            "Epoch [66/300], Step [400/600], d_loss: 0.7886, g_loss: 1.9432, D(x): 0.74, D(G(z)): 0.29\n"
          ]
        },
        {
          "metadata": {
            "tags": null
          },
          "name": "stderr",
          "output_type": "stream",
          "text": [
            "\r 22%|██▏       | 67/300 [28:13<1:35:54, 24.70s/it]"
          ]
        },
        {
          "metadata": {
            "tags": null
          },
          "name": "stdout",
          "output_type": "stream",
          "text": [
            "Epoch [66/300], Step [600/600], d_loss: 0.9173, g_loss: 1.8185, D(x): 0.64, D(G(z)): 0.24\n",
            "Saving fake_images-0067.png\n",
            "Epoch [67/300], Step [200/600], d_loss: 0.8228, g_loss: 1.6383, D(x): 0.77, D(G(z)): 0.29\n",
            "Epoch [67/300], Step [400/600], d_loss: 0.7529, g_loss: 1.7382, D(x): 0.78, D(G(z)): 0.29\n"
          ]
        },
        {
          "metadata": {
            "tags": null
          },
          "name": "stderr",
          "output_type": "stream",
          "text": [
            "\r 23%|██▎       | 68/300 [28:38<1:35:21, 24.66s/it]"
          ]
        },
        {
          "metadata": {
            "tags": null
          },
          "name": "stdout",
          "output_type": "stream",
          "text": [
            "Epoch [67/300], Step [600/600], d_loss: 0.9970, g_loss: 1.5834, D(x): 0.70, D(G(z)): 0.33\n",
            "Saving fake_images-0068.png\n",
            "Epoch [68/300], Step [200/600], d_loss: 1.0125, g_loss: 1.5776, D(x): 0.69, D(G(z)): 0.33\n",
            "Epoch [68/300], Step [400/600], d_loss: 0.7416, g_loss: 1.5502, D(x): 0.73, D(G(z)): 0.25\n"
          ]
        },
        {
          "metadata": {
            "tags": null
          },
          "name": "stderr",
          "output_type": "stream",
          "text": [
            "\r 23%|██▎       | 69/300 [29:02<1:34:54, 24.65s/it]"
          ]
        },
        {
          "metadata": {
            "tags": null
          },
          "name": "stdout",
          "output_type": "stream",
          "text": [
            "Epoch [68/300], Step [600/600], d_loss: 0.7168, g_loss: 1.9112, D(x): 0.73, D(G(z)): 0.23\n",
            "Saving fake_images-0069.png\n",
            "Epoch [69/300], Step [200/600], d_loss: 0.8501, g_loss: 1.8005, D(x): 0.67, D(G(z)): 0.23\n",
            "Epoch [69/300], Step [400/600], d_loss: 1.1192, g_loss: 1.8078, D(x): 0.65, D(G(z)): 0.28\n"
          ]
        },
        {
          "metadata": {
            "tags": null
          },
          "name": "stderr",
          "output_type": "stream",
          "text": [
            "\r 23%|██▎       | 70/300 [29:28<1:35:55, 25.02s/it]"
          ]
        },
        {
          "metadata": {
            "tags": null
          },
          "name": "stdout",
          "output_type": "stream",
          "text": [
            "Epoch [69/300], Step [600/600], d_loss: 0.9095, g_loss: 1.4670, D(x): 0.76, D(G(z)): 0.34\n",
            "Saving fake_images-0070.png\n",
            "Epoch [70/300], Step [200/600], d_loss: 0.9613, g_loss: 1.5089, D(x): 0.72, D(G(z)): 0.36\n",
            "Epoch [70/300], Step [400/600], d_loss: 1.0637, g_loss: 1.5412, D(x): 0.64, D(G(z)): 0.31\n"
          ]
        },
        {
          "metadata": {
            "tags": null
          },
          "name": "stderr",
          "output_type": "stream",
          "text": [
            "\r 24%|██▎       | 71/300 [29:53<1:35:12, 24.95s/it]"
          ]
        },
        {
          "metadata": {
            "tags": null
          },
          "name": "stdout",
          "output_type": "stream",
          "text": [
            "Epoch [70/300], Step [600/600], d_loss: 0.7478, g_loss: 1.4897, D(x): 0.74, D(G(z)): 0.28\n",
            "Saving fake_images-0071.png\n",
            "Epoch [71/300], Step [200/600], d_loss: 1.0248, g_loss: 1.8591, D(x): 0.69, D(G(z)): 0.34\n",
            "Epoch [71/300], Step [400/600], d_loss: 1.0093, g_loss: 1.6815, D(x): 0.68, D(G(z)): 0.31\n"
          ]
        },
        {
          "metadata": {
            "tags": null
          },
          "name": "stderr",
          "output_type": "stream",
          "text": [
            "\r 24%|██▍       | 72/300 [30:18<1:34:31, 24.88s/it]"
          ]
        },
        {
          "metadata": {
            "tags": null
          },
          "name": "stdout",
          "output_type": "stream",
          "text": [
            "Epoch [71/300], Step [600/600], d_loss: 0.9549, g_loss: 1.3827, D(x): 0.63, D(G(z)): 0.26\n",
            "Saving fake_images-0072.png\n",
            "Epoch [72/300], Step [200/600], d_loss: 0.8545, g_loss: 1.3037, D(x): 0.74, D(G(z)): 0.30\n",
            "Epoch [72/300], Step [400/600], d_loss: 0.9076, g_loss: 1.7291, D(x): 0.72, D(G(z)): 0.33\n"
          ]
        },
        {
          "metadata": {
            "tags": null
          },
          "name": "stderr",
          "output_type": "stream",
          "text": [
            "\r 24%|██▍       | 73/300 [30:42<1:33:47, 24.79s/it]"
          ]
        },
        {
          "metadata": {
            "tags": null
          },
          "name": "stdout",
          "output_type": "stream",
          "text": [
            "Epoch [72/300], Step [600/600], d_loss: 1.1468, g_loss: 1.3838, D(x): 0.67, D(G(z)): 0.39\n",
            "Saving fake_images-0073.png\n",
            "Epoch [73/300], Step [200/600], d_loss: 1.1278, g_loss: 1.2962, D(x): 0.64, D(G(z)): 0.35\n",
            "Epoch [73/300], Step [400/600], d_loss: 0.8191, g_loss: 1.6061, D(x): 0.70, D(G(z)): 0.27\n"
          ]
        },
        {
          "metadata": {
            "tags": null
          },
          "name": "stderr",
          "output_type": "stream",
          "text": [
            "\r 25%|██▍       | 74/300 [31:07<1:33:12, 24.74s/it]"
          ]
        },
        {
          "metadata": {
            "tags": null
          },
          "name": "stdout",
          "output_type": "stream",
          "text": [
            "Epoch [73/300], Step [600/600], d_loss: 1.0952, g_loss: 1.6832, D(x): 0.63, D(G(z)): 0.31\n",
            "Saving fake_images-0074.png\n",
            "Epoch [74/300], Step [200/600], d_loss: 0.9977, g_loss: 1.4776, D(x): 0.62, D(G(z)): 0.28\n",
            "Epoch [74/300], Step [400/600], d_loss: 0.9381, g_loss: 1.5100, D(x): 0.67, D(G(z)): 0.31\n"
          ]
        },
        {
          "metadata": {
            "tags": null
          },
          "name": "stderr",
          "output_type": "stream",
          "text": [
            "\r 25%|██▌       | 75/300 [31:31<1:32:32, 24.68s/it]"
          ]
        },
        {
          "metadata": {
            "tags": null
          },
          "name": "stdout",
          "output_type": "stream",
          "text": [
            "Epoch [74/300], Step [600/600], d_loss: 0.9236, g_loss: 1.5109, D(x): 0.71, D(G(z)): 0.33\n",
            "Saving fake_images-0075.png\n",
            "Epoch [75/300], Step [200/600], d_loss: 1.0742, g_loss: 1.3220, D(x): 0.65, D(G(z)): 0.34\n",
            "Epoch [75/300], Step [400/600], d_loss: 0.8770, g_loss: 1.7859, D(x): 0.70, D(G(z)): 0.28\n"
          ]
        },
        {
          "metadata": {
            "tags": null
          },
          "name": "stderr",
          "output_type": "stream",
          "text": [
            "\r 25%|██▌       | 76/300 [31:56<1:31:44, 24.57s/it]"
          ]
        },
        {
          "metadata": {
            "tags": null
          },
          "name": "stdout",
          "output_type": "stream",
          "text": [
            "Epoch [75/300], Step [600/600], d_loss: 1.0397, g_loss: 1.5235, D(x): 0.62, D(G(z)): 0.29\n",
            "Saving fake_images-0076.png\n",
            "Epoch [76/300], Step [200/600], d_loss: 1.1506, g_loss: 1.4315, D(x): 0.64, D(G(z)): 0.36\n",
            "Epoch [76/300], Step [400/600], d_loss: 1.0711, g_loss: 1.4454, D(x): 0.68, D(G(z)): 0.35\n"
          ]
        },
        {
          "metadata": {
            "tags": null
          },
          "name": "stderr",
          "output_type": "stream",
          "text": [
            "\r 26%|██▌       | 77/300 [32:20<1:30:53, 24.46s/it]"
          ]
        },
        {
          "metadata": {
            "tags": null
          },
          "name": "stdout",
          "output_type": "stream",
          "text": [
            "Epoch [76/300], Step [600/600], d_loss: 0.7959, g_loss: 1.7501, D(x): 0.72, D(G(z)): 0.28\n",
            "Saving fake_images-0077.png\n",
            "Epoch [77/300], Step [200/600], d_loss: 0.9718, g_loss: 1.5172, D(x): 0.68, D(G(z)): 0.30\n",
            "Epoch [77/300], Step [400/600], d_loss: 1.0053, g_loss: 1.8732, D(x): 0.69, D(G(z)): 0.32\n"
          ]
        },
        {
          "metadata": {
            "tags": null
          },
          "name": "stderr",
          "output_type": "stream",
          "text": [
            "\r 26%|██▌       | 78/300 [32:46<1:31:43, 24.79s/it]"
          ]
        },
        {
          "metadata": {
            "tags": null
          },
          "name": "stdout",
          "output_type": "stream",
          "text": [
            "Epoch [77/300], Step [600/600], d_loss: 1.1058, g_loss: 1.4887, D(x): 0.67, D(G(z)): 0.38\n",
            "Saving fake_images-0078.png\n",
            "Epoch [78/300], Step [200/600], d_loss: 1.1179, g_loss: 1.5386, D(x): 0.60, D(G(z)): 0.30\n",
            "Epoch [78/300], Step [400/600], d_loss: 0.9351, g_loss: 1.4588, D(x): 0.72, D(G(z)): 0.34\n"
          ]
        },
        {
          "metadata": {
            "tags": null
          },
          "name": "stderr",
          "output_type": "stream",
          "text": [
            "\r 26%|██▋       | 79/300 [33:10<1:30:55, 24.68s/it]"
          ]
        },
        {
          "metadata": {
            "tags": null
          },
          "name": "stdout",
          "output_type": "stream",
          "text": [
            "Epoch [78/300], Step [600/600], d_loss: 1.0460, g_loss: 1.2965, D(x): 0.69, D(G(z)): 0.38\n",
            "Saving fake_images-0079.png\n",
            "Epoch [79/300], Step [200/600], d_loss: 1.0294, g_loss: 1.5802, D(x): 0.69, D(G(z)): 0.36\n",
            "Epoch [79/300], Step [400/600], d_loss: 0.7852, g_loss: 1.6631, D(x): 0.73, D(G(z)): 0.28\n"
          ]
        },
        {
          "metadata": {
            "tags": null
          },
          "name": "stderr",
          "output_type": "stream",
          "text": [
            "\r 27%|██▋       | 80/300 [33:34<1:30:14, 24.61s/it]"
          ]
        },
        {
          "metadata": {
            "tags": null
          },
          "name": "stdout",
          "output_type": "stream",
          "text": [
            "Epoch [79/300], Step [600/600], d_loss: 0.9642, g_loss: 1.4784, D(x): 0.72, D(G(z)): 0.37\n",
            "Saving fake_images-0080.png\n",
            "Epoch [80/300], Step [200/600], d_loss: 0.9326, g_loss: 1.3784, D(x): 0.71, D(G(z)): 0.33\n",
            "Epoch [80/300], Step [400/600], d_loss: 0.8324, g_loss: 1.5354, D(x): 0.74, D(G(z)): 0.31\n"
          ]
        },
        {
          "metadata": {
            "tags": null
          },
          "name": "stderr",
          "output_type": "stream",
          "text": [
            "\r 27%|██▋       | 81/300 [33:59<1:29:52, 24.62s/it]"
          ]
        },
        {
          "metadata": {
            "tags": null
          },
          "name": "stdout",
          "output_type": "stream",
          "text": [
            "Epoch [80/300], Step [600/600], d_loss: 1.0588, g_loss: 1.2574, D(x): 0.65, D(G(z)): 0.32\n",
            "Saving fake_images-0081.png\n",
            "Epoch [81/300], Step [200/600], d_loss: 0.9619, g_loss: 1.6839, D(x): 0.72, D(G(z)): 0.38\n",
            "Epoch [81/300], Step [400/600], d_loss: 1.0380, g_loss: 1.5014, D(x): 0.69, D(G(z)): 0.35\n"
          ]
        },
        {
          "metadata": {
            "tags": null
          },
          "name": "stderr",
          "output_type": "stream",
          "text": [
            "\r 27%|██▋       | 82/300 [34:24<1:29:16, 24.57s/it]"
          ]
        },
        {
          "metadata": {
            "tags": null
          },
          "name": "stdout",
          "output_type": "stream",
          "text": [
            "Epoch [81/300], Step [600/600], d_loss: 1.1488, g_loss: 1.1164, D(x): 0.62, D(G(z)): 0.38\n",
            "Saving fake_images-0082.png\n",
            "Epoch [82/300], Step [200/600], d_loss: 0.9226, g_loss: 1.4166, D(x): 0.71, D(G(z)): 0.31\n",
            "Epoch [82/300], Step [400/600], d_loss: 0.9246, g_loss: 1.4929, D(x): 0.68, D(G(z)): 0.31\n"
          ]
        },
        {
          "metadata": {
            "tags": null
          },
          "name": "stderr",
          "output_type": "stream",
          "text": [
            "\r 28%|██▊       | 83/300 [34:48<1:28:36, 24.50s/it]"
          ]
        },
        {
          "metadata": {
            "tags": null
          },
          "name": "stdout",
          "output_type": "stream",
          "text": [
            "Epoch [82/300], Step [600/600], d_loss: 0.9806, g_loss: 1.3701, D(x): 0.74, D(G(z)): 0.36\n",
            "Saving fake_images-0083.png\n",
            "Epoch [83/300], Step [200/600], d_loss: 1.0080, g_loss: 1.4123, D(x): 0.68, D(G(z)): 0.35\n",
            "Epoch [83/300], Step [400/600], d_loss: 1.0414, g_loss: 1.2590, D(x): 0.68, D(G(z)): 0.35\n"
          ]
        },
        {
          "metadata": {
            "tags": null
          },
          "name": "stderr",
          "output_type": "stream",
          "text": [
            "\r 28%|██▊       | 84/300 [35:12<1:27:55, 24.42s/it]"
          ]
        },
        {
          "metadata": {
            "tags": null
          },
          "name": "stdout",
          "output_type": "stream",
          "text": [
            "Epoch [83/300], Step [600/600], d_loss: 0.9287, g_loss: 1.4846, D(x): 0.72, D(G(z)): 0.34\n",
            "Saving fake_images-0084.png\n",
            "Epoch [84/300], Step [200/600], d_loss: 1.1165, g_loss: 1.4709, D(x): 0.62, D(G(z)): 0.32\n",
            "Epoch [84/300], Step [400/600], d_loss: 0.9451, g_loss: 1.5744, D(x): 0.65, D(G(z)): 0.28\n"
          ]
        },
        {
          "metadata": {
            "tags": null
          },
          "name": "stderr",
          "output_type": "stream",
          "text": [
            "\r 28%|██▊       | 85/300 [35:36<1:27:30, 24.42s/it]"
          ]
        },
        {
          "metadata": {
            "tags": null
          },
          "name": "stdout",
          "output_type": "stream",
          "text": [
            "Epoch [84/300], Step [600/600], d_loss: 0.8385, g_loss: 1.2632, D(x): 0.71, D(G(z)): 0.30\n",
            "Saving fake_images-0085.png\n",
            "Epoch [85/300], Step [200/600], d_loss: 0.8579, g_loss: 1.4788, D(x): 0.75, D(G(z)): 0.34\n",
            "Epoch [85/300], Step [400/600], d_loss: 1.1522, g_loss: 1.1314, D(x): 0.67, D(G(z)): 0.40\n"
          ]
        },
        {
          "metadata": {
            "tags": null
          },
          "name": "stderr",
          "output_type": "stream",
          "text": [
            "\r 29%|██▊       | 86/300 [36:01<1:27:10, 24.44s/it]"
          ]
        },
        {
          "metadata": {
            "tags": null
          },
          "name": "stdout",
          "output_type": "stream",
          "text": [
            "Epoch [85/300], Step [600/600], d_loss: 1.0077, g_loss: 1.5734, D(x): 0.70, D(G(z)): 0.37\n",
            "Saving fake_images-0086.png\n",
            "Epoch [86/300], Step [200/600], d_loss: 0.9576, g_loss: 1.6405, D(x): 0.69, D(G(z)): 0.31\n",
            "Epoch [86/300], Step [400/600], d_loss: 0.8623, g_loss: 1.5195, D(x): 0.66, D(G(z)): 0.26\n"
          ]
        },
        {
          "metadata": {
            "tags": null
          },
          "name": "stderr",
          "output_type": "stream",
          "text": [
            "\r 29%|██▉       | 87/300 [36:27<1:28:14, 24.86s/it]"
          ]
        },
        {
          "metadata": {
            "tags": null
          },
          "name": "stdout",
          "output_type": "stream",
          "text": [
            "Epoch [86/300], Step [600/600], d_loss: 1.1535, g_loss: 1.3353, D(x): 0.68, D(G(z)): 0.41\n",
            "Saving fake_images-0087.png\n",
            "Epoch [87/300], Step [200/600], d_loss: 1.1035, g_loss: 1.2062, D(x): 0.68, D(G(z)): 0.41\n",
            "Epoch [87/300], Step [400/600], d_loss: 1.0683, g_loss: 1.2668, D(x): 0.65, D(G(z)): 0.37\n"
          ]
        },
        {
          "metadata": {
            "tags": null
          },
          "name": "stderr",
          "output_type": "stream",
          "text": [
            "\r 29%|██▉       | 88/300 [36:52<1:28:20, 25.00s/it]"
          ]
        },
        {
          "metadata": {
            "tags": null
          },
          "name": "stdout",
          "output_type": "stream",
          "text": [
            "Epoch [87/300], Step [600/600], d_loss: 1.1408, g_loss: 1.2545, D(x): 0.65, D(G(z)): 0.37\n",
            "Saving fake_images-0088.png\n",
            "Epoch [88/300], Step [200/600], d_loss: 1.3122, g_loss: 1.3776, D(x): 0.61, D(G(z)): 0.41\n",
            "Epoch [88/300], Step [400/600], d_loss: 0.8450, g_loss: 1.2948, D(x): 0.74, D(G(z)): 0.34\n"
          ]
        },
        {
          "metadata": {
            "tags": null
          },
          "name": "stderr",
          "output_type": "stream",
          "text": [
            "\r 30%|██▉       | 89/300 [37:17<1:28:16, 25.10s/it]"
          ]
        },
        {
          "metadata": {
            "tags": null
          },
          "name": "stdout",
          "output_type": "stream",
          "text": [
            "Epoch [88/300], Step [600/600], d_loss: 0.9493, g_loss: 1.4738, D(x): 0.66, D(G(z)): 0.31\n",
            "Saving fake_images-0089.png\n",
            "Epoch [89/300], Step [200/600], d_loss: 1.1563, g_loss: 1.7203, D(x): 0.61, D(G(z)): 0.33\n",
            "Epoch [89/300], Step [400/600], d_loss: 1.1660, g_loss: 0.9889, D(x): 0.68, D(G(z)): 0.45\n"
          ]
        },
        {
          "metadata": {
            "tags": null
          },
          "name": "stderr",
          "output_type": "stream",
          "text": [
            "\r 30%|███       | 90/300 [37:43<1:27:56, 25.13s/it]"
          ]
        },
        {
          "metadata": {
            "tags": null
          },
          "name": "stdout",
          "output_type": "stream",
          "text": [
            "Epoch [89/300], Step [600/600], d_loss: 1.1044, g_loss: 1.2151, D(x): 0.63, D(G(z)): 0.39\n",
            "Saving fake_images-0090.png\n",
            "Epoch [90/300], Step [200/600], d_loss: 1.0312, g_loss: 1.1859, D(x): 0.66, D(G(z)): 0.36\n",
            "Epoch [90/300], Step [400/600], d_loss: 0.8963, g_loss: 1.4702, D(x): 0.66, D(G(z)): 0.29\n"
          ]
        },
        {
          "metadata": {
            "tags": null
          },
          "name": "stderr",
          "output_type": "stream",
          "text": [
            "\r 30%|███       | 91/300 [38:08<1:27:38, 25.16s/it]"
          ]
        },
        {
          "metadata": {
            "tags": null
          },
          "name": "stdout",
          "output_type": "stream",
          "text": [
            "Epoch [90/300], Step [600/600], d_loss: 1.2434, g_loss: 1.3942, D(x): 0.55, D(G(z)): 0.33\n",
            "Saving fake_images-0091.png\n",
            "Epoch [91/300], Step [200/600], d_loss: 1.2114, g_loss: 1.4433, D(x): 0.59, D(G(z)): 0.37\n",
            "Epoch [91/300], Step [400/600], d_loss: 1.1684, g_loss: 1.2590, D(x): 0.64, D(G(z)): 0.38\n"
          ]
        },
        {
          "metadata": {
            "tags": null
          },
          "name": "stderr",
          "output_type": "stream",
          "text": [
            "\r 31%|███       | 92/300 [38:33<1:27:24, 25.22s/it]"
          ]
        },
        {
          "metadata": {
            "tags": null
          },
          "name": "stdout",
          "output_type": "stream",
          "text": [
            "Epoch [91/300], Step [600/600], d_loss: 0.8503, g_loss: 1.5354, D(x): 0.73, D(G(z)): 0.34\n",
            "Saving fake_images-0092.png\n",
            "Epoch [92/300], Step [200/600], d_loss: 1.0209, g_loss: 1.3135, D(x): 0.68, D(G(z)): 0.37\n",
            "Epoch [92/300], Step [400/600], d_loss: 1.2280, g_loss: 1.0863, D(x): 0.64, D(G(z)): 0.43\n"
          ]
        },
        {
          "metadata": {
            "tags": null
          },
          "name": "stderr",
          "output_type": "stream",
          "text": [
            "\r 31%|███       | 93/300 [38:59<1:27:15, 25.29s/it]"
          ]
        },
        {
          "metadata": {
            "tags": null
          },
          "name": "stdout",
          "output_type": "stream",
          "text": [
            "Epoch [92/300], Step [600/600], d_loss: 1.0463, g_loss: 1.4205, D(x): 0.60, D(G(z)): 0.29\n",
            "Saving fake_images-0093.png\n",
            "Epoch [93/300], Step [200/600], d_loss: 1.0617, g_loss: 1.3199, D(x): 0.69, D(G(z)): 0.38\n",
            "Epoch [93/300], Step [400/600], d_loss: 1.0885, g_loss: 1.1781, D(x): 0.63, D(G(z)): 0.37\n"
          ]
        },
        {
          "metadata": {
            "tags": null
          },
          "name": "stderr",
          "output_type": "stream",
          "text": [
            "\r 31%|███▏      | 94/300 [39:25<1:27:28, 25.48s/it]"
          ]
        },
        {
          "metadata": {
            "tags": null
          },
          "name": "stdout",
          "output_type": "stream",
          "text": [
            "Epoch [93/300], Step [600/600], d_loss: 0.9747, g_loss: 1.5409, D(x): 0.69, D(G(z)): 0.35\n",
            "Saving fake_images-0094.png\n",
            "Epoch [94/300], Step [200/600], d_loss: 1.0735, g_loss: 1.3410, D(x): 0.67, D(G(z)): 0.39\n",
            "Epoch [94/300], Step [400/600], d_loss: 1.0633, g_loss: 1.3673, D(x): 0.67, D(G(z)): 0.37\n"
          ]
        },
        {
          "metadata": {
            "tags": null
          },
          "name": "stderr",
          "output_type": "stream",
          "text": [
            "\r 32%|███▏      | 95/300 [39:50<1:27:22, 25.57s/it]"
          ]
        },
        {
          "metadata": {
            "tags": null
          },
          "name": "stdout",
          "output_type": "stream",
          "text": [
            "Epoch [94/300], Step [600/600], d_loss: 1.3141, g_loss: 1.0619, D(x): 0.64, D(G(z)): 0.45\n",
            "Saving fake_images-0095.png\n",
            "Epoch [95/300], Step [200/600], d_loss: 0.9762, g_loss: 1.6804, D(x): 0.66, D(G(z)): 0.30\n",
            "Epoch [95/300], Step [400/600], d_loss: 0.9005, g_loss: 1.2577, D(x): 0.69, D(G(z)): 0.33\n"
          ]
        },
        {
          "metadata": {
            "tags": null
          },
          "name": "stderr",
          "output_type": "stream",
          "text": [
            "\r 32%|███▏      | 96/300 [40:16<1:26:40, 25.49s/it]"
          ]
        },
        {
          "metadata": {
            "tags": null
          },
          "name": "stdout",
          "output_type": "stream",
          "text": [
            "Epoch [95/300], Step [600/600], d_loss: 1.0402, g_loss: 1.3149, D(x): 0.64, D(G(z)): 0.35\n",
            "Saving fake_images-0096.png\n",
            "Epoch [96/300], Step [200/600], d_loss: 0.9835, g_loss: 1.2971, D(x): 0.66, D(G(z)): 0.35\n",
            "Epoch [96/300], Step [400/600], d_loss: 1.0251, g_loss: 1.4801, D(x): 0.62, D(G(z)): 0.31\n"
          ]
        },
        {
          "metadata": {
            "tags": null
          },
          "name": "stderr",
          "output_type": "stream",
          "text": [
            "\r 32%|███▏      | 97/300 [40:41<1:26:23, 25.53s/it]"
          ]
        },
        {
          "metadata": {
            "tags": null
          },
          "name": "stdout",
          "output_type": "stream",
          "text": [
            "Epoch [96/300], Step [600/600], d_loss: 1.0633, g_loss: 1.3282, D(x): 0.61, D(G(z)): 0.32\n",
            "Saving fake_images-0097.png\n",
            "Epoch [97/300], Step [200/600], d_loss: 0.8439, g_loss: 1.2744, D(x): 0.70, D(G(z)): 0.31\n",
            "Epoch [97/300], Step [400/600], d_loss: 1.0291, g_loss: 1.2855, D(x): 0.68, D(G(z)): 0.38\n"
          ]
        },
        {
          "metadata": {
            "tags": null
          },
          "name": "stderr",
          "output_type": "stream",
          "text": [
            "\r 33%|███▎      | 98/300 [41:07<1:26:17, 25.63s/it]"
          ]
        },
        {
          "metadata": {
            "tags": null
          },
          "name": "stdout",
          "output_type": "stream",
          "text": [
            "Epoch [97/300], Step [600/600], d_loss: 1.0244, g_loss: 1.1637, D(x): 0.64, D(G(z)): 0.34\n",
            "Saving fake_images-0098.png\n",
            "Epoch [98/300], Step [200/600], d_loss: 0.8689, g_loss: 1.3336, D(x): 0.72, D(G(z)): 0.33\n",
            "Epoch [98/300], Step [400/600], d_loss: 1.0683, g_loss: 1.2050, D(x): 0.66, D(G(z)): 0.39\n"
          ]
        },
        {
          "metadata": {
            "tags": null
          },
          "name": "stderr",
          "output_type": "stream",
          "text": [
            "\r 33%|███▎      | 99/300 [41:33<1:25:48, 25.61s/it]"
          ]
        },
        {
          "metadata": {
            "tags": null
          },
          "name": "stdout",
          "output_type": "stream",
          "text": [
            "Epoch [98/300], Step [600/600], d_loss: 0.9958, g_loss: 1.3871, D(x): 0.68, D(G(z)): 0.34\n",
            "Saving fake_images-0099.png\n",
            "Epoch [99/300], Step [200/600], d_loss: 1.3790, g_loss: 1.0630, D(x): 0.62, D(G(z)): 0.47\n",
            "Epoch [99/300], Step [400/600], d_loss: 1.1329, g_loss: 1.2651, D(x): 0.62, D(G(z)): 0.38\n"
          ]
        },
        {
          "metadata": {
            "tags": null
          },
          "name": "stderr",
          "output_type": "stream",
          "text": [
            "\r 33%|███▎      | 100/300 [41:58<1:25:14, 25.57s/it]"
          ]
        },
        {
          "metadata": {
            "tags": null
          },
          "name": "stdout",
          "output_type": "stream",
          "text": [
            "Epoch [99/300], Step [600/600], d_loss: 0.8816, g_loss: 1.4936, D(x): 0.65, D(G(z)): 0.28\n",
            "Saving fake_images-0100.png\n",
            "Epoch [100/300], Step [200/600], d_loss: 1.0079, g_loss: 1.2038, D(x): 0.67, D(G(z)): 0.34\n",
            "Epoch [100/300], Step [400/600], d_loss: 1.1639, g_loss: 1.1551, D(x): 0.66, D(G(z)): 0.41\n"
          ]
        },
        {
          "metadata": {
            "tags": null
          },
          "name": "stderr",
          "output_type": "stream",
          "text": [
            "\r 34%|███▎      | 101/300 [42:23<1:23:55, 25.30s/it]"
          ]
        },
        {
          "metadata": {
            "tags": null
          },
          "name": "stdout",
          "output_type": "stream",
          "text": [
            "Epoch [100/300], Step [600/600], d_loss: 1.1482, g_loss: 1.1826, D(x): 0.68, D(G(z)): 0.45\n",
            "Saving fake_images-0101.png\n",
            "Epoch [101/300], Step [200/600], d_loss: 1.0409, g_loss: 1.0925, D(x): 0.63, D(G(z)): 0.35\n",
            "Epoch [101/300], Step [400/600], d_loss: 0.9647, g_loss: 1.3486, D(x): 0.71, D(G(z)): 0.34\n"
          ]
        },
        {
          "metadata": {
            "tags": null
          },
          "name": "stderr",
          "output_type": "stream",
          "text": [
            "\r 34%|███▍      | 102/300 [42:49<1:24:18, 25.55s/it]"
          ]
        },
        {
          "metadata": {
            "tags": null
          },
          "name": "stdout",
          "output_type": "stream",
          "text": [
            "Epoch [101/300], Step [600/600], d_loss: 1.0983, g_loss: 1.0887, D(x): 0.64, D(G(z)): 0.37\n",
            "Saving fake_images-0102.png\n",
            "Epoch [102/300], Step [200/600], d_loss: 0.9640, g_loss: 1.1695, D(x): 0.71, D(G(z)): 0.38\n",
            "Epoch [102/300], Step [400/600], d_loss: 1.0598, g_loss: 1.2174, D(x): 0.62, D(G(z)): 0.33\n"
          ]
        },
        {
          "metadata": {
            "tags": null
          },
          "name": "stderr",
          "output_type": "stream",
          "text": [
            "\r 34%|███▍      | 103/300 [43:14<1:23:21, 25.39s/it]"
          ]
        },
        {
          "metadata": {
            "tags": null
          },
          "name": "stdout",
          "output_type": "stream",
          "text": [
            "Epoch [102/300], Step [600/600], d_loss: 0.8148, g_loss: 1.5180, D(x): 0.73, D(G(z)): 0.31\n",
            "Saving fake_images-0103.png\n",
            "Epoch [103/300], Step [200/600], d_loss: 1.2502, g_loss: 1.2246, D(x): 0.59, D(G(z)): 0.39\n",
            "Epoch [103/300], Step [400/600], d_loss: 1.2204, g_loss: 0.9806, D(x): 0.62, D(G(z)): 0.41\n"
          ]
        },
        {
          "metadata": {
            "tags": null
          },
          "name": "stderr",
          "output_type": "stream",
          "text": [
            "\r 35%|███▍      | 104/300 [43:39<1:22:07, 25.14s/it]"
          ]
        },
        {
          "metadata": {
            "tags": null
          },
          "name": "stdout",
          "output_type": "stream",
          "text": [
            "Epoch [103/300], Step [600/600], d_loss: 1.1698, g_loss: 1.3074, D(x): 0.63, D(G(z)): 0.40\n",
            "Saving fake_images-0104.png\n",
            "Epoch [104/300], Step [200/600], d_loss: 0.9844, g_loss: 1.2805, D(x): 0.71, D(G(z)): 0.38\n",
            "Epoch [104/300], Step [400/600], d_loss: 1.2103, g_loss: 1.2178, D(x): 0.59, D(G(z)): 0.38\n"
          ]
        },
        {
          "metadata": {
            "tags": null
          },
          "name": "stderr",
          "output_type": "stream",
          "text": [
            "\r 35%|███▌      | 105/300 [44:03<1:21:13, 24.99s/it]"
          ]
        },
        {
          "metadata": {
            "tags": null
          },
          "name": "stdout",
          "output_type": "stream",
          "text": [
            "Epoch [104/300], Step [600/600], d_loss: 1.1992, g_loss: 1.1391, D(x): 0.65, D(G(z)): 0.44\n",
            "Saving fake_images-0105.png\n",
            "Epoch [105/300], Step [200/600], d_loss: 0.7961, g_loss: 1.4323, D(x): 0.72, D(G(z)): 0.29\n",
            "Epoch [105/300], Step [400/600], d_loss: 0.9368, g_loss: 1.4796, D(x): 0.68, D(G(z)): 0.34\n"
          ]
        },
        {
          "metadata": {
            "tags": null
          },
          "name": "stderr",
          "output_type": "stream",
          "text": [
            "\r 35%|███▌      | 106/300 [44:28<1:20:33, 24.92s/it]"
          ]
        },
        {
          "metadata": {
            "tags": null
          },
          "name": "stdout",
          "output_type": "stream",
          "text": [
            "Epoch [105/300], Step [600/600], d_loss: 1.1206, g_loss: 1.2630, D(x): 0.60, D(G(z)): 0.36\n",
            "Saving fake_images-0106.png\n",
            "Epoch [106/300], Step [200/600], d_loss: 0.9858, g_loss: 1.2890, D(x): 0.72, D(G(z)): 0.39\n",
            "Epoch [106/300], Step [400/600], d_loss: 1.1424, g_loss: 1.1710, D(x): 0.66, D(G(z)): 0.40\n"
          ]
        },
        {
          "metadata": {
            "tags": null
          },
          "name": "stderr",
          "output_type": "stream",
          "text": [
            "\r 36%|███▌      | 107/300 [44:53<1:19:46, 24.80s/it]"
          ]
        },
        {
          "metadata": {
            "tags": null
          },
          "name": "stdout",
          "output_type": "stream",
          "text": [
            "Epoch [106/300], Step [600/600], d_loss: 1.2650, g_loss: 1.0650, D(x): 0.58, D(G(z)): 0.40\n",
            "Saving fake_images-0107.png\n",
            "Epoch [107/300], Step [200/600], d_loss: 0.8161, g_loss: 1.3405, D(x): 0.70, D(G(z)): 0.30\n",
            "Epoch [107/300], Step [400/600], d_loss: 1.1353, g_loss: 1.4027, D(x): 0.62, D(G(z)): 0.37\n"
          ]
        },
        {
          "metadata": {
            "tags": null
          },
          "name": "stderr",
          "output_type": "stream",
          "text": [
            "\r 36%|███▌      | 108/300 [45:17<1:19:01, 24.70s/it]"
          ]
        },
        {
          "metadata": {
            "tags": null
          },
          "name": "stdout",
          "output_type": "stream",
          "text": [
            "Epoch [107/300], Step [600/600], d_loss: 1.2719, g_loss: 1.2182, D(x): 0.57, D(G(z)): 0.40\n",
            "Saving fake_images-0108.png\n",
            "Epoch [108/300], Step [200/600], d_loss: 1.2373, g_loss: 1.1293, D(x): 0.59, D(G(z)): 0.38\n",
            "Epoch [108/300], Step [400/600], d_loss: 1.0793, g_loss: 1.4001, D(x): 0.64, D(G(z)): 0.37\n"
          ]
        },
        {
          "metadata": {
            "tags": null
          },
          "name": "stderr",
          "output_type": "stream",
          "text": [
            "\r 36%|███▋      | 109/300 [45:42<1:18:37, 24.70s/it]"
          ]
        },
        {
          "metadata": {
            "tags": null
          },
          "name": "stdout",
          "output_type": "stream",
          "text": [
            "Epoch [108/300], Step [600/600], d_loss: 1.1099, g_loss: 1.2774, D(x): 0.64, D(G(z)): 0.40\n",
            "Saving fake_images-0109.png\n",
            "Epoch [109/300], Step [200/600], d_loss: 0.9685, g_loss: 1.4496, D(x): 0.65, D(G(z)): 0.30\n",
            "Epoch [109/300], Step [400/600], d_loss: 1.3066, g_loss: 0.9610, D(x): 0.64, D(G(z)): 0.47\n"
          ]
        },
        {
          "metadata": {
            "tags": null
          },
          "name": "stderr",
          "output_type": "stream",
          "text": [
            "\r 37%|███▋      | 110/300 [46:07<1:19:12, 25.01s/it]"
          ]
        },
        {
          "metadata": {
            "tags": null
          },
          "name": "stdout",
          "output_type": "stream",
          "text": [
            "Epoch [109/300], Step [600/600], d_loss: 1.2218, g_loss: 1.0139, D(x): 0.66, D(G(z)): 0.44\n",
            "Saving fake_images-0110.png\n",
            "Epoch [110/300], Step [200/600], d_loss: 1.0042, g_loss: 1.2491, D(x): 0.68, D(G(z)): 0.37\n",
            "Epoch [110/300], Step [400/600], d_loss: 1.1979, g_loss: 1.0796, D(x): 0.61, D(G(z)): 0.41\n"
          ]
        },
        {
          "metadata": {
            "tags": null
          },
          "name": "stderr",
          "output_type": "stream",
          "text": [
            "\r 37%|███▋      | 111/300 [46:32<1:18:23, 24.89s/it]"
          ]
        },
        {
          "metadata": {
            "tags": null
          },
          "name": "stdout",
          "output_type": "stream",
          "text": [
            "Epoch [110/300], Step [600/600], d_loss: 0.9747, g_loss: 1.5603, D(x): 0.66, D(G(z)): 0.33\n",
            "Saving fake_images-0111.png\n",
            "Epoch [111/300], Step [200/600], d_loss: 0.9753, g_loss: 1.1922, D(x): 0.72, D(G(z)): 0.38\n",
            "Epoch [111/300], Step [400/600], d_loss: 1.1270, g_loss: 1.1980, D(x): 0.58, D(G(z)): 0.35\n"
          ]
        },
        {
          "metadata": {
            "tags": null
          },
          "name": "stderr",
          "output_type": "stream",
          "text": [
            "\r 37%|███▋      | 112/300 [46:57<1:17:39, 24.78s/it]"
          ]
        },
        {
          "metadata": {
            "tags": null
          },
          "name": "stdout",
          "output_type": "stream",
          "text": [
            "Epoch [111/300], Step [600/600], d_loss: 1.0469, g_loss: 1.1408, D(x): 0.66, D(G(z)): 0.38\n",
            "Saving fake_images-0112.png\n",
            "Epoch [112/300], Step [200/600], d_loss: 0.9585, g_loss: 1.2347, D(x): 0.67, D(G(z)): 0.33\n",
            "Epoch [112/300], Step [400/600], d_loss: 0.9664, g_loss: 1.4028, D(x): 0.70, D(G(z)): 0.35\n"
          ]
        },
        {
          "metadata": {
            "tags": null
          },
          "name": "stderr",
          "output_type": "stream",
          "text": [
            "\r 38%|███▊      | 113/300 [47:21<1:16:59, 24.71s/it]"
          ]
        },
        {
          "metadata": {
            "tags": null
          },
          "name": "stdout",
          "output_type": "stream",
          "text": [
            "Epoch [112/300], Step [600/600], d_loss: 1.1602, g_loss: 1.2109, D(x): 0.61, D(G(z)): 0.39\n",
            "Saving fake_images-0113.png\n",
            "Epoch [113/300], Step [200/600], d_loss: 1.4394, g_loss: 1.2742, D(x): 0.52, D(G(z)): 0.40\n",
            "Epoch [113/300], Step [400/600], d_loss: 1.1049, g_loss: 1.2864, D(x): 0.65, D(G(z)): 0.39\n"
          ]
        },
        {
          "metadata": {
            "tags": null
          },
          "name": "stderr",
          "output_type": "stream",
          "text": [
            "\r 38%|███▊      | 114/300 [47:46<1:16:39, 24.73s/it]"
          ]
        },
        {
          "metadata": {
            "tags": null
          },
          "name": "stdout",
          "output_type": "stream",
          "text": [
            "Epoch [113/300], Step [600/600], d_loss: 1.0489, g_loss: 1.1462, D(x): 0.68, D(G(z)): 0.39\n",
            "Saving fake_images-0114.png\n",
            "Epoch [114/300], Step [200/600], d_loss: 0.9595, g_loss: 1.3433, D(x): 0.68, D(G(z)): 0.36\n",
            "Epoch [114/300], Step [400/600], d_loss: 1.0877, g_loss: 1.3279, D(x): 0.65, D(G(z)): 0.36\n"
          ]
        },
        {
          "metadata": {
            "tags": null
          },
          "name": "stderr",
          "output_type": "stream",
          "text": [
            "\r 38%|███▊      | 115/300 [48:11<1:16:11, 24.71s/it]"
          ]
        },
        {
          "metadata": {
            "tags": null
          },
          "name": "stdout",
          "output_type": "stream",
          "text": [
            "Epoch [114/300], Step [600/600], d_loss: 1.1442, g_loss: 1.1469, D(x): 0.65, D(G(z)): 0.40\n",
            "Saving fake_images-0115.png\n",
            "Epoch [115/300], Step [200/600], d_loss: 1.1744, g_loss: 1.1628, D(x): 0.61, D(G(z)): 0.40\n",
            "Epoch [115/300], Step [400/600], d_loss: 1.0137, g_loss: 1.2754, D(x): 0.64, D(G(z)): 0.35\n"
          ]
        },
        {
          "metadata": {
            "tags": null
          },
          "name": "stderr",
          "output_type": "stream",
          "text": [
            "\r 39%|███▊      | 116/300 [48:35<1:15:40, 24.68s/it]"
          ]
        },
        {
          "metadata": {
            "tags": null
          },
          "name": "stdout",
          "output_type": "stream",
          "text": [
            "Epoch [115/300], Step [600/600], d_loss: 1.0786, g_loss: 1.2152, D(x): 0.65, D(G(z)): 0.38\n",
            "Saving fake_images-0116.png\n",
            "Epoch [116/300], Step [200/600], d_loss: 0.9891, g_loss: 1.0915, D(x): 0.61, D(G(z)): 0.29\n",
            "Epoch [116/300], Step [400/600], d_loss: 0.9855, g_loss: 1.3734, D(x): 0.67, D(G(z)): 0.35\n"
          ]
        },
        {
          "metadata": {
            "tags": null
          },
          "name": "stderr",
          "output_type": "stream",
          "text": [
            "\r 39%|███▉      | 117/300 [49:00<1:15:21, 24.71s/it]"
          ]
        },
        {
          "metadata": {
            "tags": null
          },
          "name": "stdout",
          "output_type": "stream",
          "text": [
            "Epoch [116/300], Step [600/600], d_loss: 1.0686, g_loss: 1.4420, D(x): 0.64, D(G(z)): 0.36\n",
            "Saving fake_images-0117.png\n",
            "Epoch [117/300], Step [200/600], d_loss: 1.1257, g_loss: 1.0702, D(x): 0.67, D(G(z)): 0.41\n",
            "Epoch [117/300], Step [400/600], d_loss: 1.1289, g_loss: 1.2068, D(x): 0.62, D(G(z)): 0.36\n"
          ]
        },
        {
          "metadata": {
            "tags": null
          },
          "name": "stderr",
          "output_type": "stream",
          "text": [
            "\r 39%|███▉      | 118/300 [49:26<1:15:48, 24.99s/it]"
          ]
        },
        {
          "metadata": {
            "tags": null
          },
          "name": "stdout",
          "output_type": "stream",
          "text": [
            "Epoch [117/300], Step [600/600], d_loss: 1.0242, g_loss: 1.4371, D(x): 0.63, D(G(z)): 0.32\n",
            "Saving fake_images-0118.png\n",
            "Epoch [118/300], Step [200/600], d_loss: 1.2116, g_loss: 1.2332, D(x): 0.59, D(G(z)): 0.40\n",
            "Epoch [118/300], Step [400/600], d_loss: 1.0457, g_loss: 1.1784, D(x): 0.63, D(G(z)): 0.36\n"
          ]
        },
        {
          "metadata": {
            "tags": null
          },
          "name": "stderr",
          "output_type": "stream",
          "text": [
            "\r 40%|███▉      | 119/300 [49:50<1:15:09, 24.91s/it]"
          ]
        },
        {
          "metadata": {
            "tags": null
          },
          "name": "stdout",
          "output_type": "stream",
          "text": [
            "Epoch [118/300], Step [600/600], d_loss: 1.2072, g_loss: 1.4015, D(x): 0.58, D(G(z)): 0.37\n",
            "Saving fake_images-0119.png\n",
            "Epoch [119/300], Step [200/600], d_loss: 1.0133, g_loss: 1.2647, D(x): 0.61, D(G(z)): 0.32\n",
            "Epoch [119/300], Step [400/600], d_loss: 1.2070, g_loss: 1.0956, D(x): 0.64, D(G(z)): 0.42\n"
          ]
        },
        {
          "metadata": {
            "tags": null
          },
          "name": "stderr",
          "output_type": "stream",
          "text": [
            "\r 40%|████      | 120/300 [50:15<1:14:25, 24.81s/it]"
          ]
        },
        {
          "metadata": {
            "tags": null
          },
          "name": "stdout",
          "output_type": "stream",
          "text": [
            "Epoch [119/300], Step [600/600], d_loss: 1.0496, g_loss: 1.1810, D(x): 0.68, D(G(z)): 0.39\n",
            "Saving fake_images-0120.png\n",
            "Epoch [120/300], Step [200/600], d_loss: 0.9883, g_loss: 1.2946, D(x): 0.63, D(G(z)): 0.31\n",
            "Epoch [120/300], Step [400/600], d_loss: 0.8125, g_loss: 1.3545, D(x): 0.68, D(G(z)): 0.29\n"
          ]
        },
        {
          "metadata": {
            "tags": null
          },
          "name": "stderr",
          "output_type": "stream",
          "text": [
            "\r 40%|████      | 121/300 [50:39<1:13:49, 24.75s/it]"
          ]
        },
        {
          "metadata": {
            "tags": null
          },
          "name": "stdout",
          "output_type": "stream",
          "text": [
            "Epoch [120/300], Step [600/600], d_loss: 0.9458, g_loss: 1.1982, D(x): 0.70, D(G(z)): 0.37\n",
            "Saving fake_images-0121.png\n",
            "Epoch [121/300], Step [200/600], d_loss: 1.3008, g_loss: 0.9713, D(x): 0.54, D(G(z)): 0.37\n",
            "Epoch [121/300], Step [400/600], d_loss: 1.1646, g_loss: 1.2451, D(x): 0.60, D(G(z)): 0.37\n"
          ]
        },
        {
          "metadata": {
            "tags": null
          },
          "name": "stderr",
          "output_type": "stream",
          "text": [
            "\r 41%|████      | 122/300 [51:04<1:13:13, 24.68s/it]"
          ]
        },
        {
          "metadata": {
            "tags": null
          },
          "name": "stdout",
          "output_type": "stream",
          "text": [
            "Epoch [121/300], Step [600/600], d_loss: 1.1183, g_loss: 1.3538, D(x): 0.60, D(G(z)): 0.36\n",
            "Saving fake_images-0122.png\n",
            "Epoch [122/300], Step [200/600], d_loss: 1.2927, g_loss: 1.0777, D(x): 0.63, D(G(z)): 0.47\n",
            "Epoch [122/300], Step [400/600], d_loss: 1.0173, g_loss: 1.2451, D(x): 0.68, D(G(z)): 0.39\n"
          ]
        },
        {
          "metadata": {
            "tags": null
          },
          "name": "stderr",
          "output_type": "stream",
          "text": [
            "\r 41%|████      | 123/300 [51:28<1:12:37, 24.62s/it]"
          ]
        },
        {
          "metadata": {
            "tags": null
          },
          "name": "stdout",
          "output_type": "stream",
          "text": [
            "Epoch [122/300], Step [600/600], d_loss: 1.0514, g_loss: 1.2930, D(x): 0.62, D(G(z)): 0.33\n",
            "Saving fake_images-0123.png\n",
            "Epoch [123/300], Step [200/600], d_loss: 1.0710, g_loss: 1.1354, D(x): 0.63, D(G(z)): 0.35\n",
            "Epoch [123/300], Step [400/600], d_loss: 1.1866, g_loss: 1.1454, D(x): 0.62, D(G(z)): 0.40\n"
          ]
        },
        {
          "metadata": {
            "tags": null
          },
          "name": "stderr",
          "output_type": "stream",
          "text": [
            "\r 41%|████▏     | 124/300 [51:53<1:12:15, 24.63s/it]"
          ]
        },
        {
          "metadata": {
            "tags": null
          },
          "name": "stdout",
          "output_type": "stream",
          "text": [
            "Epoch [123/300], Step [600/600], d_loss: 0.9955, g_loss: 1.4808, D(x): 0.64, D(G(z)): 0.32\n",
            "Saving fake_images-0124.png\n",
            "Epoch [124/300], Step [200/600], d_loss: 1.1681, g_loss: 1.3144, D(x): 0.60, D(G(z)): 0.39\n",
            "Epoch [124/300], Step [400/600], d_loss: 1.1721, g_loss: 1.0110, D(x): 0.61, D(G(z)): 0.38\n"
          ]
        },
        {
          "metadata": {
            "tags": null
          },
          "name": "stderr",
          "output_type": "stream",
          "text": [
            "\r 42%|████▏     | 125/300 [52:18<1:11:57, 24.67s/it]"
          ]
        },
        {
          "metadata": {
            "tags": null
          },
          "name": "stdout",
          "output_type": "stream",
          "text": [
            "Epoch [124/300], Step [600/600], d_loss: 1.1134, g_loss: 1.1701, D(x): 0.65, D(G(z)): 0.40\n",
            "Saving fake_images-0125.png\n",
            "Epoch [125/300], Step [200/600], d_loss: 1.0696, g_loss: 1.2068, D(x): 0.64, D(G(z)): 0.36\n",
            "Epoch [125/300], Step [400/600], d_loss: 1.0719, g_loss: 1.1396, D(x): 0.64, D(G(z)): 0.40\n"
          ]
        },
        {
          "metadata": {
            "tags": null
          },
          "name": "stderr",
          "output_type": "stream",
          "text": [
            "\r 42%|████▏     | 126/300 [52:44<1:12:20, 24.95s/it]"
          ]
        },
        {
          "metadata": {
            "tags": null
          },
          "name": "stdout",
          "output_type": "stream",
          "text": [
            "Epoch [125/300], Step [600/600], d_loss: 1.0737, g_loss: 1.0267, D(x): 0.61, D(G(z)): 0.36\n",
            "Saving fake_images-0126.png\n",
            "Epoch [126/300], Step [200/600], d_loss: 1.1985, g_loss: 1.1622, D(x): 0.58, D(G(z)): 0.35\n",
            "Epoch [126/300], Step [400/600], d_loss: 1.0479, g_loss: 1.0678, D(x): 0.70, D(G(z)): 0.41\n"
          ]
        },
        {
          "metadata": {
            "tags": null
          },
          "name": "stderr",
          "output_type": "stream",
          "text": [
            "\r 42%|████▏     | 127/300 [53:08<1:11:52, 24.93s/it]"
          ]
        },
        {
          "metadata": {
            "tags": null
          },
          "name": "stdout",
          "output_type": "stream",
          "text": [
            "Epoch [126/300], Step [600/600], d_loss: 0.9179, g_loss: 1.5136, D(x): 0.68, D(G(z)): 0.31\n",
            "Saving fake_images-0127.png\n",
            "Epoch [127/300], Step [200/600], d_loss: 1.3039, g_loss: 1.0305, D(x): 0.60, D(G(z)): 0.44\n",
            "Epoch [127/300], Step [400/600], d_loss: 0.9375, g_loss: 1.0428, D(x): 0.71, D(G(z)): 0.39\n"
          ]
        },
        {
          "metadata": {
            "tags": null
          },
          "name": "stderr",
          "output_type": "stream",
          "text": [
            "\r 43%|████▎     | 128/300 [53:34<1:11:38, 24.99s/it]"
          ]
        },
        {
          "metadata": {
            "tags": null
          },
          "name": "stdout",
          "output_type": "stream",
          "text": [
            "Epoch [127/300], Step [600/600], d_loss: 0.8942, g_loss: 1.4882, D(x): 0.66, D(G(z)): 0.30\n",
            "Saving fake_images-0128.png\n",
            "Epoch [128/300], Step [200/600], d_loss: 1.1311, g_loss: 1.0861, D(x): 0.61, D(G(z)): 0.38\n",
            "Epoch [128/300], Step [400/600], d_loss: 1.1213, g_loss: 1.2695, D(x): 0.57, D(G(z)): 0.33\n"
          ]
        },
        {
          "metadata": {
            "tags": null
          },
          "name": "stderr",
          "output_type": "stream",
          "text": [
            "\r 43%|████▎     | 129/300 [53:59<1:11:25, 25.06s/it]"
          ]
        },
        {
          "metadata": {
            "tags": null
          },
          "name": "stdout",
          "output_type": "stream",
          "text": [
            "Epoch [128/300], Step [600/600], d_loss: 1.1617, g_loss: 1.3331, D(x): 0.60, D(G(z)): 0.37\n",
            "Saving fake_images-0129.png\n",
            "Epoch [129/300], Step [200/600], d_loss: 0.9822, g_loss: 1.1622, D(x): 0.68, D(G(z)): 0.35\n",
            "Epoch [129/300], Step [400/600], d_loss: 0.9439, g_loss: 1.3336, D(x): 0.72, D(G(z)): 0.37\n"
          ]
        },
        {
          "metadata": {
            "tags": null
          },
          "name": "stderr",
          "output_type": "stream",
          "text": [
            "\r 43%|████▎     | 130/300 [54:24<1:11:13, 25.14s/it]"
          ]
        },
        {
          "metadata": {
            "tags": null
          },
          "name": "stdout",
          "output_type": "stream",
          "text": [
            "Epoch [129/300], Step [600/600], d_loss: 1.3013, g_loss: 1.1217, D(x): 0.58, D(G(z)): 0.44\n",
            "Saving fake_images-0130.png\n",
            "Epoch [130/300], Step [200/600], d_loss: 0.9949, g_loss: 1.4385, D(x): 0.61, D(G(z)): 0.28\n",
            "Epoch [130/300], Step [400/600], d_loss: 1.0498, g_loss: 1.2455, D(x): 0.65, D(G(z)): 0.38\n"
          ]
        },
        {
          "metadata": {
            "tags": null
          },
          "name": "stderr",
          "output_type": "stream",
          "text": [
            "\r 44%|████▎     | 131/300 [54:49<1:10:55, 25.18s/it]"
          ]
        },
        {
          "metadata": {
            "tags": null
          },
          "name": "stdout",
          "output_type": "stream",
          "text": [
            "Epoch [130/300], Step [600/600], d_loss: 1.2035, g_loss: 1.1168, D(x): 0.59, D(G(z)): 0.40\n",
            "Saving fake_images-0131.png\n",
            "Epoch [131/300], Step [200/600], d_loss: 1.2435, g_loss: 1.0501, D(x): 0.59, D(G(z)): 0.40\n",
            "Epoch [131/300], Step [400/600], d_loss: 1.0487, g_loss: 1.3761, D(x): 0.62, D(G(z)): 0.34\n"
          ]
        },
        {
          "metadata": {
            "tags": null
          },
          "name": "stderr",
          "output_type": "stream",
          "text": [
            "\r 44%|████▍     | 132/300 [55:15<1:10:39, 25.23s/it]"
          ]
        },
        {
          "metadata": {
            "tags": null
          },
          "name": "stdout",
          "output_type": "stream",
          "text": [
            "Epoch [131/300], Step [600/600], d_loss: 1.0723, g_loss: 1.3708, D(x): 0.63, D(G(z)): 0.38\n",
            "Saving fake_images-0132.png\n",
            "Epoch [132/300], Step [200/600], d_loss: 1.1526, g_loss: 1.3792, D(x): 0.56, D(G(z)): 0.34\n",
            "Epoch [132/300], Step [400/600], d_loss: 1.2582, g_loss: 1.1765, D(x): 0.54, D(G(z)): 0.37\n"
          ]
        },
        {
          "metadata": {
            "tags": null
          },
          "name": "stderr",
          "output_type": "stream",
          "text": [
            "\r 44%|████▍     | 133/300 [55:41<1:11:03, 25.53s/it]"
          ]
        },
        {
          "metadata": {
            "tags": null
          },
          "name": "stdout",
          "output_type": "stream",
          "text": [
            "Epoch [132/300], Step [600/600], d_loss: 0.9670, g_loss: 1.2614, D(x): 0.66, D(G(z)): 0.37\n",
            "Saving fake_images-0133.png\n",
            "Epoch [133/300], Step [200/600], d_loss: 1.1246, g_loss: 1.0722, D(x): 0.60, D(G(z)): 0.36\n",
            "Epoch [133/300], Step [400/600], d_loss: 1.2237, g_loss: 1.3346, D(x): 0.58, D(G(z)): 0.38\n"
          ]
        },
        {
          "metadata": {
            "tags": null
          },
          "name": "stderr",
          "output_type": "stream",
          "text": [
            "\r 45%|████▍     | 134/300 [56:07<1:10:40, 25.54s/it]"
          ]
        },
        {
          "metadata": {
            "tags": null
          },
          "name": "stdout",
          "output_type": "stream",
          "text": [
            "Epoch [133/300], Step [600/600], d_loss: 1.1181, g_loss: 1.1246, D(x): 0.63, D(G(z)): 0.39\n",
            "Saving fake_images-0134.png\n",
            "Epoch [134/300], Step [200/600], d_loss: 0.9565, g_loss: 1.3136, D(x): 0.67, D(G(z)): 0.35\n",
            "Epoch [134/300], Step [400/600], d_loss: 1.0604, g_loss: 1.2815, D(x): 0.60, D(G(z)): 0.32\n"
          ]
        },
        {
          "metadata": {
            "tags": null
          },
          "name": "stderr",
          "output_type": "stream",
          "text": [
            "\r 45%|████▌     | 135/300 [56:32<1:10:03, 25.48s/it]"
          ]
        },
        {
          "metadata": {
            "tags": null
          },
          "name": "stdout",
          "output_type": "stream",
          "text": [
            "Epoch [134/300], Step [600/600], d_loss: 1.1202, g_loss: 1.3993, D(x): 0.64, D(G(z)): 0.40\n",
            "Saving fake_images-0135.png\n",
            "Epoch [135/300], Step [200/600], d_loss: 1.1502, g_loss: 1.2096, D(x): 0.65, D(G(z)): 0.42\n",
            "Epoch [135/300], Step [400/600], d_loss: 1.1714, g_loss: 0.9872, D(x): 0.58, D(G(z)): 0.38\n"
          ]
        },
        {
          "metadata": {
            "tags": null
          },
          "name": "stderr",
          "output_type": "stream",
          "text": [
            "\r 45%|████▌     | 136/300 [56:57<1:09:35, 25.46s/it]"
          ]
        },
        {
          "metadata": {
            "tags": null
          },
          "name": "stdout",
          "output_type": "stream",
          "text": [
            "Epoch [135/300], Step [600/600], d_loss: 1.0092, g_loss: 1.1316, D(x): 0.62, D(G(z)): 0.34\n",
            "Saving fake_images-0136.png\n",
            "Epoch [136/300], Step [200/600], d_loss: 1.1759, g_loss: 1.0554, D(x): 0.62, D(G(z)): 0.39\n",
            "Epoch [136/300], Step [400/600], d_loss: 1.1364, g_loss: 1.3773, D(x): 0.59, D(G(z)): 0.36\n"
          ]
        },
        {
          "metadata": {
            "tags": null
          },
          "name": "stderr",
          "output_type": "stream",
          "text": [
            "\r 46%|████▌     | 137/300 [57:25<1:10:56, 26.12s/it]"
          ]
        },
        {
          "metadata": {
            "tags": null
          },
          "name": "stdout",
          "output_type": "stream",
          "text": [
            "Epoch [136/300], Step [600/600], d_loss: 1.0822, g_loss: 1.3596, D(x): 0.62, D(G(z)): 0.36\n",
            "Saving fake_images-0137.png\n",
            "Epoch [137/300], Step [200/600], d_loss: 1.2159, g_loss: 1.1083, D(x): 0.66, D(G(z)): 0.45\n",
            "Epoch [137/300], Step [400/600], d_loss: 1.2051, g_loss: 1.1911, D(x): 0.66, D(G(z)): 0.43\n"
          ]
        },
        {
          "metadata": {
            "tags": null
          },
          "name": "stderr",
          "output_type": "stream",
          "text": [
            "\r 46%|████▌     | 138/300 [57:51<1:10:40, 26.18s/it]"
          ]
        },
        {
          "metadata": {
            "tags": null
          },
          "name": "stdout",
          "output_type": "stream",
          "text": [
            "Epoch [137/300], Step [600/600], d_loss: 1.1861, g_loss: 1.1692, D(x): 0.56, D(G(z)): 0.36\n",
            "Saving fake_images-0138.png\n",
            "Epoch [138/300], Step [200/600], d_loss: 1.1600, g_loss: 1.2286, D(x): 0.60, D(G(z)): 0.36\n",
            "Epoch [138/300], Step [400/600], d_loss: 1.0180, g_loss: 1.1272, D(x): 0.67, D(G(z)): 0.37\n"
          ]
        },
        {
          "metadata": {
            "tags": null
          },
          "name": "stderr",
          "output_type": "stream",
          "text": [
            "\r 46%|████▋     | 139/300 [58:18<1:10:24, 26.24s/it]"
          ]
        },
        {
          "metadata": {
            "tags": null
          },
          "name": "stdout",
          "output_type": "stream",
          "text": [
            "Epoch [138/300], Step [600/600], d_loss: 1.2235, g_loss: 1.1026, D(x): 0.62, D(G(z)): 0.43\n",
            "Saving fake_images-0139.png\n",
            "Epoch [139/300], Step [200/600], d_loss: 1.2251, g_loss: 1.0820, D(x): 0.60, D(G(z)): 0.40\n",
            "Epoch [139/300], Step [400/600], d_loss: 1.1375, g_loss: 1.2882, D(x): 0.62, D(G(z)): 0.40\n"
          ]
        },
        {
          "metadata": {
            "tags": null
          },
          "name": "stderr",
          "output_type": "stream",
          "text": [
            "\r 47%|████▋     | 140/300 [58:44<1:10:02, 26.26s/it]"
          ]
        },
        {
          "metadata": {
            "tags": null
          },
          "name": "stdout",
          "output_type": "stream",
          "text": [
            "Epoch [139/300], Step [600/600], d_loss: 0.9624, g_loss: 1.3492, D(x): 0.65, D(G(z)): 0.34\n",
            "Saving fake_images-0140.png\n",
            "Epoch [140/300], Step [200/600], d_loss: 1.2021, g_loss: 1.0208, D(x): 0.56, D(G(z)): 0.38\n",
            "Epoch [140/300], Step [400/600], d_loss: 1.0564, g_loss: 1.1631, D(x): 0.68, D(G(z)): 0.39\n"
          ]
        },
        {
          "output_type": "stream",
          "name": "stderr",
          "text": [
            "\r 47%|████▋     | 141/300 [59:11<1:10:25, 26.57s/it]"
          ]
        },
        {
          "output_type": "stream",
          "name": "stdout",
          "text": [
            "Epoch [140/300], Step [600/600], d_loss: 1.2335, g_loss: 0.9787, D(x): 0.64, D(G(z)): 0.45\n",
            "Saving fake_images-0141.png\n",
            "Epoch [141/300], Step [200/600], d_loss: 1.2231, g_loss: 0.9866, D(x): 0.60, D(G(z)): 0.41\n",
            "Epoch [141/300], Step [400/600], d_loss: 1.2477, g_loss: 1.1765, D(x): 0.60, D(G(z)): 0.42\n"
          ]
        },
        {
          "output_type": "stream",
          "name": "stderr",
          "text": [
            "\r 47%|████▋     | 142/300 [59:38<1:09:50, 26.52s/it]"
          ]
        },
        {
          "output_type": "stream",
          "name": "stdout",
          "text": [
            "Epoch [141/300], Step [600/600], d_loss: 0.9033, g_loss: 1.2046, D(x): 0.70, D(G(z)): 0.35\n",
            "Saving fake_images-0142.png\n",
            "Epoch [142/300], Step [200/600], d_loss: 1.0858, g_loss: 1.3079, D(x): 0.58, D(G(z)): 0.33\n",
            "Epoch [142/300], Step [400/600], d_loss: 1.0325, g_loss: 1.2567, D(x): 0.65, D(G(z)): 0.37\n"
          ]
        },
        {
          "output_type": "stream",
          "name": "stderr",
          "text": [
            "\r 48%|████▊     | 143/300 [1:00:04<1:09:24, 26.53s/it]"
          ]
        },
        {
          "output_type": "stream",
          "name": "stdout",
          "text": [
            "Epoch [142/300], Step [600/600], d_loss: 1.1799, g_loss: 1.1289, D(x): 0.63, D(G(z)): 0.42\n",
            "Saving fake_images-0143.png\n",
            "Epoch [143/300], Step [200/600], d_loss: 1.0585, g_loss: 1.1944, D(x): 0.72, D(G(z)): 0.43\n",
            "Epoch [143/300], Step [400/600], d_loss: 1.2945, g_loss: 1.1566, D(x): 0.60, D(G(z)): 0.43\n"
          ]
        },
        {
          "output_type": "stream",
          "name": "stderr",
          "text": [
            "\r 48%|████▊     | 144/300 [1:00:30<1:08:47, 26.46s/it]"
          ]
        },
        {
          "output_type": "stream",
          "name": "stdout",
          "text": [
            "Epoch [143/300], Step [600/600], d_loss: 1.0298, g_loss: 1.0696, D(x): 0.71, D(G(z)): 0.42\n",
            "Saving fake_images-0144.png\n",
            "Epoch [144/300], Step [200/600], d_loss: 1.1624, g_loss: 1.1885, D(x): 0.63, D(G(z)): 0.42\n",
            "Epoch [144/300], Step [400/600], d_loss: 1.0949, g_loss: 1.0328, D(x): 0.66, D(G(z)): 0.40\n"
          ]
        },
        {
          "output_type": "stream",
          "name": "stderr",
          "text": [
            "\r 48%|████▊     | 145/300 [1:00:57<1:08:16, 26.43s/it]"
          ]
        },
        {
          "output_type": "stream",
          "name": "stdout",
          "text": [
            "Epoch [144/300], Step [600/600], d_loss: 1.2418, g_loss: 1.2080, D(x): 0.56, D(G(z)): 0.37\n",
            "Saving fake_images-0145.png\n",
            "Epoch [145/300], Step [200/600], d_loss: 1.1963, g_loss: 1.1583, D(x): 0.58, D(G(z)): 0.36\n",
            "Epoch [145/300], Step [400/600], d_loss: 1.0428, g_loss: 1.2055, D(x): 0.66, D(G(z)): 0.37\n"
          ]
        },
        {
          "output_type": "stream",
          "name": "stderr",
          "text": [
            "\r 49%|████▊     | 146/300 [1:01:23<1:07:50, 26.43s/it]"
          ]
        },
        {
          "output_type": "stream",
          "name": "stdout",
          "text": [
            "Epoch [145/300], Step [600/600], d_loss: 1.0757, g_loss: 1.5171, D(x): 0.65, D(G(z)): 0.35\n",
            "Saving fake_images-0146.png\n",
            "Epoch [146/300], Step [200/600], d_loss: 1.2425, g_loss: 1.3514, D(x): 0.59, D(G(z)): 0.40\n",
            "Epoch [146/300], Step [400/600], d_loss: 1.2409, g_loss: 1.1447, D(x): 0.63, D(G(z)): 0.45\n"
          ]
        },
        {
          "output_type": "stream",
          "name": "stderr",
          "text": [
            "\r 49%|████▉     | 147/300 [1:01:50<1:07:31, 26.48s/it]"
          ]
        },
        {
          "output_type": "stream",
          "name": "stdout",
          "text": [
            "Epoch [146/300], Step [600/600], d_loss: 1.2305, g_loss: 0.9354, D(x): 0.60, D(G(z)): 0.41\n",
            "Saving fake_images-0147.png\n",
            "Epoch [147/300], Step [200/600], d_loss: 1.0318, g_loss: 1.1790, D(x): 0.65, D(G(z)): 0.38\n",
            "Epoch [147/300], Step [400/600], d_loss: 1.2095, g_loss: 1.1156, D(x): 0.61, D(G(z)): 0.40\n"
          ]
        },
        {
          "output_type": "stream",
          "name": "stderr",
          "text": [
            "\r 49%|████▉     | 148/300 [1:02:17<1:07:54, 26.80s/it]"
          ]
        },
        {
          "output_type": "stream",
          "name": "stdout",
          "text": [
            "Epoch [147/300], Step [600/600], d_loss: 1.3549, g_loss: 1.1612, D(x): 0.51, D(G(z)): 0.38\n",
            "Saving fake_images-0148.png\n",
            "Epoch [148/300], Step [200/600], d_loss: 1.0513, g_loss: 1.2247, D(x): 0.62, D(G(z)): 0.37\n",
            "Epoch [148/300], Step [400/600], d_loss: 1.3233, g_loss: 1.0674, D(x): 0.56, D(G(z)): 0.42\n"
          ]
        },
        {
          "output_type": "stream",
          "name": "stderr",
          "text": [
            "\r 50%|████▉     | 149/300 [1:02:44<1:07:20, 26.76s/it]"
          ]
        },
        {
          "output_type": "stream",
          "name": "stdout",
          "text": [
            "Epoch [148/300], Step [600/600], d_loss: 1.1305, g_loss: 1.0432, D(x): 0.64, D(G(z)): 0.41\n",
            "Saving fake_images-0149.png\n",
            "Epoch [149/300], Step [200/600], d_loss: 1.0843, g_loss: 0.9360, D(x): 0.69, D(G(z)): 0.42\n",
            "Epoch [149/300], Step [400/600], d_loss: 0.9121, g_loss: 1.2525, D(x): 0.66, D(G(z)): 0.32\n"
          ]
        },
        {
          "output_type": "stream",
          "name": "stderr",
          "text": [
            "\r 50%|█████     | 150/300 [1:03:10<1:06:38, 26.66s/it]"
          ]
        },
        {
          "output_type": "stream",
          "name": "stdout",
          "text": [
            "Epoch [149/300], Step [600/600], d_loss: 1.0362, g_loss: 1.4070, D(x): 0.64, D(G(z)): 0.35\n",
            "Saving fake_images-0150.png\n",
            "Epoch [150/300], Step [200/600], d_loss: 1.0905, g_loss: 1.0422, D(x): 0.63, D(G(z)): 0.37\n",
            "Epoch [150/300], Step [400/600], d_loss: 0.9850, g_loss: 1.2789, D(x): 0.61, D(G(z)): 0.31\n"
          ]
        },
        {
          "output_type": "stream",
          "name": "stderr",
          "text": [
            "\r 50%|█████     | 151/300 [1:03:37<1:06:06, 26.62s/it]"
          ]
        },
        {
          "output_type": "stream",
          "name": "stdout",
          "text": [
            "Epoch [150/300], Step [600/600], d_loss: 1.0480, g_loss: 1.2443, D(x): 0.62, D(G(z)): 0.36\n",
            "Saving fake_images-0151.png\n",
            "Epoch [151/300], Step [200/600], d_loss: 1.2267, g_loss: 1.1966, D(x): 0.58, D(G(z)): 0.37\n",
            "Epoch [151/300], Step [400/600], d_loss: 1.2199, g_loss: 1.1105, D(x): 0.64, D(G(z)): 0.45\n"
          ]
        },
        {
          "output_type": "stream",
          "name": "stderr",
          "text": [
            "\r 51%|█████     | 152/300 [1:04:04<1:05:39, 26.62s/it]"
          ]
        },
        {
          "output_type": "stream",
          "name": "stdout",
          "text": [
            "Epoch [151/300], Step [600/600], d_loss: 1.3312, g_loss: 1.2402, D(x): 0.53, D(G(z)): 0.37\n",
            "Saving fake_images-0152.png\n",
            "Epoch [152/300], Step [200/600], d_loss: 1.2049, g_loss: 1.0555, D(x): 0.62, D(G(z)): 0.42\n",
            "Epoch [152/300], Step [400/600], d_loss: 1.0676, g_loss: 1.2922, D(x): 0.61, D(G(z)): 0.34\n"
          ]
        },
        {
          "output_type": "stream",
          "name": "stderr",
          "text": [
            "\r 51%|█████     | 153/300 [1:04:30<1:05:14, 26.63s/it]"
          ]
        },
        {
          "output_type": "stream",
          "name": "stdout",
          "text": [
            "Epoch [152/300], Step [600/600], d_loss: 1.0285, g_loss: 1.2979, D(x): 0.64, D(G(z)): 0.35\n",
            "Saving fake_images-0153.png\n",
            "Epoch [153/300], Step [200/600], d_loss: 1.2354, g_loss: 1.1241, D(x): 0.59, D(G(z)): 0.41\n",
            "Epoch [153/300], Step [400/600], d_loss: 1.0552, g_loss: 1.3214, D(x): 0.63, D(G(z)): 0.37\n"
          ]
        },
        {
          "output_type": "stream",
          "name": "stderr",
          "text": [
            "\r 51%|█████▏    | 154/300 [1:04:57<1:04:41, 26.59s/it]"
          ]
        },
        {
          "output_type": "stream",
          "name": "stdout",
          "text": [
            "Epoch [153/300], Step [600/600], d_loss: 1.1165, g_loss: 1.3781, D(x): 0.61, D(G(z)): 0.38\n",
            "Saving fake_images-0154.png\n",
            "Epoch [154/300], Step [200/600], d_loss: 1.2090, g_loss: 1.2018, D(x): 0.59, D(G(z)): 0.38\n",
            "Epoch [154/300], Step [400/600], d_loss: 1.2392, g_loss: 1.0127, D(x): 0.58, D(G(z)): 0.42\n"
          ]
        },
        {
          "output_type": "stream",
          "name": "stderr",
          "text": [
            "\r 52%|█████▏    | 155/300 [1:05:24<1:04:47, 26.81s/it]"
          ]
        },
        {
          "output_type": "stream",
          "name": "stdout",
          "text": [
            "Epoch [154/300], Step [600/600], d_loss: 0.8980, g_loss: 1.3506, D(x): 0.67, D(G(z)): 0.31\n",
            "Saving fake_images-0155.png\n",
            "Epoch [155/300], Step [200/600], d_loss: 1.0463, g_loss: 1.2244, D(x): 0.63, D(G(z)): 0.37\n",
            "Epoch [155/300], Step [400/600], d_loss: 1.3038, g_loss: 0.9530, D(x): 0.60, D(G(z)): 0.46\n"
          ]
        },
        {
          "output_type": "stream",
          "name": "stderr",
          "text": [
            "\r 52%|█████▏    | 156/300 [1:05:51<1:04:10, 26.74s/it]"
          ]
        },
        {
          "output_type": "stream",
          "name": "stdout",
          "text": [
            "Epoch [155/300], Step [600/600], d_loss: 1.1421, g_loss: 1.1782, D(x): 0.58, D(G(z)): 0.36\n",
            "Saving fake_images-0156.png\n",
            "Epoch [156/300], Step [200/600], d_loss: 1.1093, g_loss: 1.0266, D(x): 0.66, D(G(z)): 0.43\n",
            "Epoch [156/300], Step [400/600], d_loss: 1.1856, g_loss: 1.2768, D(x): 0.57, D(G(z)): 0.36\n"
          ]
        },
        {
          "output_type": "stream",
          "name": "stderr",
          "text": [
            "\r 52%|█████▏    | 157/300 [1:06:17<1:03:35, 26.68s/it]"
          ]
        },
        {
          "output_type": "stream",
          "name": "stdout",
          "text": [
            "Epoch [156/300], Step [600/600], d_loss: 1.1234, g_loss: 1.1356, D(x): 0.61, D(G(z)): 0.38\n",
            "Saving fake_images-0157.png\n",
            "Epoch [157/300], Step [200/600], d_loss: 1.1581, g_loss: 0.9576, D(x): 0.67, D(G(z)): 0.45\n",
            "Epoch [157/300], Step [400/600], d_loss: 1.1637, g_loss: 1.0920, D(x): 0.64, D(G(z)): 0.44\n"
          ]
        },
        {
          "output_type": "stream",
          "name": "stderr",
          "text": [
            "\r 53%|█████▎    | 158/300 [1:06:44<1:02:59, 26.62s/it]"
          ]
        },
        {
          "output_type": "stream",
          "name": "stdout",
          "text": [
            "Epoch [157/300], Step [600/600], d_loss: 1.0452, g_loss: 1.0369, D(x): 0.71, D(G(z)): 0.44\n",
            "Saving fake_images-0158.png\n",
            "Epoch [158/300], Step [200/600], d_loss: 1.3473, g_loss: 1.0568, D(x): 0.56, D(G(z)): 0.42\n",
            "Epoch [158/300], Step [400/600], d_loss: 1.1030, g_loss: 0.9894, D(x): 0.60, D(G(z)): 0.35\n"
          ]
        },
        {
          "output_type": "stream",
          "name": "stderr",
          "text": [
            "\r 53%|█████▎    | 159/300 [1:07:10<1:02:25, 26.57s/it]"
          ]
        },
        {
          "output_type": "stream",
          "name": "stdout",
          "text": [
            "Epoch [158/300], Step [600/600], d_loss: 1.1406, g_loss: 1.1790, D(x): 0.63, D(G(z)): 0.41\n",
            "Saving fake_images-0159.png\n",
            "Epoch [159/300], Step [200/600], d_loss: 1.2143, g_loss: 1.1336, D(x): 0.60, D(G(z)): 0.40\n",
            "Epoch [159/300], Step [400/600], d_loss: 1.2936, g_loss: 1.0452, D(x): 0.56, D(G(z)): 0.41\n"
          ]
        },
        {
          "output_type": "stream",
          "name": "stderr",
          "text": [
            "\r 53%|█████▎    | 160/300 [1:07:37<1:01:52, 26.52s/it]"
          ]
        },
        {
          "output_type": "stream",
          "name": "stdout",
          "text": [
            "Epoch [159/300], Step [600/600], d_loss: 1.1345, g_loss: 1.1748, D(x): 0.60, D(G(z)): 0.38\n",
            "Saving fake_images-0160.png\n",
            "Epoch [160/300], Step [200/600], d_loss: 0.9556, g_loss: 1.3401, D(x): 0.68, D(G(z)): 0.35\n",
            "Epoch [160/300], Step [400/600], d_loss: 1.0775, g_loss: 1.0776, D(x): 0.61, D(G(z)): 0.37\n"
          ]
        },
        {
          "output_type": "stream",
          "name": "stderr",
          "text": [
            "\r 54%|█████▎    | 161/300 [1:08:03<1:01:25, 26.51s/it]"
          ]
        },
        {
          "output_type": "stream",
          "name": "stdout",
          "text": [
            "Epoch [160/300], Step [600/600], d_loss: 1.1071, g_loss: 1.0470, D(x): 0.69, D(G(z)): 0.42\n",
            "Saving fake_images-0161.png\n",
            "Epoch [161/300], Step [200/600], d_loss: 1.0591, g_loss: 1.1790, D(x): 0.63, D(G(z)): 0.38\n",
            "Epoch [161/300], Step [400/600], d_loss: 1.1066, g_loss: 1.2195, D(x): 0.58, D(G(z)): 0.37\n"
          ]
        },
        {
          "output_type": "stream",
          "name": "stderr",
          "text": [
            "\r 54%|█████▍    | 162/300 [1:08:31<1:01:37, 26.79s/it]"
          ]
        },
        {
          "output_type": "stream",
          "name": "stdout",
          "text": [
            "Epoch [161/300], Step [600/600], d_loss: 1.3866, g_loss: 1.0841, D(x): 0.57, D(G(z)): 0.46\n",
            "Saving fake_images-0162.png\n",
            "Epoch [162/300], Step [200/600], d_loss: 1.0267, g_loss: 1.0978, D(x): 0.61, D(G(z)): 0.30\n",
            "Epoch [162/300], Step [400/600], d_loss: 0.7808, g_loss: 1.5823, D(x): 0.64, D(G(z)): 0.22\n"
          ]
        },
        {
          "output_type": "stream",
          "name": "stderr",
          "text": [
            "\r 54%|█████▍    | 163/300 [1:08:57<1:01:07, 26.77s/it]"
          ]
        },
        {
          "output_type": "stream",
          "name": "stdout",
          "text": [
            "Epoch [162/300], Step [600/600], d_loss: 1.2992, g_loss: 0.8886, D(x): 0.58, D(G(z)): 0.44\n",
            "Saving fake_images-0163.png\n",
            "Epoch [163/300], Step [200/600], d_loss: 1.0451, g_loss: 1.2269, D(x): 0.64, D(G(z)): 0.37\n",
            "Epoch [163/300], Step [400/600], d_loss: 1.0515, g_loss: 1.2569, D(x): 0.61, D(G(z)): 0.34\n"
          ]
        },
        {
          "output_type": "stream",
          "name": "stderr",
          "text": [
            "\r 55%|█████▍    | 164/300 [1:09:24<1:00:23, 26.64s/it]"
          ]
        },
        {
          "output_type": "stream",
          "name": "stdout",
          "text": [
            "Epoch [163/300], Step [600/600], d_loss: 0.8314, g_loss: 1.4959, D(x): 0.73, D(G(z)): 0.33\n",
            "Saving fake_images-0164.png\n",
            "Epoch [164/300], Step [200/600], d_loss: 1.0640, g_loss: 1.1225, D(x): 0.61, D(G(z)): 0.34\n",
            "Epoch [164/300], Step [400/600], d_loss: 1.0741, g_loss: 1.1663, D(x): 0.64, D(G(z)): 0.38\n"
          ]
        },
        {
          "output_type": "stream",
          "name": "stderr",
          "text": [
            "\r 55%|█████▌    | 165/300 [1:09:50<59:52, 26.61s/it]  "
          ]
        },
        {
          "output_type": "stream",
          "name": "stdout",
          "text": [
            "Epoch [164/300], Step [600/600], d_loss: 0.9726, g_loss: 1.4814, D(x): 0.72, D(G(z)): 0.37\n",
            "Saving fake_images-0165.png\n",
            "Epoch [165/300], Step [200/600], d_loss: 1.0770, g_loss: 1.3036, D(x): 0.65, D(G(z)): 0.39\n",
            "Epoch [165/300], Step [400/600], d_loss: 1.0583, g_loss: 1.3080, D(x): 0.63, D(G(z)): 0.37\n"
          ]
        },
        {
          "output_type": "stream",
          "name": "stderr",
          "text": [
            "\r 55%|█████▌    | 166/300 [1:10:17<59:25, 26.61s/it]"
          ]
        },
        {
          "output_type": "stream",
          "name": "stdout",
          "text": [
            "Epoch [165/300], Step [600/600], d_loss: 1.1138, g_loss: 1.1731, D(x): 0.62, D(G(z)): 0.37\n",
            "Saving fake_images-0166.png\n",
            "Epoch [166/300], Step [200/600], d_loss: 1.2456, g_loss: 0.9598, D(x): 0.59, D(G(z)): 0.43\n",
            "Epoch [166/300], Step [400/600], d_loss: 1.3167, g_loss: 1.1037, D(x): 0.53, D(G(z)): 0.39\n"
          ]
        },
        {
          "output_type": "stream",
          "name": "stderr",
          "text": [
            "\r 56%|█████▌    | 167/300 [1:10:43<58:56, 26.59s/it]"
          ]
        },
        {
          "output_type": "stream",
          "name": "stdout",
          "text": [
            "Epoch [166/300], Step [600/600], d_loss: 1.1193, g_loss: 1.3331, D(x): 0.65, D(G(z)): 0.42\n",
            "Saving fake_images-0167.png\n",
            "Epoch [167/300], Step [200/600], d_loss: 1.2837, g_loss: 1.1282, D(x): 0.55, D(G(z)): 0.40\n",
            "Epoch [167/300], Step [400/600], d_loss: 1.2432, g_loss: 1.1220, D(x): 0.65, D(G(z)): 0.46\n"
          ]
        },
        {
          "output_type": "stream",
          "name": "stderr",
          "text": [
            "\r 56%|█████▌    | 168/300 [1:11:10<58:26, 26.56s/it]"
          ]
        },
        {
          "output_type": "stream",
          "name": "stdout",
          "text": [
            "Epoch [167/300], Step [600/600], d_loss: 1.2348, g_loss: 1.0860, D(x): 0.60, D(G(z)): 0.42\n",
            "Saving fake_images-0168.png\n",
            "Epoch [168/300], Step [200/600], d_loss: 1.0441, g_loss: 1.2560, D(x): 0.62, D(G(z)): 0.36\n",
            "Epoch [168/300], Step [400/600], d_loss: 1.0594, g_loss: 1.0526, D(x): 0.61, D(G(z)): 0.36\n"
          ]
        },
        {
          "output_type": "stream",
          "name": "stderr",
          "text": [
            "\r 56%|█████▋    | 169/300 [1:11:37<58:32, 26.82s/it]"
          ]
        },
        {
          "output_type": "stream",
          "name": "stdout",
          "text": [
            "Epoch [168/300], Step [600/600], d_loss: 1.0546, g_loss: 1.2383, D(x): 0.58, D(G(z)): 0.31\n",
            "Saving fake_images-0169.png\n",
            "Epoch [169/300], Step [200/600], d_loss: 1.1600, g_loss: 1.2111, D(x): 0.59, D(G(z)): 0.38\n",
            "Epoch [169/300], Step [400/600], d_loss: 1.0738, g_loss: 1.2394, D(x): 0.62, D(G(z)): 0.36\n"
          ]
        },
        {
          "output_type": "stream",
          "name": "stderr",
          "text": [
            "\r 56%|█████▋    | 169/300 [1:12:03<55:51, 25.59s/it]\n"
          ]
        },
        {
          "output_type": "error",
          "ename": "KeyboardInterrupt",
          "evalue": "ignored",
          "traceback": [
            "\u001b[0;31m---------------------------------------------------------------------------\u001b[0m",
            "\u001b[0;31mKeyboardInterrupt\u001b[0m                         Traceback (most recent call last)",
            "\u001b[0;32m<timed exec>\u001b[0m in \u001b[0;36m<module>\u001b[0;34m\u001b[0m\n",
            "\u001b[0;32m<ipython-input-11-0fe356a4e9ee>\u001b[0m in \u001b[0;36mtrain_discriminator\u001b[0;34m(D_model, G_model, images, label)\u001b[0m\n\u001b[1;32m     21\u001b[0m     \u001b[0mfake_labels\u001b[0m \u001b[0;34m=\u001b[0m \u001b[0mtorch\u001b[0m\u001b[0;34m.\u001b[0m\u001b[0mzeros\u001b[0m\u001b[0;34m(\u001b[0m\u001b[0mbatch_size\u001b[0m\u001b[0;34m,\u001b[0m \u001b[0;36m1\u001b[0m\u001b[0;34m)\u001b[0m\u001b[0;34m.\u001b[0m\u001b[0mto\u001b[0m\u001b[0;34m(\u001b[0m\u001b[0mdevice\u001b[0m\u001b[0;34m)\u001b[0m\u001b[0;34m\u001b[0m\u001b[0;34m\u001b[0m\u001b[0m\n\u001b[1;32m     22\u001b[0m \u001b[0;34m\u001b[0m\u001b[0m\n\u001b[0;32m---> 23\u001b[0;31m     \u001b[0mfake_images\u001b[0m \u001b[0;34m=\u001b[0m \u001b[0mG_model\u001b[0m\u001b[0;34m(\u001b[0m\u001b[0mz\u001b[0m\u001b[0;34m,\u001b[0m \u001b[0mlabel\u001b[0m\u001b[0;34m)\u001b[0m\u001b[0;34m\u001b[0m\u001b[0;34m\u001b[0m\u001b[0m\n\u001b[0m\u001b[1;32m     24\u001b[0m     \u001b[0moutputs\u001b[0m \u001b[0;34m=\u001b[0m \u001b[0mD_model\u001b[0m\u001b[0;34m(\u001b[0m\u001b[0mfake_images\u001b[0m\u001b[0;34m,\u001b[0m \u001b[0mlabel\u001b[0m\u001b[0;34m)\u001b[0m\u001b[0;34m\u001b[0m\u001b[0;34m\u001b[0m\u001b[0m\n\u001b[1;32m     25\u001b[0m     \u001b[0mfake_score\u001b[0m \u001b[0;34m=\u001b[0m \u001b[0moutputs\u001b[0m\u001b[0;34m.\u001b[0m\u001b[0msqueeze\u001b[0m\u001b[0;34m(\u001b[0m\u001b[0;34m)\u001b[0m\u001b[0;34m.\u001b[0m\u001b[0munsqueeze\u001b[0m\u001b[0;34m(\u001b[0m\u001b[0;36m1\u001b[0m\u001b[0;34m)\u001b[0m\u001b[0;34m\u001b[0m\u001b[0;34m\u001b[0m\u001b[0m\n",
            "\u001b[0;32m/usr/local/lib/python3.8/dist-packages/torch/nn/modules/module.py\u001b[0m in \u001b[0;36m_call_impl\u001b[0;34m(self, *input, **kwargs)\u001b[0m\n\u001b[1;32m   1188\u001b[0m         if not (self._backward_hooks or self._forward_hooks or self._forward_pre_hooks or _global_backward_hooks\n\u001b[1;32m   1189\u001b[0m                 or _global_forward_hooks or _global_forward_pre_hooks):\n\u001b[0;32m-> 1190\u001b[0;31m             \u001b[0;32mreturn\u001b[0m \u001b[0mforward_call\u001b[0m\u001b[0;34m(\u001b[0m\u001b[0;34m*\u001b[0m\u001b[0minput\u001b[0m\u001b[0;34m,\u001b[0m \u001b[0;34m**\u001b[0m\u001b[0mkwargs\u001b[0m\u001b[0;34m)\u001b[0m\u001b[0;34m\u001b[0m\u001b[0;34m\u001b[0m\u001b[0m\n\u001b[0m\u001b[1;32m   1191\u001b[0m         \u001b[0;31m# Do not call functions when jit is used\u001b[0m\u001b[0;34m\u001b[0m\u001b[0;34m\u001b[0m\u001b[0;34m\u001b[0m\u001b[0m\n\u001b[1;32m   1192\u001b[0m         \u001b[0mfull_backward_hooks\u001b[0m\u001b[0;34m,\u001b[0m \u001b[0mnon_full_backward_hooks\u001b[0m \u001b[0;34m=\u001b[0m \u001b[0;34m[\u001b[0m\u001b[0;34m]\u001b[0m\u001b[0;34m,\u001b[0m \u001b[0;34m[\u001b[0m\u001b[0;34m]\u001b[0m\u001b[0;34m\u001b[0m\u001b[0;34m\u001b[0m\u001b[0m\n",
            "\u001b[0;32m<ipython-input-8-94f5fe9c5306>\u001b[0m in \u001b[0;36mforward\u001b[0;34m(self, x, label)\u001b[0m\n\u001b[1;32m     31\u001b[0m \u001b[0;34m\u001b[0m\u001b[0m\n\u001b[1;32m     32\u001b[0m         \u001b[0mx\u001b[0m \u001b[0;34m=\u001b[0m \u001b[0mself\u001b[0m\u001b[0;34m.\u001b[0m\u001b[0mrelu\u001b[0m\u001b[0;34m(\u001b[0m\u001b[0mself\u001b[0m\u001b[0;34m.\u001b[0m\u001b[0mlinear_1\u001b[0m\u001b[0;34m(\u001b[0m\u001b[0mx\u001b[0m\u001b[0;34m)\u001b[0m\u001b[0;34m)\u001b[0m\u001b[0;34m\u001b[0m\u001b[0;34m\u001b[0m\u001b[0m\n\u001b[0;32m---> 33\u001b[0;31m         \u001b[0mx\u001b[0m \u001b[0;34m=\u001b[0m \u001b[0mself\u001b[0m\u001b[0;34m.\u001b[0m\u001b[0mrelu\u001b[0m\u001b[0;34m(\u001b[0m\u001b[0mself\u001b[0m\u001b[0;34m.\u001b[0m\u001b[0mlinear_2\u001b[0m\u001b[0;34m(\u001b[0m\u001b[0mx\u001b[0m\u001b[0;34m)\u001b[0m\u001b[0;34m)\u001b[0m\u001b[0;34m\u001b[0m\u001b[0;34m\u001b[0m\u001b[0m\n\u001b[0m\u001b[1;32m     34\u001b[0m         \u001b[0mx\u001b[0m \u001b[0;34m=\u001b[0m \u001b[0mself\u001b[0m\u001b[0;34m.\u001b[0m\u001b[0mtanh\u001b[0m\u001b[0;34m(\u001b[0m\u001b[0mself\u001b[0m\u001b[0;34m.\u001b[0m\u001b[0mlinear_3\u001b[0m\u001b[0;34m(\u001b[0m\u001b[0mx\u001b[0m\u001b[0;34m)\u001b[0m\u001b[0;34m)\u001b[0m\u001b[0;34m\u001b[0m\u001b[0;34m\u001b[0m\u001b[0m\n\u001b[1;32m     35\u001b[0m \u001b[0;34m\u001b[0m\u001b[0m\n",
            "\u001b[0;32m/usr/local/lib/python3.8/dist-packages/torch/nn/modules/module.py\u001b[0m in \u001b[0;36m_call_impl\u001b[0;34m(self, *input, **kwargs)\u001b[0m\n\u001b[1;32m   1188\u001b[0m         if not (self._backward_hooks or self._forward_hooks or self._forward_pre_hooks or _global_backward_hooks\n\u001b[1;32m   1189\u001b[0m                 or _global_forward_hooks or _global_forward_pre_hooks):\n\u001b[0;32m-> 1190\u001b[0;31m             \u001b[0;32mreturn\u001b[0m \u001b[0mforward_call\u001b[0m\u001b[0;34m(\u001b[0m\u001b[0;34m*\u001b[0m\u001b[0minput\u001b[0m\u001b[0;34m,\u001b[0m \u001b[0;34m**\u001b[0m\u001b[0mkwargs\u001b[0m\u001b[0;34m)\u001b[0m\u001b[0;34m\u001b[0m\u001b[0;34m\u001b[0m\u001b[0m\n\u001b[0m\u001b[1;32m   1191\u001b[0m         \u001b[0;31m# Do not call functions when jit is used\u001b[0m\u001b[0;34m\u001b[0m\u001b[0;34m\u001b[0m\u001b[0;34m\u001b[0m\u001b[0m\n\u001b[1;32m   1192\u001b[0m         \u001b[0mfull_backward_hooks\u001b[0m\u001b[0;34m,\u001b[0m \u001b[0mnon_full_backward_hooks\u001b[0m \u001b[0;34m=\u001b[0m \u001b[0;34m[\u001b[0m\u001b[0;34m]\u001b[0m\u001b[0;34m,\u001b[0m \u001b[0;34m[\u001b[0m\u001b[0;34m]\u001b[0m\u001b[0;34m\u001b[0m\u001b[0;34m\u001b[0m\u001b[0m\n",
            "\u001b[0;32m/usr/local/lib/python3.8/dist-packages/torch/nn/modules/linear.py\u001b[0m in \u001b[0;36mforward\u001b[0;34m(self, input)\u001b[0m\n\u001b[1;32m    112\u001b[0m \u001b[0;34m\u001b[0m\u001b[0m\n\u001b[1;32m    113\u001b[0m     \u001b[0;32mdef\u001b[0m \u001b[0mforward\u001b[0m\u001b[0;34m(\u001b[0m\u001b[0mself\u001b[0m\u001b[0;34m,\u001b[0m \u001b[0minput\u001b[0m\u001b[0;34m:\u001b[0m \u001b[0mTensor\u001b[0m\u001b[0;34m)\u001b[0m \u001b[0;34m->\u001b[0m \u001b[0mTensor\u001b[0m\u001b[0;34m:\u001b[0m\u001b[0;34m\u001b[0m\u001b[0;34m\u001b[0m\u001b[0m\n\u001b[0;32m--> 114\u001b[0;31m         \u001b[0;32mreturn\u001b[0m \u001b[0mF\u001b[0m\u001b[0;34m.\u001b[0m\u001b[0mlinear\u001b[0m\u001b[0;34m(\u001b[0m\u001b[0minput\u001b[0m\u001b[0;34m,\u001b[0m \u001b[0mself\u001b[0m\u001b[0;34m.\u001b[0m\u001b[0mweight\u001b[0m\u001b[0;34m,\u001b[0m \u001b[0mself\u001b[0m\u001b[0;34m.\u001b[0m\u001b[0mbias\u001b[0m\u001b[0;34m)\u001b[0m\u001b[0;34m\u001b[0m\u001b[0;34m\u001b[0m\u001b[0m\n\u001b[0m\u001b[1;32m    115\u001b[0m \u001b[0;34m\u001b[0m\u001b[0m\n\u001b[1;32m    116\u001b[0m     \u001b[0;32mdef\u001b[0m \u001b[0mextra_repr\u001b[0m\u001b[0;34m(\u001b[0m\u001b[0mself\u001b[0m\u001b[0;34m)\u001b[0m \u001b[0;34m->\u001b[0m \u001b[0mstr\u001b[0m\u001b[0;34m:\u001b[0m\u001b[0;34m\u001b[0m\u001b[0;34m\u001b[0m\u001b[0m\n",
            "\u001b[0;31mKeyboardInterrupt\u001b[0m: "
          ]
        }
      ],
      "source": [
        "%%time\n",
        "total_step = len(dataloader)\n",
        "d_losses, g_losses, real_scores, fake_scores = [], [], [], []\n",
        "G.to(device)\n",
        "D.to(device)\n",
        "for epoch in tqdm(range(num_epochs)):\n",
        "    for i, (images, digit) in enumerate(dataloader):\n",
        "        # Load a batch & transform to vectors\n",
        "        images = images.reshape(batch_size, -1).to(device)\n",
        "        digit = digit.reshape(-1, 1).to(device)\n",
        "\n",
        "        # Train the discriminator and generator\n",
        "\n",
        "        d_loss, real_score, fake_score = train_discriminator(D, G, images, digit)\n",
        "        \n",
        "        g_loss, fake_images = train_generator(G, D)\n",
        "        \n",
        "\n",
        "        # Inspect the losses\n",
        "        if (i + 1) % 200 == 0:\n",
        "            d_losses.append(d_loss.item())\n",
        "            g_losses.append(g_loss.item())\n",
        "            real_scores.append(real_score.mean().item())\n",
        "            fake_scores.append(fake_score.mean().item())\n",
        "            print(\n",
        "                \"Epoch [{}/{}], Step [{}/{}], d_loss: {:.4f}, g_loss: {:.4f}, D(x): {:.2f}, D(G(z)): {:.2f}\".format(\n",
        "                    epoch,\n",
        "                    num_epochs,\n",
        "                    i + 1,\n",
        "                    total_step,\n",
        "                    d_loss.item(),\n",
        "                    g_loss.item(),\n",
        "                    real_score.mean().item(),\n",
        "                    fake_score.mean().item(),\n",
        "                )\n",
        "            )\n",
        "    # Sample and save images\n",
        "    save_fake_images(G, epoch + 1)"
      ]
    },
    {
      "cell_type": "markdown",
      "source": [
        "### Show your conditional generation results for each class independently"
      ],
      "metadata": {
        "collapsed": false,
        "id": "qL4swm8Hcr5Q"
      }
    },
    {
      "cell_type": "code",
      "execution_count": 21,
      "metadata": {
        "id": "hMubkbugcr5Q",
        "colab": {
          "base_uri": "https://localhost:8080/",
          "height": 612
        },
        "outputId": "cc35f7ec-a704-46ab-a777-9c79447f447f"
      },
      "outputs": [
        {
          "output_type": "execute_result",
          "data": {
            "text/plain": [
              "<matplotlib.image.AxesImage at 0x7f6c8bff62b0>"
            ]
          },
          "metadata": {},
          "execution_count": 21
        },
        {
          "output_type": "display_data",
          "data": {
            "text/plain": [
              "<Figure size 720x720 with 1 Axes>"
            ],
            "image/png": "[encoded data removed]"
          },
          "metadata": {}
        }
      ],
      "source": [
        "# show output after epochs training\n",
        "plt.figure(figsize=(10, 10))\n",
        "plt.grid(False)\n",
        "plt.imshow(np.asarray(Image.open(os.path.join(sample_dir, \"fake_images-0168.png\"))))"
      ]
    },
    {
      "cell_type": "code",
      "source": [],
      "metadata": {
        "id": "Ipac11HIkvBu"
      },
      "execution_count": null,
      "outputs": []
    }
  ],
  "metadata": {
    "colab": {
      "provenance": []
    },
    "kernelspec": {
      "display_name": "Python 3 (ipykernel)",
      "language": "python",
      "name": "python3"
    },
    "language_info": {
      "codemirror_mode": {
        "name": "ipython",
        "version": 3
      },
      "file_extension": ".py",
      "mimetype": "text/x-python",
      "name": "python",
      "nbconvert_exporter": "python",
      "pygments_lexer": "ipython3",
      "version": "3.9.7"
    },
    "gpuClass": "standard",
    "widgets": {
      "application/vnd.jupyter.widget-state+json": {
        "027e44f5035b4d718df699c2d922db0e": {
          "model_module": "@jupyter-widgets/controls",
          "model_name": "HBoxModel",
          "model_module_version": "1.5.0",
          "state": {
            "_dom_classes": [],
            "_model_module": "@jupyter-widgets/controls",
            "_model_module_version": "1.5.0",
            "_model_name": "HBoxModel",
            "_view_count": null,
            "_view_module": "@jupyter-widgets/controls",
            "_view_module_version": "1.5.0",
            "_view_name": "HBoxView",
            "box_style": "",
            "children": [
              "IPY_MODEL_319629acb7f948918abe0d35edc55c1d",
              "IPY_MODEL_f10e7022abb642eabf1274a640cfe4bf",
              "IPY_MODEL_2193078b188e4eb38560ff03e6b291f7"
            ],
            "layout": "IPY_MODEL_1417bc66358f49eca244590455404863"
          }
        },
        "319629acb7f948918abe0d35edc55c1d": {
          "model_module": "@jupyter-widgets/controls",
          "model_name": "HTMLModel",
          "model_module_version": "1.5.0",
          "state": {
            "_dom_classes": [],
            "_model_module": "@jupyter-widgets/controls",
            "_model_module_version": "1.5.0",
            "_model_name": "HTMLModel",
            "_view_count": null,
            "_view_module": "@jupyter-widgets/controls",
            "_view_module_version": "1.5.0",
            "_view_name": "HTMLView",
            "description": "",
            "description_tooltip": null,
            "layout": "IPY_MODEL_f00fdea7cf6a44539b73115c3681a402",
            "placeholder": "​",
            "style": "IPY_MODEL_c823c4403a0a4254820c44648c890ae2",
            "value": "100%"
          }
        },
        "f10e7022abb642eabf1274a640cfe4bf": {
          "model_module": "@jupyter-widgets/controls",
          "model_name": "FloatProgressModel",
          "model_module_version": "1.5.0",
          "state": {
            "_dom_classes": [],
            "_model_module": "@jupyter-widgets/controls",
            "_model_module_version": "1.5.0",
            "_model_name": "FloatProgressModel",
            "_view_count": null,
            "_view_module": "@jupyter-widgets/controls",
            "_view_module_version": "1.5.0",
            "_view_name": "ProgressView",
            "bar_style": "success",
            "description": "",
            "description_tooltip": null,
            "layout": "IPY_MODEL_f313378caf5441e6bee166239baecff7",
            "max": 9912422,
            "min": 0,
            "orientation": "horizontal",
            "style": "IPY_MODEL_a5b01d456cb042bb8d597e0d971d37f3",
            "value": 9912422
          }
        },
        "2193078b188e4eb38560ff03e6b291f7": {
          "model_module": "@jupyter-widgets/controls",
          "model_name": "HTMLModel",
          "model_module_version": "1.5.0",
          "state": {
            "_dom_classes": [],
            "_model_module": "@jupyter-widgets/controls",
            "_model_module_version": "1.5.0",
            "_model_name": "HTMLModel",
            "_view_count": null,
            "_view_module": "@jupyter-widgets/controls",
            "_view_module_version": "1.5.0",
            "_view_name": "HTMLView",
            "description": "",
            "description_tooltip": null,
            "layout": "IPY_MODEL_49fa410e278a498db66eb3941fd9d9db",
            "placeholder": "​",
            "style": "IPY_MODEL_298ab204fc1f463484decdfc39d8d993",
            "value": " 9912422/9912422 [00:00&lt;00:00, 26400861.24it/s]"
          }
        },
        "1417bc66358f49eca244590455404863": {
          "model_module": "@jupyter-widgets/base",
          "model_name": "LayoutModel",
          "model_module_version": "1.2.0",
          "state": {
            "_model_module": "@jupyter-widgets/base",
            "_model_module_version": "1.2.0",
            "_model_name": "LayoutModel",
            "_view_count": null,
            "_view_module": "@jupyter-widgets/base",
            "_view_module_version": "1.2.0",
            "_view_name": "LayoutView",
            "align_content": null,
            "align_items": null,
            "align_self": null,
            "border": null,
            "bottom": null,
            "display": null,
            "flex": null,
            "flex_flow": null,
            "grid_area": null,
            "grid_auto_columns": null,
            "grid_auto_flow": null,
            "grid_auto_rows": null,
            "grid_column": null,
            "grid_gap": null,
            "grid_row": null,
            "grid_template_areas": null,
            "grid_template_columns": null,
            "grid_template_rows": null,
            "height": null,
            "justify_content": null,
            "justify_items": null,
            "left": null,
            "margin": null,
            "max_height": null,
            "max_width": null,
            "min_height": null,
            "min_width": null,
            "object_fit": null,
            "object_position": null,
            "order": null,
            "overflow": null,
            "overflow_x": null,
            "overflow_y": null,
            "padding": null,
            "right": null,
            "top": null,
            "visibility": null,
            "width": null
          }
        },
        "f00fdea7cf6a44539b73115c3681a402": {
          "model_module": "@jupyter-widgets/base",
          "model_name": "LayoutModel",
          "model_module_version": "1.2.0",
          "state": {
            "_model_module": "@jupyter-widgets/base",
            "_model_module_version": "1.2.0",
            "_model_name": "LayoutModel",
            "_view_count": null,
            "_view_module": "@jupyter-widgets/base",
            "_view_module_version": "1.2.0",
            "_view_name": "LayoutView",
            "align_content": null,
            "align_items": null,
            "align_self": null,
            "border": null,
            "bottom": null,
            "display": null,
            "flex": null,
            "flex_flow": null,
            "grid_area": null,
            "grid_auto_columns": null,
            "grid_auto_flow": null,
            "grid_auto_rows": null,
            "grid_column": null,
            "grid_gap": null,
            "grid_row": null,
            "grid_template_areas": null,
            "grid_template_columns": null,
            "grid_template_rows": null,
            "height": null,
            "justify_content": null,
            "justify_items": null,
            "left": null,
            "margin": null,
            "max_height": null,
            "max_width": null,
            "min_height": null,
            "min_width": null,
            "object_fit": null,
            "object_position": null,
            "order": null,
            "overflow": null,
            "overflow_x": null,
            "overflow_y": null,
            "padding": null,
            "right": null,
            "top": null,
            "visibility": null,
            "width": null
          }
        },
        "c823c4403a0a4254820c44648c890ae2": {
          "model_module": "@jupyter-widgets/controls",
          "model_name": "DescriptionStyleModel",
          "model_module_version": "1.5.0",
          "state": {
            "_model_module": "@jupyter-widgets/controls",
            "_model_module_version": "1.5.0",
            "_model_name": "DescriptionStyleModel",
            "_view_count": null,
            "_view_module": "@jupyter-widgets/base",
            "_view_module_version": "1.2.0",
            "_view_name": "StyleView",
            "description_width": ""
          }
        },
        "f313378caf5441e6bee166239baecff7": {
          "model_module": "@jupyter-widgets/base",
          "model_name": "LayoutModel",
          "model_module_version": "1.2.0",
          "state": {
            "_model_module": "@jupyter-widgets/base",
            "_model_module_version": "1.2.0",
            "_model_name": "LayoutModel",
            "_view_count": null,
            "_view_module": "@jupyter-widgets/base",
            "_view_module_version": "1.2.0",
            "_view_name": "LayoutView",
            "align_content": null,
            "align_items": null,
            "align_self": null,
            "border": null,
            "bottom": null,
            "display": null,
            "flex": null,
            "flex_flow": null,
            "grid_area": null,
            "grid_auto_columns": null,
            "grid_auto_flow": null,
            "grid_auto_rows": null,
            "grid_column": null,
            "grid_gap": null,
            "grid_row": null,
            "grid_template_areas": null,
            "grid_template_columns": null,
            "grid_template_rows": null,
            "height": null,
            "justify_content": null,
            "justify_items": null,
            "left": null,
            "margin": null,
            "max_height": null,
            "max_width": null,
            "min_height": null,
            "min_width": null,
            "object_fit": null,
            "object_position": null,
            "order": null,
            "overflow": null,
            "overflow_x": null,
            "overflow_y": null,
            "padding": null,
            "right": null,
            "top": null,
            "visibility": null,
            "width": null
          }
        },
        "a5b01d456cb042bb8d597e0d971d37f3": {
          "model_module": "@jupyter-widgets/controls",
          "model_name": "ProgressStyleModel",
          "model_module_version": "1.5.0",
          "state": {
            "_model_module": "@jupyter-widgets/controls",
            "_model_module_version": "1.5.0",
            "_model_name": "ProgressStyleModel",
            "_view_count": null,
            "_view_module": "@jupyter-widgets/base",
            "_view_module_version": "1.2.0",
            "_view_name": "StyleView",
            "bar_color": null,
            "description_width": ""
          }
        },
        "49fa410e278a498db66eb3941fd9d9db": {
          "model_module": "@jupyter-widgets/base",
          "model_name": "LayoutModel",
          "model_module_version": "1.2.0",
          "state": {
            "_model_module": "@jupyter-widgets/base",
            "_model_module_version": "1.2.0",
            "_model_name": "LayoutModel",
            "_view_count": null,
            "_view_module": "@jupyter-widgets/base",
            "_view_module_version": "1.2.0",
            "_view_name": "LayoutView",
            "align_content": null,
            "align_items": null,
            "align_self": null,
            "border": null,
            "bottom": null,
            "display": null,
            "flex": null,
            "flex_flow": null,
            "grid_area": null,
            "grid_auto_columns": null,
            "grid_auto_flow": null,
            "grid_auto_rows": null,
            "grid_column": null,
            "grid_gap": null,
            "grid_row": null,
            "grid_template_areas": null,
            "grid_template_columns": null,
            "grid_template_rows": null,
            "height": null,
            "justify_content": null,
            "justify_items": null,
            "left": null,
            "margin": null,
            "max_height": null,
            "max_width": null,
            "min_height": null,
            "min_width": null,
            "object_fit": null,
            "object_position": null,
            "order": null,
            "overflow": null,
            "overflow_x": null,
            "overflow_y": null,
            "padding": null,
            "right": null,
            "top": null,
            "visibility": null,
            "width": null
          }
        },
        "298ab204fc1f463484decdfc39d8d993": {
          "model_module": "@jupyter-widgets/controls",
          "model_name": "DescriptionStyleModel",
          "model_module_version": "1.5.0",
          "state": {
            "_model_module": "@jupyter-widgets/controls",
            "_model_module_version": "1.5.0",
            "_model_name": "DescriptionStyleModel",
            "_view_count": null,
            "_view_module": "@jupyter-widgets/base",
            "_view_module_version": "1.2.0",
            "_view_name": "StyleView",
            "description_width": ""
          }
        },
        "a016aabd36e7456dbf2c9657121adf96": {
          "model_module": "@jupyter-widgets/controls",
          "model_name": "HBoxModel",
          "model_module_version": "1.5.0",
          "state": {
            "_dom_classes": [],
            "_model_module": "@jupyter-widgets/controls",
            "_model_module_version": "1.5.0",
            "_model_name": "HBoxModel",
            "_view_count": null,
            "_view_module": "@jupyter-widgets/controls",
            "_view_module_version": "1.5.0",
            "_view_name": "HBoxView",
            "box_style": "",
            "children": [
              "IPY_MODEL_618485874cb541f98c199afaec3ce044",
              "IPY_MODEL_5a998b1ee3584f0eb30b6c2b2cce21dd",
              "IPY_MODEL_9dcd8cabbc104988871061a60e4c8fc2"
            ],
            "layout": "IPY_MODEL_88dd268cfdff476d9d067763872dfeb8"
          }
        },
        "618485874cb541f98c199afaec3ce044": {
          "model_module": "@jupyter-widgets/controls",
          "model_name": "HTMLModel",
          "model_module_version": "1.5.0",
          "state": {
            "_dom_classes": [],
            "_model_module": "@jupyter-widgets/controls",
            "_model_module_version": "1.5.0",
            "_model_name": "HTMLModel",
            "_view_count": null,
            "_view_module": "@jupyter-widgets/controls",
            "_view_module_version": "1.5.0",
            "_view_name": "HTMLView",
            "description": "",
            "description_tooltip": null,
            "layout": "IPY_MODEL_9e913c95452044cf8f0a8c8cec14a5e5",
            "placeholder": "​",
            "style": "IPY_MODEL_1d018c9551d94f008bdafaf4b7b5d5bc",
            "value": "100%"
          }
        },
        "5a998b1ee3584f0eb30b6c2b2cce21dd": {
          "model_module": "@jupyter-widgets/controls",
          "model_name": "FloatProgressModel",
          "model_module_version": "1.5.0",
          "state": {
            "_dom_classes": [],
            "_model_module": "@jupyter-widgets/controls",
            "_model_module_version": "1.5.0",
            "_model_name": "FloatProgressModel",
            "_view_count": null,
            "_view_module": "@jupyter-widgets/controls",
            "_view_module_version": "1.5.0",
            "_view_name": "ProgressView",
            "bar_style": "success",
            "description": "",
            "description_tooltip": null,
            "layout": "IPY_MODEL_990d47d466c749f3a84e9fa703acce4d",
            "max": 28881,
            "min": 0,
            "orientation": "horizontal",
            "style": "IPY_MODEL_053f835d93c5443e9310c767e9ac8f34",
            "value": 28881
          }
        },
        "9dcd8cabbc104988871061a60e4c8fc2": {
          "model_module": "@jupyter-widgets/controls",
          "model_name": "HTMLModel",
          "model_module_version": "1.5.0",
          "state": {
            "_dom_classes": [],
            "_model_module": "@jupyter-widgets/controls",
            "_model_module_version": "1.5.0",
            "_model_name": "HTMLModel",
            "_view_count": null,
            "_view_module": "@jupyter-widgets/controls",
            "_view_module_version": "1.5.0",
            "_view_name": "HTMLView",
            "description": "",
            "description_tooltip": null,
            "layout": "IPY_MODEL_a9aac6ca42604760b241f8e557904a07",
            "placeholder": "​",
            "style": "IPY_MODEL_28e9fe457c9f4bc59ec8385c627e4eb1",
            "value": " 28881/28881 [00:00&lt;00:00, 1269566.57it/s]"
          }
        },
        "88dd268cfdff476d9d067763872dfeb8": {
          "model_module": "@jupyter-widgets/base",
          "model_name": "LayoutModel",
          "model_module_version": "1.2.0",
          "state": {
            "_model_module": "@jupyter-widgets/base",
            "_model_module_version": "1.2.0",
            "_model_name": "LayoutModel",
            "_view_count": null,
            "_view_module": "@jupyter-widgets/base",
            "_view_module_version": "1.2.0",
            "_view_name": "LayoutView",
            "align_content": null,
            "align_items": null,
            "align_self": null,
            "border": null,
            "bottom": null,
            "display": null,
            "flex": null,
            "flex_flow": null,
            "grid_area": null,
            "grid_auto_columns": null,
            "grid_auto_flow": null,
            "grid_auto_rows": null,
            "grid_column": null,
            "grid_gap": null,
            "grid_row": null,
            "grid_template_areas": null,
            "grid_template_columns": null,
            "grid_template_rows": null,
            "height": null,
            "justify_content": null,
            "justify_items": null,
            "left": null,
            "margin": null,
            "max_height": null,
            "max_width": null,
            "min_height": null,
            "min_width": null,
            "object_fit": null,
            "object_position": null,
            "order": null,
            "overflow": null,
            "overflow_x": null,
            "overflow_y": null,
            "padding": null,
            "right": null,
            "top": null,
            "visibility": null,
            "width": null
          }
        },
        "9e913c95452044cf8f0a8c8cec14a5e5": {
          "model_module": "@jupyter-widgets/base",
          "model_name": "LayoutModel",
          "model_module_version": "1.2.0",
          "state": {
            "_model_module": "@jupyter-widgets/base",
            "_model_module_version": "1.2.0",
            "_model_name": "LayoutModel",
            "_view_count": null,
            "_view_module": "@jupyter-widgets/base",
            "_view_module_version": "1.2.0",
            "_view_name": "LayoutView",
            "align_content": null,
            "align_items": null,
            "align_self": null,
            "border": null,
            "bottom": null,
            "display": null,
            "flex": null,
            "flex_flow": null,
            "grid_area": null,
            "grid_auto_columns": null,
            "grid_auto_flow": null,
            "grid_auto_rows": null,
            "grid_column": null,
            "grid_gap": null,
            "grid_row": null,
            "grid_template_areas": null,
            "grid_template_columns": null,
            "grid_template_rows": null,
            "height": null,
            "justify_content": null,
            "justify_items": null,
            "left": null,
            "margin": null,
            "max_height": null,
            "max_width": null,
            "min_height": null,
            "min_width": null,
            "object_fit": null,
            "object_position": null,
            "order": null,
            "overflow": null,
            "overflow_x": null,
            "overflow_y": null,
            "padding": null,
            "right": null,
            "top": null,
            "visibility": null,
            "width": null
          }
        },
        "1d018c9551d94f008bdafaf4b7b5d5bc": {
          "model_module": "@jupyter-widgets/controls",
          "model_name": "DescriptionStyleModel",
          "model_module_version": "1.5.0",
          "state": {
            "_model_module": "@jupyter-widgets/controls",
            "_model_module_version": "1.5.0",
            "_model_name": "DescriptionStyleModel",
            "_view_count": null,
            "_view_module": "@jupyter-widgets/base",
            "_view_module_version": "1.2.0",
            "_view_name": "StyleView",
            "description_width": ""
          }
        },
        "990d47d466c749f3a84e9fa703acce4d": {
          "model_module": "@jupyter-widgets/base",
          "model_name": "LayoutModel",
          "model_module_version": "1.2.0",
          "state": {
            "_model_module": "@jupyter-widgets/base",
            "_model_module_version": "1.2.0",
            "_model_name": "LayoutModel",
            "_view_count": null,
            "_view_module": "@jupyter-widgets/base",
            "_view_module_version": "1.2.0",
            "_view_name": "LayoutView",
            "align_content": null,
            "align_items": null,
            "align_self": null,
            "border": null,
            "bottom": null,
            "display": null,
            "flex": null,
            "flex_flow": null,
            "grid_area": null,
            "grid_auto_columns": null,
            "grid_auto_flow": null,
            "grid_auto_rows": null,
            "grid_column": null,
            "grid_gap": null,
            "grid_row": null,
            "grid_template_areas": null,
            "grid_template_columns": null,
            "grid_template_rows": null,
            "height": null,
            "justify_content": null,
            "justify_items": null,
            "left": null,
            "margin": null,
            "max_height": null,
            "max_width": null,
            "min_height": null,
            "min_width": null,
            "object_fit": null,
            "object_position": null,
            "order": null,
            "overflow": null,
            "overflow_x": null,
            "overflow_y": null,
            "padding": null,
            "right": null,
            "top": null,
            "visibility": null,
            "width": null
          }
        },
        "053f835d93c5443e9310c767e9ac8f34": {
          "model_module": "@jupyter-widgets/controls",
          "model_name": "ProgressStyleModel",
          "model_module_version": "1.5.0",
          "state": {
            "_model_module": "@jupyter-widgets/controls",
            "_model_module_version": "1.5.0",
            "_model_name": "ProgressStyleModel",
            "_view_count": null,
            "_view_module": "@jupyter-widgets/base",
            "_view_module_version": "1.2.0",
            "_view_name": "StyleView",
            "bar_color": null,
            "description_width": ""
          }
        },
        "a9aac6ca42604760b241f8e557904a07": {
          "model_module": "@jupyter-widgets/base",
          "model_name": "LayoutModel",
          "model_module_version": "1.2.0",
          "state": {
            "_model_module": "@jupyter-widgets/base",
            "_model_module_version": "1.2.0",
            "_model_name": "LayoutModel",
            "_view_count": null,
            "_view_module": "@jupyter-widgets/base",
            "_view_module_version": "1.2.0",
            "_view_name": "LayoutView",
            "align_content": null,
            "align_items": null,
            "align_self": null,
            "border": null,
            "bottom": null,
            "display": null,
            "flex": null,
            "flex_flow": null,
            "grid_area": null,
            "grid_auto_columns": null,
            "grid_auto_flow": null,
            "grid_auto_rows": null,
            "grid_column": null,
            "grid_gap": null,
            "grid_row": null,
            "grid_template_areas": null,
            "grid_template_columns": null,
            "grid_template_rows": null,
            "height": null,
            "justify_content": null,
            "justify_items": null,
            "left": null,
            "margin": null,
            "max_height": null,
            "max_width": null,
            "min_height": null,
            "min_width": null,
            "object_fit": null,
            "object_position": null,
            "order": null,
            "overflow": null,
            "overflow_x": null,
            "overflow_y": null,
            "padding": null,
            "right": null,
            "top": null,
            "visibility": null,
            "width": null
          }
        },
        "28e9fe457c9f4bc59ec8385c627e4eb1": {
          "model_module": "@jupyter-widgets/controls",
          "model_name": "DescriptionStyleModel",
          "model_module_version": "1.5.0",
          "state": {
            "_model_module": "@jupyter-widgets/controls",
            "_model_module_version": "1.5.0",
            "_model_name": "DescriptionStyleModel",
            "_view_count": null,
            "_view_module": "@jupyter-widgets/base",
            "_view_module_version": "1.2.0",
            "_view_name": "StyleView",
            "description_width": ""
          }
        },
        "629d0af1a9a74a059e0e2f575a98bf35": {
          "model_module": "@jupyter-widgets/controls",
          "model_name": "HBoxModel",
          "model_module_version": "1.5.0",
          "state": {
            "_dom_classes": [],
            "_model_module": "@jupyter-widgets/controls",
            "_model_module_version": "1.5.0",
            "_model_name": "HBoxModel",
            "_view_count": null,
            "_view_module": "@jupyter-widgets/controls",
            "_view_module_version": "1.5.0",
            "_view_name": "HBoxView",
            "box_style": "",
            "children": [
              "IPY_MODEL_cd636d28563b4d52aec2427ce19135bc",
              "IPY_MODEL_c1d59c69346f4deab519ad1702f0ca49",
              "IPY_MODEL_fdc35665281445adb220c36ded4a7a44"
            ],
            "layout": "IPY_MODEL_2dd880b2079f46e98e111d81b57eab09"
          }
        },
        "cd636d28563b4d52aec2427ce19135bc": {
          "model_module": "@jupyter-widgets/controls",
          "model_name": "HTMLModel",
          "model_module_version": "1.5.0",
          "state": {
            "_dom_classes": [],
            "_model_module": "@jupyter-widgets/controls",
            "_model_module_version": "1.5.0",
            "_model_name": "HTMLModel",
            "_view_count": null,
            "_view_module": "@jupyter-widgets/controls",
            "_view_module_version": "1.5.0",
            "_view_name": "HTMLView",
            "description": "",
            "description_tooltip": null,
            "layout": "IPY_MODEL_01ff0966a2d144788fc2a0969e05bd4e",
            "placeholder": "​",
            "style": "IPY_MODEL_528fd657629241c996b7965756008295",
            "value": "100%"
          }
        },
        "c1d59c69346f4deab519ad1702f0ca49": {
          "model_module": "@jupyter-widgets/controls",
          "model_name": "FloatProgressModel",
          "model_module_version": "1.5.0",
          "state": {
            "_dom_classes": [],
            "_model_module": "@jupyter-widgets/controls",
            "_model_module_version": "1.5.0",
            "_model_name": "FloatProgressModel",
            "_view_count": null,
            "_view_module": "@jupyter-widgets/controls",
            "_view_module_version": "1.5.0",
            "_view_name": "ProgressView",
            "bar_style": "success",
            "description": "",
            "description_tooltip": null,
            "layout": "IPY_MODEL_09c560b3a5554baab48bfa297543b4a4",
            "max": 1648877,
            "min": 0,
            "orientation": "horizontal",
            "style": "IPY_MODEL_c813d0bef65746d9a8b93efa090c9480",
            "value": 1648877
          }
        },
        "fdc35665281445adb220c36ded4a7a44": {
          "model_module": "@jupyter-widgets/controls",
          "model_name": "HTMLModel",
          "model_module_version": "1.5.0",
          "state": {
            "_dom_classes": [],
            "_model_module": "@jupyter-widgets/controls",
            "_model_module_version": "1.5.0",
            "_model_name": "HTMLModel",
            "_view_count": null,
            "_view_module": "@jupyter-widgets/controls",
            "_view_module_version": "1.5.0",
            "_view_name": "HTMLView",
            "description": "",
            "description_tooltip": null,
            "layout": "IPY_MODEL_b3759672de224acb8758e8dc9f7483e4",
            "placeholder": "​",
            "style": "IPY_MODEL_7ed18451a5ec4bbfa5896c75191e21c1",
            "value": " 1648877/1648877 [00:00&lt;00:00, 29565704.77it/s]"
          }
        },
        "2dd880b2079f46e98e111d81b57eab09": {
          "model_module": "@jupyter-widgets/base",
          "model_name": "LayoutModel",
          "model_module_version": "1.2.0",
          "state": {
            "_model_module": "@jupyter-widgets/base",
            "_model_module_version": "1.2.0",
            "_model_name": "LayoutModel",
            "_view_count": null,
            "_view_module": "@jupyter-widgets/base",
            "_view_module_version": "1.2.0",
            "_view_name": "LayoutView",
            "align_content": null,
            "align_items": null,
            "align_self": null,
            "border": null,
            "bottom": null,
            "display": null,
            "flex": null,
            "flex_flow": null,
            "grid_area": null,
            "grid_auto_columns": null,
            "grid_auto_flow": null,
            "grid_auto_rows": null,
            "grid_column": null,
            "grid_gap": null,
            "grid_row": null,
            "grid_template_areas": null,
            "grid_template_columns": null,
            "grid_template_rows": null,
            "height": null,
            "justify_content": null,
            "justify_items": null,
            "left": null,
            "margin": null,
            "max_height": null,
            "max_width": null,
            "min_height": null,
            "min_width": null,
            "object_fit": null,
            "object_position": null,
            "order": null,
            "overflow": null,
            "overflow_x": null,
            "overflow_y": null,
            "padding": null,
            "right": null,
            "top": null,
            "visibility": null,
            "width": null
          }
        },
        "01ff0966a2d144788fc2a0969e05bd4e": {
          "model_module": "@jupyter-widgets/base",
          "model_name": "LayoutModel",
          "model_module_version": "1.2.0",
          "state": {
            "_model_module": "@jupyter-widgets/base",
            "_model_module_version": "1.2.0",
            "_model_name": "LayoutModel",
            "_view_count": null,
            "_view_module": "@jupyter-widgets/base",
            "_view_module_version": "1.2.0",
            "_view_name": "LayoutView",
            "align_content": null,
            "align_items": null,
            "align_self": null,
            "border": null,
            "bottom": null,
            "display": null,
            "flex": null,
            "flex_flow": null,
            "grid_area": null,
            "grid_auto_columns": null,
            "grid_auto_flow": null,
            "grid_auto_rows": null,
            "grid_column": null,
            "grid_gap": null,
            "grid_row": null,
            "grid_template_areas": null,
            "grid_template_columns": null,
            "grid_template_rows": null,
            "height": null,
            "justify_content": null,
            "justify_items": null,
            "left": null,
            "margin": null,
            "max_height": null,
            "max_width": null,
            "min_height": null,
            "min_width": null,
            "object_fit": null,
            "object_position": null,
            "order": null,
            "overflow": null,
            "overflow_x": null,
            "overflow_y": null,
            "padding": null,
            "right": null,
            "top": null,
            "visibility": null,
            "width": null
          }
        },
        "528fd657629241c996b7965756008295": {
          "model_module": "@jupyter-widgets/controls",
          "model_name": "DescriptionStyleModel",
          "model_module_version": "1.5.0",
          "state": {
            "_model_module": "@jupyter-widgets/controls",
            "_model_module_version": "1.5.0",
            "_model_name": "DescriptionStyleModel",
            "_view_count": null,
            "_view_module": "@jupyter-widgets/base",
            "_view_module_version": "1.2.0",
            "_view_name": "StyleView",
            "description_width": ""
          }
        },
        "09c560b3a5554baab48bfa297543b4a4": {
          "model_module": "@jupyter-widgets/base",
          "model_name": "LayoutModel",
          "model_module_version": "1.2.0",
          "state": {
            "_model_module": "@jupyter-widgets/base",
            "_model_module_version": "1.2.0",
            "_model_name": "LayoutModel",
            "_view_count": null,
            "_view_module": "@jupyter-widgets/base",
            "_view_module_version": "1.2.0",
            "_view_name": "LayoutView",
            "align_content": null,
            "align_items": null,
            "align_self": null,
            "border": null,
            "bottom": null,
            "display": null,
            "flex": null,
            "flex_flow": null,
            "grid_area": null,
            "grid_auto_columns": null,
            "grid_auto_flow": null,
            "grid_auto_rows": null,
            "grid_column": null,
            "grid_gap": null,
            "grid_row": null,
            "grid_template_areas": null,
            "grid_template_columns": null,
            "grid_template_rows": null,
            "height": null,
            "justify_content": null,
            "justify_items": null,
            "left": null,
            "margin": null,
            "max_height": null,
            "max_width": null,
            "min_height": null,
            "min_width": null,
            "object_fit": null,
            "object_position": null,
            "order": null,
            "overflow": null,
            "overflow_x": null,
            "overflow_y": null,
            "padding": null,
            "right": null,
            "top": null,
            "visibility": null,
            "width": null
          }
        },
        "c813d0bef65746d9a8b93efa090c9480": {
          "model_module": "@jupyter-widgets/controls",
          "model_name": "ProgressStyleModel",
          "model_module_version": "1.5.0",
          "state": {
            "_model_module": "@jupyter-widgets/controls",
            "_model_module_version": "1.5.0",
            "_model_name": "ProgressStyleModel",
            "_view_count": null,
            "_view_module": "@jupyter-widgets/base",
            "_view_module_version": "1.2.0",
            "_view_name": "StyleView",
            "bar_color": null,
            "description_width": ""
          }
        },
        "b3759672de224acb8758e8dc9f7483e4": {
          "model_module": "@jupyter-widgets/base",
          "model_name": "LayoutModel",
          "model_module_version": "1.2.0",
          "state": {
            "_model_module": "@jupyter-widgets/base",
            "_model_module_version": "1.2.0",
            "_model_name": "LayoutModel",
            "_view_count": null,
            "_view_module": "@jupyter-widgets/base",
            "_view_module_version": "1.2.0",
            "_view_name": "LayoutView",
            "align_content": null,
            "align_items": null,
            "align_self": null,
            "border": null,
            "bottom": null,
            "display": null,
            "flex": null,
            "flex_flow": null,
            "grid_area": null,
            "grid_auto_columns": null,
            "grid_auto_flow": null,
            "grid_auto_rows": null,
            "grid_column": null,
            "grid_gap": null,
            "grid_row": null,
            "grid_template_areas": null,
            "grid_template_columns": null,
            "grid_template_rows": null,
            "height": null,
            "justify_content": null,
            "justify_items": null,
            "left": null,
            "margin": null,
            "max_height": null,
            "max_width": null,
            "min_height": null,
            "min_width": null,
            "object_fit": null,
            "object_position": null,
            "order": null,
            "overflow": null,
            "overflow_x": null,
            "overflow_y": null,
            "padding": null,
            "right": null,
            "top": null,
            "visibility": null,
            "width": null
          }
        },
        "7ed18451a5ec4bbfa5896c75191e21c1": {
          "model_module": "@jupyter-widgets/controls",
          "model_name": "DescriptionStyleModel",
          "model_module_version": "1.5.0",
          "state": {
            "_model_module": "@jupyter-widgets/controls",
            "_model_module_version": "1.5.0",
            "_model_name": "DescriptionStyleModel",
            "_view_count": null,
            "_view_module": "@jupyter-widgets/base",
            "_view_module_version": "1.2.0",
            "_view_name": "StyleView",
            "description_width": ""
          }
        },
        "bc6c79c7413149adaabf72f204e747bb": {
          "model_module": "@jupyter-widgets/controls",
          "model_name": "HBoxModel",
          "model_module_version": "1.5.0",
          "state": {
            "_dom_classes": [],
            "_model_module": "@jupyter-widgets/controls",
            "_model_module_version": "1.5.0",
            "_model_name": "HBoxModel",
            "_view_count": null,
            "_view_module": "@jupyter-widgets/controls",
            "_view_module_version": "1.5.0",
            "_view_name": "HBoxView",
            "box_style": "",
            "children": [
              "IPY_MODEL_7d92e78f4a3345ddae08e310affce1c2",
              "IPY_MODEL_72231cb69d43455c8fcc5fe159cda462",
              "IPY_MODEL_53c7f3232494423190edc7f6470191b0"
            ],
            "layout": "IPY_MODEL_e885b079bc58448587a02e8e06ce4f2c"
          }
        },
        "7d92e78f4a3345ddae08e310affce1c2": {
          "model_module": "@jupyter-widgets/controls",
          "model_name": "HTMLModel",
          "model_module_version": "1.5.0",
          "state": {
            "_dom_classes": [],
            "_model_module": "@jupyter-widgets/controls",
            "_model_module_version": "1.5.0",
            "_model_name": "HTMLModel",
            "_view_count": null,
            "_view_module": "@jupyter-widgets/controls",
            "_view_module_version": "1.5.0",
            "_view_name": "HTMLView",
            "description": "",
            "description_tooltip": null,
            "layout": "IPY_MODEL_e16d984b363045a5836c1423b0ab2fbd",
            "placeholder": "​",
            "style": "IPY_MODEL_66d490c7c71446f2ba5225f039470e0d",
            "value": "100%"
          }
        },
        "72231cb69d43455c8fcc5fe159cda462": {
          "model_module": "@jupyter-widgets/controls",
          "model_name": "FloatProgressModel",
          "model_module_version": "1.5.0",
          "state": {
            "_dom_classes": [],
            "_model_module": "@jupyter-widgets/controls",
            "_model_module_version": "1.5.0",
            "_model_name": "FloatProgressModel",
            "_view_count": null,
            "_view_module": "@jupyter-widgets/controls",
            "_view_module_version": "1.5.0",
            "_view_name": "ProgressView",
            "bar_style": "success",
            "description": "",
            "description_tooltip": null,
            "layout": "IPY_MODEL_08fdca4a12a7489eaafd047b914bdeb2",
            "max": 4542,
            "min": 0,
            "orientation": "horizontal",
            "style": "IPY_MODEL_8115dc53775a46df9829b4a0f27af5d9",
            "value": 4542
          }
        },
        "53c7f3232494423190edc7f6470191b0": {
          "model_module": "@jupyter-widgets/controls",
          "model_name": "HTMLModel",
          "model_module_version": "1.5.0",
          "state": {
            "_dom_classes": [],
            "_model_module": "@jupyter-widgets/controls",
            "_model_module_version": "1.5.0",
            "_model_name": "HTMLModel",
            "_view_count": null,
            "_view_module": "@jupyter-widgets/controls",
            "_view_module_version": "1.5.0",
            "_view_name": "HTMLView",
            "description": "",
            "description_tooltip": null,
            "layout": "IPY_MODEL_523b896e85e04140ab8260af4bc27a46",
            "placeholder": "​",
            "style": "IPY_MODEL_5b924c79a6824633884ec51d5c424f90",
            "value": " 4542/4542 [00:00&lt;00:00, 175240.12it/s]"
          }
        },
        "e885b079bc58448587a02e8e06ce4f2c": {
          "model_module": "@jupyter-widgets/base",
          "model_name": "LayoutModel",
          "model_module_version": "1.2.0",
          "state": {
            "_model_module": "@jupyter-widgets/base",
            "_model_module_version": "1.2.0",
            "_model_name": "LayoutModel",
            "_view_count": null,
            "_view_module": "@jupyter-widgets/base",
            "_view_module_version": "1.2.0",
            "_view_name": "LayoutView",
            "align_content": null,
            "align_items": null,
            "align_self": null,
            "border": null,
            "bottom": null,
            "display": null,
            "flex": null,
            "flex_flow": null,
            "grid_area": null,
            "grid_auto_columns": null,
            "grid_auto_flow": null,
            "grid_auto_rows": null,
            "grid_column": null,
            "grid_gap": null,
            "grid_row": null,
            "grid_template_areas": null,
            "grid_template_columns": null,
            "grid_template_rows": null,
            "height": null,
            "justify_content": null,
            "justify_items": null,
            "left": null,
            "margin": null,
            "max_height": null,
            "max_width": null,
            "min_height": null,
            "min_width": null,
            "object_fit": null,
            "object_position": null,
            "order": null,
            "overflow": null,
            "overflow_x": null,
            "overflow_y": null,
            "padding": null,
            "right": null,
            "top": null,
            "visibility": null,
            "width": null
          }
        },
        "e16d984b363045a5836c1423b0ab2fbd": {
          "model_module": "@jupyter-widgets/base",
          "model_name": "LayoutModel",
          "model_module_version": "1.2.0",
          "state": {
            "_model_module": "@jupyter-widgets/base",
            "_model_module_version": "1.2.0",
            "_model_name": "LayoutModel",
            "_view_count": null,
            "_view_module": "@jupyter-widgets/base",
            "_view_module_version": "1.2.0",
            "_view_name": "LayoutView",
            "align_content": null,
            "align_items": null,
            "align_self": null,
            "border": null,
            "bottom": null,
            "display": null,
            "flex": null,
            "flex_flow": null,
            "grid_area": null,
            "grid_auto_columns": null,
            "grid_auto_flow": null,
            "grid_auto_rows": null,
            "grid_column": null,
            "grid_gap": null,
            "grid_row": null,
            "grid_template_areas": null,
            "grid_template_columns": null,
            "grid_template_rows": null,
            "height": null,
            "justify_content": null,
            "justify_items": null,
            "left": null,
            "margin": null,
            "max_height": null,
            "max_width": null,
            "min_height": null,
            "min_width": null,
            "object_fit": null,
            "object_position": null,
            "order": null,
            "overflow": null,
            "overflow_x": null,
            "overflow_y": null,
            "padding": null,
            "right": null,
            "top": null,
            "visibility": null,
            "width": null
          }
        },
        "66d490c7c71446f2ba5225f039470e0d": {
          "model_module": "@jupyter-widgets/controls",
          "model_name": "DescriptionStyleModel",
          "model_module_version": "1.5.0",
          "state": {
            "_model_module": "@jupyter-widgets/controls",
            "_model_module_version": "1.5.0",
            "_model_name": "DescriptionStyleModel",
            "_view_count": null,
            "_view_module": "@jupyter-widgets/base",
            "_view_module_version": "1.2.0",
            "_view_name": "StyleView",
            "description_width": ""
          }
        },
        "08fdca4a12a7489eaafd047b914bdeb2": {
          "model_module": "@jupyter-widgets/base",
          "model_name": "LayoutModel",
          "model_module_version": "1.2.0",
          "state": {
            "_model_module": "@jupyter-widgets/base",
            "_model_module_version": "1.2.0",
            "_model_name": "LayoutModel",
            "_view_count": null,
            "_view_module": "@jupyter-widgets/base",
            "_view_module_version": "1.2.0",
            "_view_name": "LayoutView",
            "align_content": null,
            "align_items": null,
            "align_self": null,
            "border": null,
            "bottom": null,
            "display": null,
            "flex": null,
            "flex_flow": null,
            "grid_area": null,
            "grid_auto_columns": null,
            "grid_auto_flow": null,
            "grid_auto_rows": null,
            "grid_column": null,
            "grid_gap": null,
            "grid_row": null,
            "grid_template_areas": null,
            "grid_template_columns": null,
            "grid_template_rows": null,
            "height": null,
            "justify_content": null,
            "justify_items": null,
            "left": null,
            "margin": null,
            "max_height": null,
            "max_width": null,
            "min_height": null,
            "min_width": null,
            "object_fit": null,
            "object_position": null,
            "order": null,
            "overflow": null,
            "overflow_x": null,
            "overflow_y": null,
            "padding": null,
            "right": null,
            "top": null,
            "visibility": null,
            "width": null
          }
        },
        "8115dc53775a46df9829b4a0f27af5d9": {
          "model_module": "@jupyter-widgets/controls",
          "model_name": "ProgressStyleModel",
          "model_module_version": "1.5.0",
          "state": {
            "_model_module": "@jupyter-widgets/controls",
            "_model_module_version": "1.5.0",
            "_model_name": "ProgressStyleModel",
            "_view_count": null,
            "_view_module": "@jupyter-widgets/base",
            "_view_module_version": "1.2.0",
            "_view_name": "StyleView",
            "bar_color": null,
            "description_width": ""
          }
        },
        "523b896e85e04140ab8260af4bc27a46": {
          "model_module": "@jupyter-widgets/base",
          "model_name": "LayoutModel",
          "model_module_version": "1.2.0",
          "state": {
            "_model_module": "@jupyter-widgets/base",
            "_model_module_version": "1.2.0",
            "_model_name": "LayoutModel",
            "_view_count": null,
            "_view_module": "@jupyter-widgets/base",
            "_view_module_version": "1.2.0",
            "_view_name": "LayoutView",
            "align_content": null,
            "align_items": null,
            "align_self": null,
            "border": null,
            "bottom": null,
            "display": null,
            "flex": null,
            "flex_flow": null,
            "grid_area": null,
            "grid_auto_columns": null,
            "grid_auto_flow": null,
            "grid_auto_rows": null,
            "grid_column": null,
            "grid_gap": null,
            "grid_row": null,
            "grid_template_areas": null,
            "grid_template_columns": null,
            "grid_template_rows": null,
            "height": null,
            "justify_content": null,
            "justify_items": null,
            "left": null,
            "margin": null,
            "max_height": null,
            "max_width": null,
            "min_height": null,
            "min_width": null,
            "object_fit": null,
            "object_position": null,
            "order": null,
            "overflow": null,
            "overflow_x": null,
            "overflow_y": null,
            "padding": null,
            "right": null,
            "top": null,
            "visibility": null,
            "width": null
          }
        },
        "5b924c79a6824633884ec51d5c424f90": {
          "model_module": "@jupyter-widgets/controls",
          "model_name": "DescriptionStyleModel",
          "model_module_version": "1.5.0",
          "state": {
            "_model_module": "@jupyter-widgets/controls",
            "_model_module_version": "1.5.0",
            "_model_name": "DescriptionStyleModel",
            "_view_count": null,
            "_view_module": "@jupyter-widgets/base",
            "_view_module_version": "1.2.0",
            "_view_name": "StyleView",
            "description_width": ""
          }
        }
      }
    }
  },
  "nbformat": 4,
  "nbformat_minor": 0
}